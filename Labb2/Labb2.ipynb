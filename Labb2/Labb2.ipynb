{
 "cells": [
  {
   "cell_type": "code",
   "execution_count": 5,
   "metadata": {},
   "outputs": [
    {
     "data": {
      "image/png": "[encoded data removed]",
      "text/plain": [
       "<Figure size 640x480 with 1 Axes>"
      ]
     },
     "metadata": {},
     "output_type": "display_data"
    }
   ],
   "source": [
    "import matplotlib.pyplot as plt\n",
    "import math\n",
    "\n",
    "with open(\"datapoints.txt\", \"r\") as f_read:\n",
    "\n",
    "    data = f_read.readlines()\n",
    "    data = data[1:]\n",
    "\n",
    "    data_points = [i.replace(\"\\n\", \"\") for i in data]\n",
    "    data_points = [i.split(\",\") for i in data_points]\n",
    "    \n",
    "    # converting strings from \"datapoints.txt\" to floats\n",
    "    clean_data_points = []\n",
    "    for i in data_points:\n",
    "        clean_data_points.append([float(i[0]), float(i[1]), float(i[2])])\n",
    "\n",
    "    # plotting data points after cleaning them\n",
    "    for i in range(len(clean_data_points)):\n",
    "        if clean_data_points[i][2] == 0:\n",
    "            plt.plot(clean_data_points[i][0], clean_data_points[i][1], 'o', color = \"red\")\n",
    "        elif clean_data_points[i][2] == 1:\n",
    "            plt.plot(clean_data_points[i][0], clean_data_points[i][1], 'o', color = \"blue\")\n",
    "        \n",
    "    plt.xlabel(\"Width\")\n",
    "    plt.ylabel(\"Height\")\n",
    "    plt.grid()\n",
    "\n",
    "    # print(clean_data_points)\n",
    "    \n",
    "with open(\"testpoints.txt\", \"r\") as f:\n",
    "\n",
    "    test_points = f.readlines()\n",
    "    test_points = test_points[1:]\n",
    "    test_points = [i.replace(\"\\n\", \"\") for i in test_points]\n",
    "    test_points = [i.split(\". \") for i in test_points]\n",
    "\n",
    "    new_list = []\n",
    "    for i in test_points:\n",
    "        lst = i[1]\n",
    "        new_list.append(lst)\n",
    "\n",
    "    new_list = [i.strip(\"(\") for i in new_list]\n",
    "    new_list = [i.strip(\")\") for i in new_list]\n",
    "    new_list = [i.split(\" ,\") for i in new_list]\n",
    "    new_list = [i[0].split(\", \") for i in new_list] \n",
    "    \n",
    "    clean_test_points = []\n",
    "    for i in new_list:\n",
    "            clean_test_points.append([float(i[0]), float(i[1])])\n",
    "    \n",
    "    # print(clean_test_points)\n",
    "\n"
   ]
  },
  {
   "cell_type": "code",
   "execution_count": 6,
   "metadata": {},
   "outputs": [
    {
     "name": "stdout",
     "output_type": "stream",
     "text": [
      "(25.0, 32.0) is classified as Pikachu\n",
      "(24.2, 31.5) is classified as Pikachu\n",
      "(22.0, 34.0) is classified as Pikachu\n",
      "(20.5, 34.0) is classified as Pichu\n"
     ]
    }
   ],
   "source": [
    "def distance(x1, y1, x2, y2):\n",
    "    return math.sqrt((x2-x1)**2 + (y2-y1)**2)\n",
    "\n",
    "for i in clean_test_points:\n",
    "    distances = []\n",
    "    for j in clean_data_points:\n",
    "        # calculate the distance between the test points and data points\n",
    "        distances.append(distance(i[0], i[1], j[0], j[1]))\n",
    "    \n",
    "    # find the minimum distance\n",
    "    min_dist = min(distances)\n",
    "    # find out the index of the minimum distance\n",
    "    index = distances.index(min_dist)\n",
    "\n",
    "    # closest point is classified as Pichu, otherwise it's Pikachu\n",
    "    if clean_data_points[index][2] == 0:\n",
    "        print(f\"({i[0]}, {i[1]}) is classified as Pichu\")\n",
    "    else:\n",
    "        print(f\"({i[0]}, {i[1]}) is classified as Pikachu\")"
   ]
  },
  {
   "cell_type": "code",
   "execution_count": 7,
   "metadata": {},
   "outputs": [],
   "source": [
    "def user_input():\n",
    "    while True:\n",
    "        try:\n",
    "            width = float(input(\"Enter width: \"))\n",
    "            height = float(input(\"Enter height: \"))\n",
    "            if width < 0 or height < 0: # error handling for negative numbers\n",
    "                print(\"Neither width nor height can be negative\")\n",
    "                continue # go back to the beginning of the loop\n",
    "            else: # if the user enters a valid input\n",
    "                break # break out of the loop\n",
    "        except ValueError as err:\n",
    "            print(\"Width and height should be numbers\")\n",
    "    return width, height"
   ]
  },
  {
   "cell_type": "code",
   "execution_count": 8,
   "metadata": {},
   "outputs": [
    {
     "name": "stdout",
     "output_type": "stream",
     "text": [
      "Neither width nor height can be negative\n",
      "Width and height should be numbers\n",
      "(32.0, 32.0) is classified as Pikachu\n"
     ]
    }
   ],
   "source": [
    "def classify(width, height):\n",
    "    distances = []\n",
    "    for i in clean_data_points:\n",
    "        distances.append(distance(width, height, i[0], i[1]))\n",
    "\n",
    "    min_dist = min(distances)\n",
    "    index = distances.index(min_dist)\n",
    "\n",
    "    if clean_data_points[index][2] == 0:\n",
    "        print(f\"({width}, {height}) is classified as Pichu\")\n",
    "    else:\n",
    "        print(f\"({width}, {height}) is classified as Pikachu\")\n",
    "\n",
    "# unpack the values returned by the user_input with the star operator and send them as 2 arguments to the classify function\n",
    "classify(*user_input())"
   ]
  },
  {
   "cell_type": "code",
   "execution_count": null,
   "metadata": {},
   "outputs": [],
   "source": []
  }
 ],
 "metadata": {
  "kernelspec": {
   "display_name": "Python 3.9.13 ('Python-Elias-El-Haddad-KdAe7nXC')",
   "language": "python",
   "name": "python3"
  },
  "language_info": {
   "codemirror_mode": {
    "name": "ipython",
    "version": 3
   },
   "file_extension": ".py",
   "mimetype": "text/x-python",
   "name": "python",
   "nbconvert_exporter": "python",
   "pygments_lexer": "ipython3",
   "version": "3.9.13"
  },
  "orig_nbformat": 4,
  "vscode": {
   "interpreter": {
    "hash": "e66b0b6841b8a65024e468e80548b1ced47ff1ba5bbf1edee51c862e3cd59c08"
   }
  }
 },
 "nbformat": 4,
 "nbformat_minor": 2
}
