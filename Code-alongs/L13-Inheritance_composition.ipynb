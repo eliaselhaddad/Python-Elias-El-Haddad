{
 "cells": [
  {
   "cell_type": "markdown",
   "metadata": {},
   "source": [
    "## Inheritance and composition\n"
   ]
  },
  {
   "cell_type": "code",
   "execution_count": 1,
   "metadata": {},
   "outputs": [
    {
     "name": "stdout",
     "output_type": "stream",
     "text": [
      "Person Ada says hi\n",
      "<__main__.Student object at 0x000001D46AA5AEE0>\n",
      "4234 is not a valid name\n"
     ]
    }
   ],
   "source": [
    "import re\n",
    "\n",
    "class Person:\n",
    "    def __init__(self, name: str, age: int) -> None:\n",
    "        self.age = age\n",
    "        self.name = name\n",
    "\n",
    "    @property\n",
    "    def age(self) -> int:\n",
    "        return self._age\n",
    "\n",
    "    @age.setter\n",
    "    def age(self, value: int) -> None:\n",
    "        if not isinstance(value, int):\n",
    "            raise TypeError(f\"Age must be int or float not {type(value).__name__}\")\n",
    "        self._age = value\n",
    "\n",
    "    @property\n",
    "    def name(self) -> str:\n",
    "        return self._name\n",
    "    \n",
    "    @name.setter\n",
    "    def name(self, value: str) -> None:\n",
    "        # bug in this regexp \n",
    "        if re.search(r\"^[A-ö]+(\\s[A-ö]+)?$\", value.strip()) is None:\n",
    "            raise ValueError(f\"{value.strip()} is not a valid name\")\n",
    "\n",
    "        self._name = value\n",
    "\n",
    "    def say_hi(self) -> None:\n",
    "        print(f\"Person {self.name} says hi\")\n",
    "\n",
    "# synonyms: Subclass(Superclass), ChildClass(ParentClass), DerivedClass(BaseClass) - inheritance\n",
    "class Student(Person):\n",
    "    pass\n",
    "\n",
    "# student1 uses __init__() from its parent class\n",
    "student1 = Student(\"Ada\", 42)\n",
    "\n",
    "# student1 uses say_hi() from its parent class\n",
    "student1.say_hi()\n",
    "\n",
    "# so goes up in inheritance chain and finds __repr__ in object class \n",
    "print(student1)\n",
    "\n",
    "try: \n",
    "    p = Person(\"  4234\", 52)\n",
    "except ValueError as err:\n",
    "    print(err)"
   ]
  },
  {
   "cell_type": "markdown",
   "metadata": {},
   "source": [
    "## Update classes\n"
   ]
  },
  {
   "cell_type": "code",
   "execution_count": 2,
   "metadata": {},
   "outputs": [
    {
     "name": "stdout",
     "output_type": "stream",
     "text": [
      "OldCoinStash(owner='Ivar')\n",
      "Coins in stash: 0 riksdaler, 0 skilling\n",
      "--------------------------------------------------\n",
      "Student Urban Lindström speaks Java\n",
      "Person Bodil says hi\n",
      "Person Ivar says hi\n"
     ]
    }
   ],
   "source": [
    "import re\n",
    "from oldcoins import OldCoinsStash\n",
    "\n",
    "class Person:\n",
    "    def __init__(self, name: str, age: int) -> None:\n",
    "        self.age = age\n",
    "        self.name = name\n",
    "\n",
    "    @property\n",
    "    def age(self) -> int:\n",
    "        return self._age\n",
    "\n",
    "    @age.setter\n",
    "    def age(self, value: int) -> None:\n",
    "        if not isinstance(value, int):\n",
    "            raise TypeError(f\"Age must be int or float not {type(value).__name__}\")\n",
    "        self._age = value\n",
    "\n",
    "    @property\n",
    "    def name(self) -> str:\n",
    "        return self._name\n",
    "    \n",
    "    @name.setter\n",
    "    def name(self, value: str) -> None:\n",
    "        # bug in this regexp \n",
    "        if re.search(r\"^[A-ö]+(\\s[A-ö]+)?$\", value.strip()) is None:\n",
    "            raise ValueError(f\"{value.strip()} is not a valid name\")\n",
    "\n",
    "        self._name = value\n",
    "\n",
    "    def say_hi(self) -> None:\n",
    "        print(f\"Person {self.name} says hi\")\n",
    "\n",
    "class Student(Person):\n",
    "    \"\"\"A Student is a Person that knows a language\"\"\"\n",
    "    # override __init__()\n",
    "    def __init__(self, name: str, age: int, language: str) -> None:\n",
    "        # with super() we look at the parent class and uses their __init__(name, age)\n",
    "        # delegating to parent\n",
    "        super().__init__(name, age)\n",
    "        self.language = language\n",
    "    \n",
    "    #TODO: make language into a property\n",
    "\n",
    "    # overriding say_hi() method from Person class\n",
    "    def say_hi(self) -> None:\n",
    "        print(f\"Student {self.name} speaks {self.language}\")\n",
    "\n",
    "\n",
    "class Viking(Person):\n",
    "    \"\"\"A Viking is a Person that has an OldCoinsStash\"\"\"\n",
    "    def __init__(self, name: str, age: int) -> None:\n",
    "        super().__init__(name, age)\n",
    "        # composition - has a OldCoinsStash\n",
    "        self.stash = OldCoinsStash(self.name)\n",
    "    \n",
    "student2 = Student(\"Urban Lindström\", 45, \"Java\")\n",
    "person2 = Person(\"Bodil\", 26)\n",
    "viking2 = Viking(\"Ivar\", 23)\n",
    "\n",
    "print(viking2.stash)\n",
    "print(viking2.stash.check_balance())\n",
    "\n",
    "print(\"-\"*50)\n",
    "for person in (student2, person2, viking2):\n",
    "    person.say_hi()\n",
    "    # note Viking has no say_hi() defined in the class so Python looks up the inheritance chain and finds it in Person class\n"
   ]
  }
 ],
 "metadata": {
  "kernelspec": {
   "display_name": "Python 3.9.13 ('Python-Elias-El-Haddad-KdAe7nXC')",
   "language": "python",
   "name": "python3"
  },
  "language_info": {
   "codemirror_mode": {
    "name": "ipython",
    "version": 3
   },
   "file_extension": ".py",
   "mimetype": "text/x-python",
   "name": "python",
   "nbconvert_exporter": "python",
   "pygments_lexer": "ipython3",
   "version": "3.9.13"
  },
  "orig_nbformat": 4,
  "vscode": {
   "interpreter": {
    "hash": "e66b0b6841b8a65024e468e80548b1ced47ff1ba5bbf1edee51c862e3cd59c08"
   }
  }
 },
 "nbformat": 4,
 "nbformat_minor": 2
}
