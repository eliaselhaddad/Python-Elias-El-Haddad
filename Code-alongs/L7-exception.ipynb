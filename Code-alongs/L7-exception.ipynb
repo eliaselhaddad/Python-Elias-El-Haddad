{
 "cells": [
  {
   "cell_type": "markdown",
   "metadata": {},
   "source": [
    "# Errors\n",
    "\n",
    "- syntax error - python parser doesn't understand the code\n",
    "- logical errors - errors that occurs when program runs by giving wrong results\n",
    "- exception errors - errors detecting during execution "
   ]
  },
  {
   "cell_type": "code",
   "execution_count": 1,
   "metadata": {},
   "outputs": [
    {
     "ename": "NameError",
     "evalue": "name 'prin' is not defined",
     "output_type": "error",
     "traceback": [
      "\u001b[1;31m---------------------------------------------------------------------------\u001b[0m",
      "\u001b[1;31mNameError\u001b[0m                                 Traceback (most recent call last)",
      "\u001b[1;32mc:\\Users\\hadda\\OneDrive\\Documents\\GitHub\\Python-Elias-El-Haddad\\Python-Elias-El-Haddad\\Code-alongs\\L7-error.ipynb Cell 1\u001b[0m in \u001b[0;36m<cell line: 2>\u001b[1;34m()\u001b[0m\n\u001b[0;32m      <a href='vscode-notebook-cell:/c%3A/Users/hadda/OneDrive/Documents/GitHub/Python-Elias-El-Haddad/Python-Elias-El-Haddad/Code-alongs/L7-error.ipynb#W0sZmlsZQ%3D%3D?line=0'>1</a>\u001b[0m \u001b[39m# syntax error\u001b[39;00m\n\u001b[1;32m----> <a href='vscode-notebook-cell:/c%3A/Users/hadda/OneDrive/Documents/GitHub/Python-Elias-El-Haddad/Python-Elias-El-Haddad/Code-alongs/L7-error.ipynb#W0sZmlsZQ%3D%3D?line=1'>2</a>\u001b[0m prin(\u001b[39m\"\u001b[39m\u001b[39mhej\u001b[39m\u001b[39m\"\u001b[39m)\n",
      "\u001b[1;31mNameError\u001b[0m: name 'prin' is not defined"
     ]
    }
   ],
   "source": [
    "# syntax error\n",
    "prin(\"hej\")"
   ]
  },
  {
   "cell_type": "code",
   "execution_count": 2,
   "metadata": {},
   "outputs": [
    {
     "ename": "SyntaxError",
     "evalue": "invalid syntax (3347360805.py, line 2)",
     "output_type": "error",
     "traceback": [
      "\u001b[1;36m  Input \u001b[1;32mIn [2]\u001b[1;36m\u001b[0m\n\u001b[1;33m    print(\"då\")\u001b[0m\n\u001b[1;37m    ^\u001b[0m\n\u001b[1;31mSyntaxError\u001b[0m\u001b[1;31m:\u001b[0m invalid syntax\n"
     ]
    }
   ],
   "source": [
    "print(\"hej\"\n",
    "print(\"då\")"
   ]
  },
  {
   "cell_type": "markdown",
   "metadata": {},
   "source": [
    "## Traceback"
   ]
  },
  {
   "cell_type": "code",
   "execution_count": 3,
   "metadata": {},
   "outputs": [
    {
     "name": "stdout",
     "output_type": "stream",
     "text": [
      "start function 1\n",
      "start function 2\n",
      "strat function 3\n"
     ]
    },
    {
     "ename": "ZeroDivisionError",
     "evalue": "division by zero",
     "output_type": "error",
     "traceback": [
      "\u001b[1;31m---------------------------------------------------------------------------\u001b[0m",
      "\u001b[1;31mZeroDivisionError\u001b[0m                         Traceback (most recent call last)",
      "\u001b[1;32mc:\\Users\\hadda\\OneDrive\\Documents\\GitHub\\Python-Elias-El-Haddad\\Python-Elias-El-Haddad\\Code-alongs\\L7-error.ipynb Cell 3\u001b[0m in \u001b[0;36m<cell line: 13>\u001b[1;34m()\u001b[0m\n\u001b[0;32m     <a href='vscode-notebook-cell:/c%3A/Users/hadda/OneDrive/Documents/GitHub/Python-Elias-El-Haddad/Python-Elias-El-Haddad/Code-alongs/L7-error.ipynb#W2sZmlsZQ%3D%3D?line=9'>10</a>\u001b[0m     \u001b[39mprint\u001b[39m(\u001b[39m\"\u001b[39m\u001b[39mstrat function 3\u001b[39m\u001b[39m\"\u001b[39m)\n\u001b[0;32m     <a href='vscode-notebook-cell:/c%3A/Users/hadda/OneDrive/Documents/GitHub/Python-Elias-El-Haddad/Python-Elias-El-Haddad/Code-alongs/L7-error.ipynb#W2sZmlsZQ%3D%3D?line=10'>11</a>\u001b[0m     \u001b[39m3\u001b[39m\u001b[39m/\u001b[39m\u001b[39m0\u001b[39m\n\u001b[1;32m---> <a href='vscode-notebook-cell:/c%3A/Users/hadda/OneDrive/Documents/GitHub/Python-Elias-El-Haddad/Python-Elias-El-Haddad/Code-alongs/L7-error.ipynb#W2sZmlsZQ%3D%3D?line=12'>13</a>\u001b[0m func1()\n",
      "\u001b[1;32mc:\\Users\\hadda\\OneDrive\\Documents\\GitHub\\Python-Elias-El-Haddad\\Python-Elias-El-Haddad\\Code-alongs\\L7-error.ipynb Cell 3\u001b[0m in \u001b[0;36mfunc1\u001b[1;34m()\u001b[0m\n\u001b[0;32m      <a href='vscode-notebook-cell:/c%3A/Users/hadda/OneDrive/Documents/GitHub/Python-Elias-El-Haddad/Python-Elias-El-Haddad/Code-alongs/L7-error.ipynb#W2sZmlsZQ%3D%3D?line=0'>1</a>\u001b[0m \u001b[39mdef\u001b[39;00m \u001b[39mfunc1\u001b[39m():\n\u001b[0;32m      <a href='vscode-notebook-cell:/c%3A/Users/hadda/OneDrive/Documents/GitHub/Python-Elias-El-Haddad/Python-Elias-El-Haddad/Code-alongs/L7-error.ipynb#W2sZmlsZQ%3D%3D?line=1'>2</a>\u001b[0m     \u001b[39mprint\u001b[39m(\u001b[39m\"\u001b[39m\u001b[39mstart function 1\u001b[39m\u001b[39m\"\u001b[39m)\n\u001b[1;32m----> <a href='vscode-notebook-cell:/c%3A/Users/hadda/OneDrive/Documents/GitHub/Python-Elias-El-Haddad/Python-Elias-El-Haddad/Code-alongs/L7-error.ipynb#W2sZmlsZQ%3D%3D?line=2'>3</a>\u001b[0m     func2()\n",
      "\u001b[1;32mc:\\Users\\hadda\\OneDrive\\Documents\\GitHub\\Python-Elias-El-Haddad\\Python-Elias-El-Haddad\\Code-alongs\\L7-error.ipynb Cell 3\u001b[0m in \u001b[0;36mfunc2\u001b[1;34m()\u001b[0m\n\u001b[0;32m      <a href='vscode-notebook-cell:/c%3A/Users/hadda/OneDrive/Documents/GitHub/Python-Elias-El-Haddad/Python-Elias-El-Haddad/Code-alongs/L7-error.ipynb#W2sZmlsZQ%3D%3D?line=4'>5</a>\u001b[0m \u001b[39mdef\u001b[39;00m \u001b[39mfunc2\u001b[39m():\n\u001b[0;32m      <a href='vscode-notebook-cell:/c%3A/Users/hadda/OneDrive/Documents/GitHub/Python-Elias-El-Haddad/Python-Elias-El-Haddad/Code-alongs/L7-error.ipynb#W2sZmlsZQ%3D%3D?line=5'>6</a>\u001b[0m     \u001b[39mprint\u001b[39m(\u001b[39m\"\u001b[39m\u001b[39mstart function 2\u001b[39m\u001b[39m\"\u001b[39m)\n\u001b[1;32m----> <a href='vscode-notebook-cell:/c%3A/Users/hadda/OneDrive/Documents/GitHub/Python-Elias-El-Haddad/Python-Elias-El-Haddad/Code-alongs/L7-error.ipynb#W2sZmlsZQ%3D%3D?line=6'>7</a>\u001b[0m     func3()\n",
      "\u001b[1;32mc:\\Users\\hadda\\OneDrive\\Documents\\GitHub\\Python-Elias-El-Haddad\\Python-Elias-El-Haddad\\Code-alongs\\L7-error.ipynb Cell 3\u001b[0m in \u001b[0;36mfunc3\u001b[1;34m()\u001b[0m\n\u001b[0;32m      <a href='vscode-notebook-cell:/c%3A/Users/hadda/OneDrive/Documents/GitHub/Python-Elias-El-Haddad/Python-Elias-El-Haddad/Code-alongs/L7-error.ipynb#W2sZmlsZQ%3D%3D?line=8'>9</a>\u001b[0m \u001b[39mdef\u001b[39;00m \u001b[39mfunc3\u001b[39m():\n\u001b[0;32m     <a href='vscode-notebook-cell:/c%3A/Users/hadda/OneDrive/Documents/GitHub/Python-Elias-El-Haddad/Python-Elias-El-Haddad/Code-alongs/L7-error.ipynb#W2sZmlsZQ%3D%3D?line=9'>10</a>\u001b[0m     \u001b[39mprint\u001b[39m(\u001b[39m\"\u001b[39m\u001b[39mstrat function 3\u001b[39m\u001b[39m\"\u001b[39m)\n\u001b[1;32m---> <a href='vscode-notebook-cell:/c%3A/Users/hadda/OneDrive/Documents/GitHub/Python-Elias-El-Haddad/Python-Elias-El-Haddad/Code-alongs/L7-error.ipynb#W2sZmlsZQ%3D%3D?line=10'>11</a>\u001b[0m     \u001b[39m3\u001b[39;49m\u001b[39m/\u001b[39;49m\u001b[39m0\u001b[39;49m\n",
      "\u001b[1;31mZeroDivisionError\u001b[0m: division by zero"
     ]
    }
   ],
   "source": [
    "def func1():\n",
    "    print(\"start function 1\")\n",
    "    func2()\n",
    "\n",
    "def func2():\n",
    "    print(\"start function 2\")\n",
    "    func3()\n",
    "\n",
    "def func3():\n",
    "    print(\"strat function 3\")\n",
    "    3/0 # exception error\n",
    "\n",
    "func1()"
   ]
  },
  {
   "cell_type": "markdown",
   "metadata": {},
   "source": [
    "## Logical error"
   ]
  },
  {
   "cell_type": "code",
   "execution_count": 4,
   "metadata": {},
   "outputs": [
    {
     "name": "stdout",
     "output_type": "stream",
     "text": [
      "12.566370614359172\n"
     ]
    }
   ],
   "source": [
    "import math\n",
    "\n",
    "circumference = lambda radius: math.pi*radius**2\n",
    "\n",
    "print(circumference(2))\n",
    "\n",
    "# pytjon does what it has been told\n",
    "# we compute the area instead of the circumference\n",
    "# logical errors -> hard to find"
   ]
  },
  {
   "cell_type": "markdown",
   "metadata": {},
   "source": [
    "## Try-except\n",
    "\n",
    "- try block\n",
    "- except block\n",
    "- raise"
   ]
  },
  {
   "cell_type": "code",
   "execution_count": 5,
   "metadata": {},
   "outputs": [
    {
     "name": "stdout",
     "output_type": "stream",
     "text": [
      "Du är -43.0 gammal\n"
     ]
    }
   ],
   "source": [
    "age = input(\"Ange din ålder: \")\n",
    "\n",
    "age = float(age)\n",
    "\n",
    "# logical error with negative age\n",
    "print(f\"Du är {age} gammal\")\n",
    "\n"
   ]
  },
  {
   "cell_type": "code",
   "execution_count": 6,
   "metadata": {},
   "outputs": [
    {
     "ename": "ValueError",
     "evalue": "could not convert string to float: 'tjugotvå'",
     "output_type": "error",
     "traceback": [
      "\u001b[1;31m---------------------------------------------------------------------------\u001b[0m",
      "\u001b[1;31mValueError\u001b[0m                                Traceback (most recent call last)",
      "\u001b[1;32mc:\\Users\\hadda\\OneDrive\\Documents\\GitHub\\Python-Elias-El-Haddad\\Python-Elias-El-Haddad\\Code-alongs\\L7-error.ipynb Cell 10\u001b[0m in \u001b[0;36m<cell line: 3>\u001b[1;34m()\u001b[0m\n\u001b[0;32m      <a href='vscode-notebook-cell:/c%3A/Users/hadda/OneDrive/Documents/GitHub/Python-Elias-El-Haddad/Python-Elias-El-Haddad/Code-alongs/L7-error.ipynb#X12sZmlsZQ%3D%3D?line=0'>1</a>\u001b[0m age \u001b[39m=\u001b[39m \u001b[39minput\u001b[39m(\u001b[39m\"\u001b[39m\u001b[39mAnge din ålder: \u001b[39m\u001b[39m\"\u001b[39m)\n\u001b[1;32m----> <a href='vscode-notebook-cell:/c%3A/Users/hadda/OneDrive/Documents/GitHub/Python-Elias-El-Haddad/Python-Elias-El-Haddad/Code-alongs/L7-error.ipynb#X12sZmlsZQ%3D%3D?line=2'>3</a>\u001b[0m age \u001b[39m=\u001b[39m \u001b[39mfloat\u001b[39;49m(age)\n\u001b[0;32m      <a href='vscode-notebook-cell:/c%3A/Users/hadda/OneDrive/Documents/GitHub/Python-Elias-El-Haddad/Python-Elias-El-Haddad/Code-alongs/L7-error.ipynb#X12sZmlsZQ%3D%3D?line=4'>5</a>\u001b[0m \u001b[39mprint\u001b[39m(\u001b[39mf\u001b[39m\u001b[39m\"\u001b[39m\u001b[39mDu är \u001b[39m\u001b[39m{\u001b[39;00mage\u001b[39m}\u001b[39;00m\u001b[39m gammal\u001b[39m\u001b[39m\"\u001b[39m)\n",
      "\u001b[1;31mValueError\u001b[0m: could not convert string to float: 'tjugotvå'"
     ]
    }
   ],
   "source": [
    "age = input(\"Ange din ålder: \")\n",
    "\n",
    "age = float(age)\n",
    "\n",
    "print(f\"Du är {age} gammal\")"
   ]
  },
  {
   "cell_type": "code",
   "execution_count": 7,
   "metadata": {},
   "outputs": [
    {
     "name": "stdout",
     "output_type": "stream",
     "text": [
      "could not convert string to float: 'tjugofem'\n",
      "Programmet fortsätter här\n"
     ]
    }
   ],
   "source": [
    "age = input(\"Ange din ålder: \")\n",
    "\n",
    "try:\n",
    "    age = float(age) # tried to convert \"tjugofem\", program throws a ValueError\n",
    "    print(f\"Du är {age} gammal\") \n",
    "except ValueError as err: # it get caught in the except block\n",
    "    print(err)\n",
    "\n",
    "print(\"Programmet fortsätter här\")\n",
    "\n"
   ]
  },
  {
   "cell_type": "code",
   "execution_count": 9,
   "metadata": {},
   "outputs": [
    {
     "name": "stdout",
     "output_type": "stream",
     "text": [
      "Åldern som du ska ange måste vara mellan 0 och 125, inte -65.0\n",
      "could not convert string to float: 'laljd'\n",
      "Du är 65.0 år gammal\n"
     ]
    }
   ],
   "source": [
    "while True:\n",
    "\n",
    "    age = input(\"Ange din ålder: \")\n",
    "\n",
    "    try:\n",
    "        age = float(age) \n",
    "        if not 0 <= age <= 125:\n",
    "            raise ValueError(f\"Åldern som du anger måste vara mellan 0 och 125, inte {age}\")\n",
    "        break\n",
    "    except ValueError as err: \n",
    "        print(err)\n",
    "\n",
    "print(f\"Du är {age} år gammal\")"
   ]
  }
 ],
 "metadata": {
  "kernelspec": {
   "display_name": "Python 3.9.13 ('Python-Elias-El-Haddad-KdAe7nXC')",
   "language": "python",
   "name": "python3"
  },
  "language_info": {
   "codemirror_mode": {
    "name": "ipython",
    "version": 3
   },
   "file_extension": ".py",
   "mimetype": "text/x-python",
   "name": "python",
   "nbconvert_exporter": "python",
   "pygments_lexer": "ipython3",
   "version": "3.9.13"
  },
  "orig_nbformat": 4,
  "vscode": {
   "interpreter": {
    "hash": "e66b0b6841b8a65024e468e80548b1ced47ff1ba5bbf1edee51c862e3cd59c08"
   }
  }
 },
 "nbformat": 4,
 "nbformat_minor": 2
}
