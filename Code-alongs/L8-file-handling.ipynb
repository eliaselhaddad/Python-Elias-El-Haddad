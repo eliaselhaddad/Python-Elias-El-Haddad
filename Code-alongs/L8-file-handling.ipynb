{
 "cells": [
  {
   "cell_type": "markdown",
   "metadata": {},
   "source": [
    "# File handling\n",
    "\n",
    "```py\n",
    "with open(path, option) as name:\n",
    "    statements\n",
    "```\n",
    "Options:\n",
    "- \"r\" read\n",
    "- \"a\""
   ]
  },
  {
   "cell_type": "code",
   "execution_count": null,
   "metadata": {},
   "outputs": [],
   "source": [
    "with open(\"\")\n"
   ]
  },
  {
   "cell_type": "markdown",
   "metadata": {},
   "source": [
    "## Cleaning up quotes.txt\n",
    "\n",
    "- inspect "
   ]
  },
  {
   "cell_type": "code",
   "execution_count": 1,
   "metadata": {},
   "outputs": [
    {
     "ename": "NameError",
     "evalue": "name 'path' is not defined",
     "output_type": "error",
     "traceback": [
      "\u001b[1;31m---------------------------------------------------------------------------\u001b[0m",
      "\u001b[1;31mNameError\u001b[0m                                 Traceback (most recent call last)",
      "\u001b[1;32mc:\\Users\\hadda\\OneDrive\\Documents\\GitHub\\Python-Elias-El-Haddad\\Python-Elias-El-Haddad\\Code-alongs\\L8-file-handling.ipynb Cell 4\u001b[0m in \u001b[0;36m<cell line: 1>\u001b[1;34m()\u001b[0m\n\u001b[1;32m----> <a href='vscode-notebook-cell:/c%3A/Users/hadda/OneDrive/Documents/GitHub/Python-Elias-El-Haddad/Python-Elias-El-Haddad/Code-alongs/L8-file-handling.ipynb#W4sZmlsZQ%3D%3D?line=0'>1</a>\u001b[0m \u001b[39mwith\u001b[39;00m \u001b[39mopen\u001b[39m(path, \u001b[39m\"\u001b[39m\u001b[39mr\u001b[39m\u001b[39m\"\u001b[39m) \u001b[39mas\u001b[39;00m f_read, \u001b[39mopen\u001b[39m(\u001b[39m\"\u001b[39m\u001b[39m../Data/quotes_clean.txt\u001b[39m\u001b[39m\"\u001b[39m, \u001b[39m\"\u001b[39m\u001b[39mw\u001b[39m\u001b[39m\"\u001b[39m) \u001b[39mas\u001b[39;00m f_write:\n\u001b[0;32m      <a href='vscode-notebook-cell:/c%3A/Users/hadda/OneDrive/Documents/GitHub/Python-Elias-El-Haddad/Python-Elias-El-Haddad/Code-alongs/L8-file-handling.ipynb#W4sZmlsZQ%3D%3D?line=2'>3</a>\u001b[0m     \u001b[39mfor\u001b[39;00m quotes \u001b[39min\u001b[39;00m f_read:\n\u001b[0;32m      <a href='vscode-notebook-cell:/c%3A/Users/hadda/OneDrive/Documents/GitHub/Python-Elias-El-Haddad/Python-Elias-El-Haddad/Code-alongs/L8-file-handling.ipynb#W4sZmlsZQ%3D%3D?line=3'>4</a>\u001b[0m         \u001b[39mprint\u001b[39m(quotes, end \u001b[39m=\u001b[39m \u001b[39m\"\u001b[39m\u001b[39m\"\u001b[39m)\n",
      "\u001b[1;31mNameError\u001b[0m: name 'path' is not defined"
     ]
    }
   ],
   "source": [
    "import re\n",
    "\n",
    "with open(path, \"r\") as f_read, open(\"../Data/quotes_clean.txt\", \"w\") as f_write:\n",
    "    quote_number = 1\n",
    "\n",
    "    # loops through each line in the text file\n",
    "    for quote in f_read:\n",
    "        quote = quote.strip(\" \\n\") # removes leading and trailing spaces and new lines\n",
    "        quote = re.sub(\" +\", \" \", quote) # regex to substitute more than one white space with one whitespace\n",
    "\n",
    "        # write to new file if the line is not \"\"\n",
    "        if quote != \"\":\n",
    "            f_write.write(f\"{quote_number}. {quote}\\n\")\n",
    "            quote_number += 1\n",
    "\n",
    "        print(repr(quote))"
   ]
  },
  {
   "cell_type": "markdown",
   "metadata": {},
   "source": [
    "## Pick out the author\n",
    "\n",
    "- find digit to find quote\n",
    "- extract first name last name\n",
    "- join into full name\n",
    "- get unique values"
   ]
  },
  {
   "cell_type": "code",
   "execution_count": 3,
   "metadata": {},
   "outputs": [
    {
     "ename": "FileNotFoundError",
     "evalue": "[Errno 2] No such file or directory: '../Data/quotes_clean.txt'",
     "output_type": "error",
     "traceback": [
      "\u001b[1;31m---------------------------------------------------------------------------\u001b[0m",
      "\u001b[1;31mFileNotFoundError\u001b[0m                         Traceback (most recent call last)",
      "\u001b[1;32mc:\\Users\\hadda\\OneDrive\\Documents\\GitHub\\Python-Elias-El-Haddad\\Python-Elias-El-Haddad\\Code-alongs\\L8-file-handling.ipynb Cell 6\u001b[0m in \u001b[0;36m<cell line: 1>\u001b[1;34m()\u001b[0m\n\u001b[1;32m----> <a href='vscode-notebook-cell:/c%3A/Users/hadda/OneDrive/Documents/GitHub/Python-Elias-El-Haddad/Python-Elias-El-Haddad/Code-alongs/L8-file-handling.ipynb#W4sZmlsZQ%3D%3D?line=0'>1</a>\u001b[0m \u001b[39mwith\u001b[39;00m \u001b[39mopen\u001b[39;49m (\u001b[39m\"\u001b[39;49m\u001b[39m../Data/quotes_clean.txt\u001b[39;49m\u001b[39m\"\u001b[39;49m, \u001b[39m\"\u001b[39;49m\u001b[39mr\u001b[39;49m\u001b[39m\"\u001b[39;49m) \u001b[39mas\u001b[39;00m f_quotes, \u001b[39mopen\u001b[39m (\u001b[39m\"\u001b[39m\u001b[39m../Data/quotes_clean.txt\u001b[39m\u001b[39m\"\u001b[39m, \u001b[39m\"\u001b[39m\u001b[39ma\u001b[39m\u001b[39m\"\u001b[39m) \u001b[39mas\u001b[39;00m f_append:\n\u001b[0;32m      <a href='vscode-notebook-cell:/c%3A/Users/hadda/OneDrive/Documents/GitHub/Python-Elias-El-Haddad/Python-Elias-El-Haddad/Code-alongs/L8-file-handling.ipynb#W4sZmlsZQ%3D%3D?line=1'>2</a>\u001b[0m     \u001b[39m# read in each line as list \u001b[39;00m\n\u001b[0;32m      <a href='vscode-notebook-cell:/c%3A/Users/hadda/OneDrive/Documents/GitHub/Python-Elias-El-Haddad/Python-Elias-El-Haddad/Code-alongs/L8-file-handling.ipynb#W4sZmlsZQ%3D%3D?line=2'>3</a>\u001b[0m     \u001b[39m# strips away \"\\n\"\u001b[39;00m\n\u001b[0;32m      <a href='vscode-notebook-cell:/c%3A/Users/hadda/OneDrive/Documents/GitHub/Python-Elias-El-Haddad/Python-Elias-El-Haddad/Code-alongs/L8-file-handling.ipynb#W4sZmlsZQ%3D%3D?line=3'>4</a>\u001b[0m     quotes \u001b[39m=\u001b[39m [quote\u001b[39m.\u001b[39mstrip(\u001b[39m\"\u001b[39m\u001b[39m\\n\u001b[39;00m\u001b[39m\"\u001b[39m) \u001b[39mfor\u001b[39;00m quote \u001b[39min\u001b[39;00m f_quotes\u001b[39m.\u001b[39mreadlines()]\n\u001b[0;32m      <a href='vscode-notebook-cell:/c%3A/Users/hadda/OneDrive/Documents/GitHub/Python-Elias-El-Haddad/Python-Elias-El-Haddad/Code-alongs/L8-file-handling.ipynb#W4sZmlsZQ%3D%3D?line=4'>5</a>\u001b[0m     authors \u001b[39m=\u001b[39m [quote\u001b[39m.\u001b[39msplit()[\u001b[39m-\u001b[39m\u001b[39m2\u001b[39m:] \u001b[39mfor\u001b[39;00m quote \u001b[39min\u001b[39;00m quotes]\n",
      "\u001b[1;31mFileNotFoundError\u001b[0m: [Errno 2] No such file or directory: '../Data/quotes_clean.txt'"
     ]
    }
   ],
   "source": [
    "with open (\"../Data/quotes_clean.txt\", \"r\") as f_quotes, open (\"../Data/quotes_clean.txt\", \"a\") as f_append:\n",
    "    # read in each line as list \n",
    "    # strips away \"\\n\"\n",
    "    quotes = [quote.strip(\"\\n\") for quote in f_quotes.readlines()]\n",
    "    authors = [quote.split()[-2:] for quote in quotes]\n",
    "    print(quotes)\n",
    "\n",
    "    # set - gives the unique element\n",
    "    authors = set([\" \".join(authors) for author in authors])\n",
    "    print(authors)\n",
    "\n",
    "    f_append.write(\"\\nAuthors: \")\n",
    "    for author in authors:\n",
    "        f_append.write(f\"{author}, \")"
   ]
  },
  {
   "cell_type": "code",
   "execution_count": 2,
   "metadata": {},
   "outputs": [
    {
     "data": {
      "text/plain": [
       "'Elias El Haddad'"
      ]
     },
     "execution_count": 2,
     "metadata": {},
     "output_type": "execute_result"
    }
   ],
   "source": [
    "name = [[\"Elias\", \"El Haddad\"]]\n",
    "\" \".join(name[0])"
   ]
  },
  {
   "cell_type": "code",
   "execution_count": null,
   "metadata": {},
   "outputs": [],
   "source": []
  }
 ],
 "metadata": {
  "kernelspec": {
   "display_name": "Python 3.9.13 ('Python-Elias-El-Haddad-KdAe7nXC')",
   "language": "python",
   "name": "python3"
  },
  "language_info": {
   "codemirror_mode": {
    "name": "ipython",
    "version": 3
   },
   "file_extension": ".py",
   "mimetype": "text/x-python",
   "name": "python",
   "nbconvert_exporter": "python",
   "pygments_lexer": "ipython3",
   "version": "3.9.13"
  },
  "orig_nbformat": 4,
  "vscode": {
   "interpreter": {
    "hash": "e66b0b6841b8a65024e468e80548b1ced47ff1ba5bbf1edee51c862e3cd59c08"
   }
  }
 },
 "nbformat": 4,
 "nbformat_minor": 2
}
