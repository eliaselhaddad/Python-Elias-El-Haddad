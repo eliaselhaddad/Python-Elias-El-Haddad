{
 "cells": [
  {
   "cell_type": "code",
   "execution_count": 1,
   "metadata": {},
   "outputs": [
    {
     "data": {
      "text/plain": [
       "<__main__.Person at 0x200bdd29400>"
      ]
     },
     "execution_count": 1,
     "metadata": {},
     "output_type": "execute_result"
    }
   ],
   "source": [
    "# create a class called Person\n",
    "class Person:\n",
    "    pass\n",
    "\n",
    "# instantiate an instance from the class Person using the vallable syntax ()\n",
    "person1 = Person()\n",
    "person1"
   ]
  },
  {
   "cell_type": "code",
   "execution_count": 2,
   "metadata": {},
   "outputs": [
    {
     "data": {
      "text/plain": [
       "'Ada'"
      ]
     },
     "execution_count": 2,
     "metadata": {},
     "output_type": "execute_result"
    }
   ],
   "source": [
    "#creates an instance attribute on the fly\n",
    "person1.name = \"Ada\"\n",
    "person1.name"
   ]
  },
  {
   "cell_type": "code",
   "execution_count": 3,
   "metadata": {},
   "outputs": [
    {
     "ename": "NameError",
     "evalue": "name 'person2' is not defined",
     "output_type": "error",
     "traceback": [
      "\u001b[1;31m---------------------------------------------------------------------------\u001b[0m",
      "\u001b[1;31mNameError\u001b[0m                                 Traceback (most recent call last)",
      "Cell \u001b[1;32mIn [3], line 1\u001b[0m\n\u001b[1;32m----> 1\u001b[0m \u001b[43mperson2\u001b[49m\u001b[38;5;241m.\u001b[39mname\n",
      "\u001b[1;31mNameError\u001b[0m: name 'person2' is not defined"
     ]
    }
   ],
   "source": [
    "person2.name"
   ]
  },
  {
   "cell_type": "markdown",
   "metadata": {},
   "source": [
    "## __init()__\n",
    "\n",
    "- dunder init method (special method)\n",
    "- initializer method that runs after the object has been created\n",
    "- used for setting initial values of attributes to an instance object"
   ]
  },
  {
   "cell_type": "code",
   "execution_count": 7,
   "metadata": {},
   "outputs": [
    {
     "name": "stdout",
     "output_type": "stream",
     "text": [
      "person1.name = 'Kokchun'\n",
      "person2.name = 'Bella'\n",
      "person1.accept = True\n",
      "person2.accept = False\n",
      "person2.program = 'Data science'\n"
     ]
    },
    {
     "data": {
      "text/plain": [
       "Antagning('Supa cool school', 'AI', 'Kokchun', 'True',)"
      ]
     },
     "execution_count": 7,
     "metadata": {},
     "output_type": "execute_result"
    }
   ],
   "source": [
    "class Antagning:\n",
    "    # initializer\n",
    "    # for methods it's a convention to have first argument as self\n",
    "    def __init__(self, school, program, name, accept):\n",
    "        # assigns arguments to instance attributes\n",
    "        self.school = school\n",
    "        self.program = program\n",
    "        self.name = name\n",
    "        self.accept = accept\n",
    "\n",
    "    # dunder repr\n",
    "    # represantation for the instance object -> used for other developpers\n",
    "    def __repr__(self):\n",
    "        return f\"Antagning('{self.school}', '{self.program}', '{self.name}', '{self.accept}',)\"\n",
    "# when a method is called the instance itself is injectedto the method as forst argument\n",
    "\n",
    "# here we instantiate from the class Antagning\n",
    "person1 = Antagning(\"Supa cool school\", \"AI\", \"Kokchun\", accept = True)\n",
    "person2 = Antagning(\"cool school\", \"java\", \"Bella\", False)\n",
    "\n",
    "# accessed instance attributes using the dot notation\n",
    "print(f\"{person1.name = }\")\n",
    "print(f\"{person2.name = }\")\n",
    "\n",
    "print(f\"{person1.accept = }\")\n",
    "print(f\"{person2.accept = }\")\n",
    "\n",
    "# using the dot notation we change an instance attribute of person2\n",
    "person2.program = \"Data science\"\n",
    "\n",
    "print(f\"{person2.program = }\")\n",
    "\n",
    "person1\n"
   ]
  },
  {
   "cell_type": "code",
   "execution_count": null,
   "metadata": {},
   "outputs": [],
   "source": [
    "# the repr of list gives the output [1,2,3]\n",
    "example_list = [1,2,3]"
   ]
  },
  {
   "cell_type": "markdown",
   "metadata": {},
   "source": [
    "## Encapsulation\n",
    "\n",
    "- hide information that is used within the class, but shouldn't be accessed from outside the class\n",
    "- so want to create some kind of interface between attributes within the class and outside to prevent from misuse\n",
    "- in many oop language can make attributes private, but this is not possible in Python\n",
    "- all attributes in Python are public\n",
    "- in Python: private by convention, use an underscore before the attribute, e.g. _name\n",
    "- also possible to use double underscore __name (symbol mangling)"
   ]
  },
  {
   "cell_type": "code",
   "execution_count": 12,
   "metadata": {},
   "outputs": [
    {
     "name": "stdout",
     "output_type": "stream",
     "text": [
      "Patient(name='Ada', diagnosis='Influenza')\n",
      "Patient(name='Beda', diagnosis='Covid')\n",
      "Patient(name='Ceda', diagnosis='Influenza')\n",
      "Patient(name='Ceda', diagnosis='Influenza')\n",
      "{'_name': 'Ceda', '_Patient__diagnosis': 'Influenza', '__diagnosis': 'Migraine'}\n"
     ]
    },
    {
     "data": {
      "text/plain": [
       "'Influenza'"
      ]
     },
     "execution_count": 12,
     "metadata": {},
     "output_type": "execute_result"
    }
   ],
   "source": [
    "class Patient:\n",
    "    def __init__(self, name, diagnosis):\n",
    "        self._name = name\n",
    "        self.__diagnosis = diagnosis\n",
    "    \n",
    "    def __repr__(self):\n",
    "        return f\"Patient(name='{self._name}', diagnosis='{self.__diagnosis}')\"\n",
    "\n",
    "patient1 = Patient(\"Ada\", \"Influenza\")\n",
    "patient2 = Patient(\"Beda\", \"Covid\")\n",
    "\n",
    "print(patient1)\n",
    "print(patient2)\n",
    "\n",
    "# can access the private attribute, but really shouldn't\n",
    "patient1._name = \"Ceda\"\n",
    "print(patient1)\n",
    "\n",
    "# due to name mangling \n",
    "patient1.__diagnosis = \"Migraine\"\n",
    "print(patient1)\n",
    "\n",
    "print(patient1.__dict__)\n",
    "patient1._Patient__diagnosis"
   ]
  },
  {
   "cell_type": "code",
   "execution_count": 14,
   "metadata": {},
   "outputs": [
    {
     "data": {
      "text/plain": [
       "'Migraine'"
      ]
     },
     "execution_count": 14,
     "metadata": {},
     "output_type": "execute_result"
    }
   ],
   "source": [
    "patient1.__diagnosis"
   ]
  },
  {
   "cell_type": "code",
   "execution_count": 24,
   "metadata": {},
   "outputs": [
    {
     "name": "stdout",
     "output_type": "stream",
     "text": [
      "OldCoinsStash(owner='Ragnar Lothbroke')\n",
      "In stash: 0 riksdaler, 0 skillingar\n",
      "In stash: 20 riksdaler, 10 skillingar\n",
      "You can only deposit non-negative values\n",
      "In stash: 20 riksdaler, 10 skillingar\n",
      "Can't withdraw more than in stash\n"
     ]
    }
   ],
   "source": [
    "# another example \n",
    "class OldCoinsStash:\n",
    "    def __init__(self, owner):\n",
    "        self.owner = owner\n",
    "\n",
    "        # private attributes        \n",
    "        self._riksdaler = 0\n",
    "        self._skilling = 0\n",
    "    \n",
    "    def deposit(self, riksdaler, skilling):\n",
    "        if riksdaler < 0 or skilling < 0:\n",
    "            raise ValueError(\"You can only deposit non-negative values\")\n",
    "        self._riksdaler += riksdaler\n",
    "        self._skilling += skilling\n",
    "\n",
    "    def withdraw(self, riksdaler, skilling):\n",
    "        if riksdaler > self._riksdaler or skilling > self._skilling:\n",
    "            raise ValueError(\"Can't withdraw more than in stash\")\n",
    "        \n",
    "        # check also for negative values\n",
    "\n",
    "        self._riksdaler -= riksdaler\n",
    "        self._skilling -= skilling\n",
    "\n",
    "    def balance(self):\n",
    "        return f\"In stash: {self._riksdaler} riksdaler, {self._skilling} skillingar\"\n",
    "\n",
    "    def __repr__(self):\n",
    "        return f\"OldCoinsStash(owner='{self.owner}')\"\n",
    "\n",
    "\n",
    "stash = OldCoinsStash(\"Ragnar Lothbroke\")\n",
    "print(stash)\n",
    "print(stash.balance())\n",
    "\n",
    "stash.deposit(20, 10)\n",
    "print(stash.balance())\n",
    "\n",
    "try:\n",
    "    # can't deposit negative amount\n",
    "    stash.deposit(-5, 10)\n",
    "except ValueError as err:\n",
    "    print(err)\n",
    "print(stash.balance())\n",
    "\n",
    "try:\n",
    "    # can't deposit negative amount\n",
    "    stash.withdraw(50, 10)\n",
    "except ValueError as err:\n",
    "    print(err)"
   ]
  },
  {
   "cell_type": "code",
   "execution_count": null,
   "metadata": {},
   "outputs": [],
   "source": [
    "class Student:\n",
    "    \"\"\"Student class for representing students with name, age and activity\"\"\" # docstring\n",
    "\n",
    "    # note type hinting\n",
    "    def __init__(self, name: str, age: int, active: bool) -> None:\n",
    "        self._name = name\n",
    "        self.age = age\n",
    "        self.active = active\n",
    "\n",
    "    # read-only property - @ symbol makes it into a decorator\n",
    "    @property\n",
    "    def name(self) -> str: \n",
    "        \"\"\"Read-only property, we can't write to name\"\"\"\n",
    "        return self._name\n",
    "    \n",
    "    # getter\n",
    "    @property\n",
    "    def age(self) -> int:\n",
    "        print(\"age getter is running .... \")\n",
    "        return self._age\n",
    "    \n",
    "    # setter\n",
    "    @age.setter\n",
    "    def age(self, value: int):\n",
    "        \"\"\"Setter for age with error handling\"\"\"\n",
    "\n",
    "        print(\"age setter is running\")\n",
    "\n",
    "        # validation code\n",
    "        if not isinstance(value, int):\n",
    "            raise TypeError(f\"Age must be an int, not {type(value)}\")\n",
    "        \n",
    "        if not (0 <= value <= 125):\n",
    "            raise ValueError(\"Age must be between 0 and 125\")\n",
    "        \n",
    "        self._age = value\n",
    "\n",
    "\n",
    "student1 = Student(\"David\", 30, True)\n",
    "student1.name = \"Ella\""
   ]
  }
 ],
 "metadata": {
  "kernelspec": {
   "display_name": "Python 3.9.13 ('Python-Elias-El-Haddad-KdAe7nXC')",
   "language": "python",
   "name": "python3"
  },
  "language_info": {
   "codemirror_mode": {
    "name": "ipython",
    "version": 3
   },
   "file_extension": ".py",
   "mimetype": "text/x-python",
   "name": "python",
   "nbconvert_exporter": "python",
   "pygments_lexer": "ipython3",
   "version": "3.9.13"
  },
  "orig_nbformat": 4,
  "vscode": {
   "interpreter": {
    "hash": "e66b0b6841b8a65024e468e80548b1ced47ff1ba5bbf1edee51c862e3cd59c08"
   }
  }
 },
 "nbformat": 4,
 "nbformat_minor": 2
}
