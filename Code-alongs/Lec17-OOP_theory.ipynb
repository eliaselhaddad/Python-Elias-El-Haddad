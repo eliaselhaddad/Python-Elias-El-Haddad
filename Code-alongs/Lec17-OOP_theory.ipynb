{
 "cells": [
  {
   "cell_type": "markdown",
   "metadata": {},
   "source": [
    "## Class instantiation\n",
    "When instantiating an object from a class\n",
    "\n",
    "- `__new__()` is run\n",
    "- `__init__()` is run -> gives the instance object its initial state"
   ]
  },
  {
   "cell_type": "code",
   "execution_count": 1,
   "metadata": {},
   "outputs": [
    {
     "name": "stdout",
     "output_type": "stream",
     "text": [
      "<__main__.Student object at 0x0000021579894820>\n",
      "<class '__main__.Student'>\n"
     ]
    },
    {
     "data": {
      "text/plain": [
       "True"
      ]
     },
     "execution_count": 1,
     "metadata": {},
     "output_type": "execute_result"
    }
   ],
   "source": [
    "# convention for classes is PascalCase\n",
    "class Student:\n",
    "    pass\n",
    "\n",
    "# variable names have snake_case\n",
    "# functions also snake_case\n",
    "\n",
    "s1 = Student()\n",
    "# s1 has a __repr__(), but this __repr__() is in the object class\n",
    "print(repr(s1)) \n",
    "\n",
    "print(type(s1))\n",
    "\n",
    "isinstance(s1, object)\n"
   ]
  },
  {
   "cell_type": "code",
   "execution_count": 2,
   "metadata": {},
   "outputs": [
    {
     "data": {
      "text/plain": [
       "(True, False)"
      ]
     },
     "execution_count": 2,
     "metadata": {},
     "output_type": "execute_result"
    }
   ],
   "source": [
    "isinstance(Student, object), isinstance(s1, int)\n"
   ]
  },
  {
   "cell_type": "code",
   "execution_count": 3,
   "metadata": {},
   "outputs": [
    {
     "data": {
      "text/plain": [
       "False"
      ]
     },
     "execution_count": 3,
     "metadata": {},
     "output_type": "execute_result"
    }
   ],
   "source": [
    "s2 = Student()\n",
    "s1 is s2\n"
   ]
  },
  {
   "cell_type": "code",
   "execution_count": 4,
   "metadata": {},
   "outputs": [
    {
     "data": {
      "text/plain": [
       "False"
      ]
     },
     "execution_count": 4,
     "metadata": {},
     "output_type": "execute_result"
    }
   ],
   "source": [
    "s1 == s2\n"
   ]
  },
  {
   "cell_type": "code",
   "execution_count": 5,
   "metadata": {},
   "outputs": [
    {
     "data": {
      "text/plain": [
       "(True, True)"
      ]
     },
     "execution_count": 5,
     "metadata": {},
     "output_type": "execute_result"
    }
   ],
   "source": [
    "fruit1 = \"apple\"\n",
    "fruit2 = \"apple\"\n",
    "\n",
    "# don't know exactly how is works here\n",
    "fruit1 == fruit2, fruit1 is fruit2\n"
   ]
  },
  {
   "cell_type": "code",
   "execution_count": 6,
   "metadata": {},
   "outputs": [
    {
     "data": {
      "text/plain": [
       "('0x21579894820', '0x21579894fd0')"
      ]
     },
     "execution_count": 6,
     "metadata": {},
     "output_type": "execute_result"
    }
   ],
   "source": [
    "hex(id(s1)), hex(id(s2))\n"
   ]
  },
  {
   "cell_type": "code",
   "execution_count": 7,
   "metadata": {},
   "outputs": [
    {
     "data": {
      "text/plain": [
       "(False, True)"
      ]
     },
     "execution_count": 7,
     "metadata": {},
     "output_type": "execute_result"
    }
   ],
   "source": [
    "l1 = [1,2,3]\n",
    "l2 = [1,2,3]\n",
    "\n",
    "l1 is l2, l1 == l2\n"
   ]
  },
  {
   "cell_type": "markdown",
   "metadata": {},
   "source": [
    "## Attribute\n",
    "- can be defined in class\n",
    "- can be created on the fly (during runtime) using dot notation\n",
    "- can be created inside methods\n"
   ]
  },
  {
   "cell_type": "code",
   "execution_count": 8,
   "metadata": {},
   "outputs": [
    {
     "name": "stdout",
     "output_type": "stream",
     "text": [
      "{'__module__': '__main__', 'name': 'default', '__dict__': <attribute '__dict__' of 'Student' objects>, '__weakref__': <attribute '__weakref__' of 'Student' objects>, '__doc__': None}\n"
     ]
    },
    {
     "data": {
      "text/plain": [
       "'default'"
      ]
     },
     "execution_count": 8,
     "metadata": {},
     "output_type": "execute_result"
    }
   ],
   "source": [
    "class Student:\n",
    "    name = \"default\"\n",
    "\n",
    "# Student's namespace\n",
    "print(Student.__dict__)\n",
    "\n",
    "# gets the name attribute from the class\n",
    "Student.name\n"
   ]
  },
  {
   "cell_type": "code",
   "execution_count": 10,
   "metadata": {},
   "outputs": [
    {
     "name": "stdout",
     "output_type": "stream",
     "text": [
      "{}\n"
     ]
    },
    {
     "data": {
      "text/plain": [
       "'default'"
      ]
     },
     "execution_count": 10,
     "metadata": {},
     "output_type": "execute_result"
    }
   ],
   "source": [
    "s1 = Student()\n",
    "print(s1.__dict__)\n",
    "s1.name"
   ]
  },
  {
   "cell_type": "code",
   "execution_count": 11,
   "metadata": {},
   "outputs": [
    {
     "name": "stdout",
     "output_type": "stream",
     "text": [
      "{'name': 'Ada', 'shoe_size': 43}\n"
     ]
    }
   ],
   "source": [
    "# created an attribute on the fly with dot notation\n",
    "s1.name = \"Ada\"\n",
    "s1.shoe_size = 43\n",
    "print(s1.__dict__)\n"
   ]
  },
  {
   "cell_type": "code",
   "execution_count": 12,
   "metadata": {},
   "outputs": [
    {
     "data": {
      "text/plain": [
       "mappingproxy({'__module__': '__main__',\n",
       "              'name': 'default',\n",
       "              '__dict__': <attribute '__dict__' of 'Student' objects>,\n",
       "              '__weakref__': <attribute '__weakref__' of 'Student' objects>,\n",
       "              '__doc__': None})"
      ]
     },
     "execution_count": 12,
     "metadata": {},
     "output_type": "execute_result"
    }
   ],
   "source": [
    "Student.__dict__\n"
   ]
  },
  {
   "cell_type": "code",
   "execution_count": 13,
   "metadata": {},
   "outputs": [
    {
     "data": {
      "text/plain": [
       "{}"
      ]
     },
     "execution_count": 13,
     "metadata": {},
     "output_type": "execute_result"
    }
   ],
   "source": [
    "s2 = Student()\n",
    "s2.__dict__\n"
   ]
  },
  {
   "cell_type": "code",
   "execution_count": 14,
   "metadata": {},
   "outputs": [
    {
     "data": {
      "text/plain": [
       "'default'"
      ]
     },
     "execution_count": 14,
     "metadata": {},
     "output_type": "execute_result"
    }
   ],
   "source": [
    "s2.name\n"
   ]
  },
  {
   "cell_type": "code",
   "execution_count": 15,
   "metadata": {},
   "outputs": [
    {
     "ename": "AttributeError",
     "evalue": "'Student' object has no attribute 'shoe_size'",
     "output_type": "error",
     "traceback": [
      "\u001b[1;31m---------------------------------------------------------------------------\u001b[0m",
      "\u001b[1;31mAttributeError\u001b[0m                            Traceback (most recent call last)",
      "Cell \u001b[1;32mIn [15], line 1\u001b[0m\n\u001b[1;32m----> 1\u001b[0m \u001b[43ms2\u001b[49m\u001b[38;5;241;43m.\u001b[39;49m\u001b[43mshoe_size\u001b[49m\n",
      "\u001b[1;31mAttributeError\u001b[0m: 'Student' object has no attribute 'shoe_size'"
     ]
    }
   ],
   "source": [
    "s2.shoe_size\n"
   ]
  },
  {
   "cell_type": "markdown",
   "metadata": {},
   "source": [
    "## Namespace\n",
    "- class attributes live in the class namespace\n",
    "- namespace - dictionary of symbols (keys): reference to objects (values)\n",
    "- Python will look at local scope -> enclosing scope -> global scope -> built-in scope"
   ]
  },
  {
   "cell_type": "code",
   "execution_count": 16,
   "metadata": {},
   "outputs": [],
   "source": [
    "# global scope\n",
    "class Functions:\n",
    "    # enclosing scope\n",
    "    def f(x):\n",
    "        # local scope\n",
    "        return x"
   ]
  },
  {
   "cell_type": "code",
   "execution_count": 17,
   "metadata": {},
   "outputs": [
    {
     "name": "stdout",
     "output_type": "stream",
     "text": [
      "{'__module__': '__main__', 'eyes': 2, 'nose': 1, 'has_tail': True, '__init__': <function Rabbit.__init__ at 0x000002157ACBA700>, '__dict__': <attribute '__dict__' of 'Rabbit' objects>, '__weakref__': <attribute '__weakref__' of 'Rabbit' objects>, '__doc__': None}\n",
      "{'name': 'Bella'}\n"
     ]
    }
   ],
   "source": [
    "class Rabbit:\n",
    "    # class attributes - class namespace, not in instance namespace\n",
    "    eyes = 2\n",
    "    nose = 1\n",
    "    has_tail = True\n",
    "\n",
    "    def __init__(self, name) -> None:\n",
    "        # name exists in instance namespace, not the class namespace\n",
    "        self.name = name\n",
    "        \n",
    "\n",
    "rabbit1 = Rabbit(\"Bella\")\n",
    "print(Rabbit.__dict__)\n",
    "\n",
    "print(rabbit1.__dict__)"
   ]
  },
  {
   "cell_type": "code",
   "execution_count": 18,
   "metadata": {},
   "outputs": [
    {
     "data": {
      "text/plain": [
       "('Bella', 1)"
      ]
     },
     "execution_count": 18,
     "metadata": {},
     "output_type": "execute_result"
    }
   ],
   "source": [
    "rabbit1.name, rabbit1.nose\n"
   ]
  },
  {
   "cell_type": "code",
   "execution_count": 19,
   "metadata": {},
   "outputs": [
    {
     "data": {
      "text/plain": [
       "False"
      ]
     },
     "execution_count": 19,
     "metadata": {},
     "output_type": "execute_result"
    }
   ],
   "source": [
    "class Rabbit:\n",
    "    # class attributes - class namespace, not in instance namespace\n",
    "    eyes = 2\n",
    "    nose = 1\n",
    "    has_tail = True\n",
    "\n",
    "    def __init__(self, name) -> None:\n",
    "        # name exists in instance namespace, not the class namespace\n",
    "        self.name = name\n",
    "        self.has_tail = False\n",
    "\n",
    "rabbit1 = Rabbit(\"Skutt\")\n",
    "rabbit1.has_tail\n"
   ]
  },
  {
   "cell_type": "code",
   "execution_count": 20,
   "metadata": {},
   "outputs": [
    {
     "data": {
      "text/plain": [
       "4"
      ]
     },
     "execution_count": 20,
     "metadata": {},
     "output_type": "execute_result"
    }
   ],
   "source": [
    "import numpy as np \n",
    "\n",
    "# x is in global scope\n",
    "x = np.linspace(-5,5)\n",
    "\n",
    "# x here is in local scope\n",
    "#f = lambda x: x**2\n",
    "def f(x):\n",
    "    # local x = 2\n",
    "    y = x + 2\n",
    "    return y\n",
    "\n",
    "f(2)\n"
   ]
  },
  {
   "cell_type": "markdown",
   "metadata": {},
   "source": [
    "## Property"
   ]
  },
  {
   "cell_type": "code",
   "execution_count": 21,
   "metadata": {},
   "outputs": [
    {
     "name": "stdout",
     "output_type": "stream",
     "text": [
      "{'__module__': '__main__', '__init__': <function Square.__init__ at 0x00000215798D8790>, 'get_side': <function Square.get_side at 0x000002157F092C10>, 'set_side': <function Square.set_side at 0x000002157F092B80>, '__dict__': <attribute '__dict__' of 'Square' objects>, '__weakref__': <attribute '__weakref__' of 'Square' objects>, '__doc__': None}\n",
      "{'_side': 1}\n",
      "'Square' object has no attribute 'side'\n"
     ]
    }
   ],
   "source": [
    "# without property \n",
    "class Square:\n",
    "    def __init__(self, side) -> None:\n",
    "        self._side = side # NOTE\n",
    "    \n",
    "    # method\n",
    "    def get_side(self):\n",
    "        print(\"getter run\")\n",
    "        return self._side\n",
    "    \n",
    "    # method\n",
    "    def set_side(self, value):\n",
    "        # validation code\n",
    "        print(\"setter run\")\n",
    "\n",
    "        self._side = value\n",
    "\n",
    "unit_square = Square(1)\n",
    "print(Square.__dict__)\n",
    "print(unit_square.__dict__)\n",
    "\n",
    "try:\n",
    "    unit_square.side\n",
    "except AttributeError as err:\n",
    "    print(err)\n"
   ]
  },
  {
   "cell_type": "code",
   "execution_count": 22,
   "metadata": {},
   "outputs": [
    {
     "name": "stdout",
     "output_type": "stream",
     "text": [
      "getter run\n",
      "setter run\n",
      "getter run\n"
     ]
    },
    {
     "data": {
      "text/plain": [
       "{'_side': 2}"
      ]
     },
     "execution_count": 22,
     "metadata": {},
     "output_type": "execute_result"
    }
   ],
   "source": [
    "unit_square.get_side() # this returns _side\n",
    "unit_square.set_side(2) # this sets _side to 2\n",
    "unit_square.get_side() # this returns _side\n",
    "unit_square.__dict__\n"
   ]
  },
  {
   "cell_type": "code",
   "execution_count": 23,
   "metadata": {},
   "outputs": [
    {
     "name": "stdout",
     "output_type": "stream",
     "text": [
      "setter run\n",
      "setter run\n",
      "getter run\n"
     ]
    },
    {
     "data": {
      "text/plain": [
       "4"
      ]
     },
     "execution_count": 23,
     "metadata": {},
     "output_type": "execute_result"
    }
   ],
   "source": [
    "# property function\n",
    "class Square:\n",
    "    def __init__(self, side) -> None:\n",
    "        self.side = side \n",
    "    \n",
    "    def get_side(self):\n",
    "        print(\"getter run\")\n",
    "        return self._side\n",
    "    \n",
    "    def set_side(self, value):\n",
    "        # validation code\n",
    "        print(\"setter run\")\n",
    "        self._side = value\n",
    "\n",
    "\n",
    "    side = property(fget = get_side, fset = set_side)\n",
    "\n",
    "square2 = Square(2)\n",
    "square2.side = 4\n",
    "square2.side\n"
   ]
  },
  {
   "cell_type": "code",
   "execution_count": 24,
   "metadata": {},
   "outputs": [
    {
     "name": "stdout",
     "output_type": "stream",
     "text": [
      "setter run\n",
      "getter run\n"
     ]
    },
    {
     "data": {
      "text/plain": [
       "3"
      ]
     },
     "execution_count": 24,
     "metadata": {},
     "output_type": "execute_result"
    }
   ],
   "source": [
    "class Square:\n",
    "    def __init__(self, side) -> None:\n",
    "        self.side = side \n",
    "\n",
    "    # side = property(fget=side)\n",
    "    @property    \n",
    "    def side(self):\n",
    "        print(\"getter run\")\n",
    "        return self._side\n",
    "    \n",
    "    @side.setter\n",
    "    def side(self, value):\n",
    "        # validation code\n",
    "        print(\"setter run\")\n",
    "        self._side = value\n",
    "\n",
    "square3 = Square(3)\n",
    "square3.side\n"
   ]
  },
  {
   "cell_type": "code",
   "execution_count": 25,
   "metadata": {},
   "outputs": [
    {
     "data": {
      "text/plain": [
       "{'_side': 4}"
      ]
     },
     "execution_count": 25,
     "metadata": {},
     "output_type": "execute_result"
    }
   ],
   "source": [
    "square2.__dict__\n"
   ]
  },
  {
   "cell_type": "code",
   "execution_count": 1,
   "metadata": {},
   "outputs": [
    {
     "data": {
      "text/plain": [
       "(True, True)"
      ]
     },
     "execution_count": 1,
     "metadata": {},
     "output_type": "execute_result"
    }
   ],
   "source": [
    "fruit1 = \"apple\"\n",
    "fruit2 = \"apple\"\n",
    "\n",
    "# don't know exactly how is works here\n",
    "fruit1 == fruit2, fruit1 is fruit2\n"
   ]
  },
  {
   "cell_type": "code",
   "execution_count": 2,
   "metadata": {},
   "outputs": [
    {
     "data": {
      "text/plain": [
       "(2506932512368, 2506932512368)"
      ]
     },
     "execution_count": 2,
     "metadata": {},
     "output_type": "execute_result"
    }
   ],
   "source": [
    "# id is same here\n",
    "id(fruit1), id(fruit2)\n"
   ]
  },
  {
   "cell_type": "code",
   "execution_count": 3,
   "metadata": {},
   "outputs": [
    {
     "data": {
      "text/plain": [
       "(True, False)"
      ]
     },
     "execution_count": 3,
     "metadata": {},
     "output_type": "execute_result"
    }
   ],
   "source": [
    "question1 = \"En bild säger mer än 1000 ord, en matematisk formel säger mer än 1000 bilder. Hur många gånger fler säger en formel än ett ord?\"\n",
    "\n",
    "question2 = \"En bild säger mer än 1000 ord, en matematisk formel säger mer än 1000 bilder. Hur många gånger fler säger en formel än ett ord?\"\n",
    "\n",
    "question1 == question2, question1 is question2\n"
   ]
  },
  {
   "cell_type": "code",
   "execution_count": 4,
   "metadata": {},
   "outputs": [
    {
     "data": {
      "text/plain": [
       "(2506932402048, 2506932402256)"
      ]
     },
     "execution_count": 4,
     "metadata": {},
     "output_type": "execute_result"
    }
   ],
   "source": [
    "id(question1), id(question2)\n"
   ]
  }
 ],
 "metadata": {
  "kernelspec": {
   "display_name": "Python 3.9.13 ('Python-Elias-El-Haddad-KdAe7nXC')",
   "language": "python",
   "name": "python3"
  },
  "language_info": {
   "codemirror_mode": {
    "name": "ipython",
    "version": 3
   },
   "file_extension": ".py",
   "mimetype": "text/x-python",
   "name": "python",
   "nbconvert_exporter": "python",
   "pygments_lexer": "ipython3",
   "version": "3.9.13"
  },
  "orig_nbformat": 4,
  "vscode": {
   "interpreter": {
    "hash": "e66b0b6841b8a65024e468e80548b1ced47ff1ba5bbf1edee51c862e3cd59c08"
   }
  }
 },
 "nbformat": 4,
 "nbformat_minor": 2
}
