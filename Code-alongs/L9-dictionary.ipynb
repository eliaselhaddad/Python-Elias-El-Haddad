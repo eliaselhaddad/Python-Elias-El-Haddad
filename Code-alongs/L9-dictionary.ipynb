{
 "cells": [
  {
   "cell_type": "markdown",
   "metadata": {},
   "source": [
    "# Dictionary\n",
    "\n",
    "- datastructure that stores data in key:value pairs"
   ]
  },
  {
   "cell_type": "code",
   "execution_count": 7,
   "metadata": {},
   "outputs": [
    {
     "name": "stdout",
     "output_type": "stream",
     "text": [
      "person dictionary {'name': 'Elias', 'age': 37, 'work': 'AI student', 'interests': ['programmin', 'sports', 'spel'], 'phone': 123456789}\n",
      "persons work AI student\n",
      "persons age 37\n",
      "persons interests ['programmin']\n",
      "Elias like programmin\n",
      "Elias like sports\n",
      "Elias like spel\n"
     ]
    }
   ],
   "source": [
    "# create a dictionary\n",
    "\n",
    "person = dict(\n",
    "    name = \"Elias\", age = 37, work = \"AI student\", interests = [\"programmin\", \"sports\", \"spel\"], phone = 123456789\n",
    ")\n",
    "\n",
    "print(f\"person dictionary {person}\")\n",
    "print(f\"persons work {person['work']}\")\n",
    "print(f\"persons age {person['age']}\")\n",
    "print(f\"persons interests {person['interests'][:1]}\")\n",
    "\n",
    "for interest in person[\"interests\"]:\n",
    "    print(f\"Elias like {interest}\")"
   ]
  },
  {
   "cell_type": "code",
   "execution_count": 10,
   "metadata": {},
   "outputs": [
    {
     "name": "stdout",
     "output_type": "stream",
     "text": [
      "{'assign': 'assigns a value to a variable', 'dictionary': 'datastructure to store data in key:value pairs', 'method': 'a function bound to an object'}\n",
      "Vi ska lära oss de här glosarna \n",
      "\n",
      "assign  -  assigns a value to a variable\n",
      "dictionary  -  datastructure to store data in key:value pairs\n",
      "method  -  a function bound to an object\n"
     ]
    }
   ],
   "source": [
    "# create dictionary with curly braces\n",
    "words = {\n",
    "    \"assign\": \"assigns a value to a variable\",\n",
    "    \"dictionary\": \"datastructure to store data in key:value pairs\",\n",
    "    \"method\": \"a function bound to an object\",\n",
    "}\n",
    "\n",
    "print(words)\n",
    "print(\"Vi ska lära oss de här glosarna \\n\")\n",
    "\n",
    "for key in words:\n",
    "    print(key, \" - \", words[key])"
   ]
  },
  {
   "cell_type": "code",
   "execution_count": 18,
   "metadata": {},
   "outputs": [
    {
     "name": "stdout",
     "output_type": "stream",
     "text": [
      "Glosor: \n",
      "\n",
      "assign              assigns a value to a variable\n",
      "dictionary          datastructure to store data in key:value pairs\n",
      "method              a function bound to an object\n",
      "....................\n"
     ]
    }
   ],
   "source": [
    "print(\"Glosor: \\n\")\n",
    "for key, value in words.items():\n",
    "    print(f\"{key: <20}{value}\") # :<20 right align with width 20\n",
    "\n",
    "print(\".\"*20)"
   ]
  },
  {
   "cell_type": "code",
   "execution_count": 22,
   "metadata": {},
   "outputs": [
    {
     "name": "stdout",
     "output_type": "stream",
     "text": [
      "{'F': 0, 'E': 10, 'D': 20, 'C': 30, 'B': 40, 'A': 50}\n",
      "{'F': '< 10', 'E': 10, 'D': 20, 'C': 30, 'B': 40, 'A': 50, 'Course': 'Programmering 1'}\n"
     ]
    }
   ],
   "source": [
    "# F < 10, E : 10, D : 20, C : 30, B : 40, A : 50\n",
    "\n",
    "# empty dictionary\n",
    "grade_limit = {}\n",
    "\n",
    "for i, character in enumerate(\"ABCDEF\"[::-1]):\n",
    "    grade_limit[character] = i * 10\n",
    "\n",
    "print(grade_limit)\n",
    "\n",
    "# assign a new value that is associated with the key \"F\"\n",
    "grade_limit[\"F\"] = \"< 10\"\n",
    "grade_limit[\"Course\"] = \"Programmering 1\"\n",
    "\n",
    "print(grade_limit)"
   ]
  },
  {
   "cell_type": "markdown",
   "metadata": {},
   "source": [
    "## Dictionary comprehension"
   ]
  },
  {
   "cell_type": "code",
   "execution_count": 29,
   "metadata": {},
   "outputs": [
    {
     "name": "stdout",
     "output_type": "stream",
     "text": [
      "grade_limit = {'F': 0, 'E': 10, 'D': 20, 'C': 30, 'B': 40, 'A': 50}\n",
      "scores = [39, 59, 34, 45, 23, 36, 37, 46, 10, 49, 52, 21, 24, 40, 50, 23, 58, 19, 25, 44]\n",
      "{'F': 0, 'E': 2, 'D': 5, 'C': 4, 'B': 5, 'A': 4}\n"
     ]
    }
   ],
   "source": [
    "import random as rnd\n",
    "\n",
    "grade_limit = {grade: i * 10 for i, grade in enumerate(\"ABCDEF\"[::-1])}\n",
    "\n",
    "def generate_scores(number_students):\n",
    "    rnd.seed(1337)\n",
    "    scores = [rnd.randint(0,60) for _ in range(number_students)]\n",
    "    return scores\n",
    "\n",
    "scores = generate_scores(20)\n",
    "print(f\"{grade_limit = }\")\n",
    "print(f\"{scores = }\")\n",
    "\n",
    "# number of students in each grade category\n",
    "students_in_grade = {key: 0 for key in grade_limit}\n",
    "\n",
    "for score in scores:\n",
    "    for grade, limit in grade_limit.items():\n",
    "        if limit <= score < limit + 10:\n",
    "            students_in_grade[grade] += 1\n",
    "\n",
    "print(students_in_grade)\n"
   ]
  },
  {
   "cell_type": "code",
   "execution_count": 30,
   "metadata": {},
   "outputs": [
    {
     "data": {
      "text/plain": [
       "20"
      ]
     },
     "execution_count": 30,
     "metadata": {},
     "output_type": "execute_result"
    }
   ],
   "source": [
    "# check that all students have been put into categories\n",
    "total_students = 0\n",
    "\n",
    "for _, number_students in students_in_grade.items():\n",
    "    total_students += number_students\n",
    "\n",
    "total_students"
   ]
  },
  {
   "cell_type": "code",
   "execution_count": null,
   "metadata": {},
   "outputs": [],
   "source": []
  }
 ],
 "metadata": {
  "kernelspec": {
   "display_name": "Python 3.9.13 ('Python-Elias-El-Haddad-KdAe7nXC')",
   "language": "python",
   "name": "python3"
  },
  "language_info": {
   "codemirror_mode": {
    "name": "ipython",
    "version": 3
   },
   "file_extension": ".py",
   "mimetype": "text/x-python",
   "name": "python",
   "nbconvert_exporter": "python",
   "pygments_lexer": "ipython3",
   "version": "3.9.13"
  },
  "orig_nbformat": 4,
  "vscode": {
   "interpreter": {
    "hash": "e66b0b6841b8a65024e468e80548b1ced47ff1ba5bbf1edee51c862e3cd59c08"
   }
  }
 },
 "nbformat": 4,
 "nbformat_minor": 2
}
