{
 "cells": [
  {
   "cell_type": "code",
   "execution_count": 3,
   "metadata": {},
   "outputs": [
    {
     "name": "stdout",
     "output_type": "stream",
     "text": [
      "[1, 2, 3, 1, 2, 3]\n",
      "[1, 'ett', True, 2.3]\n"
     ]
    }
   ],
   "source": [
    "numbers_list = [1, 2, 3]\n",
    "numbers_list = numbers_list * 2\n",
    "print(numbers_list)\n",
    "\n",
    "# in a list we can add different data type\n",
    "mixed_list = [1, \"ett\", True, 2.3] # dynamic typing in Python\n",
    "# element in the list is an object, it has information on what type it is\n",
    "# this requires some overhead, which slows down the program\n",
    "# note that when we have one data type, it is not necessary to have this overhead\n",
    "print(mixed_list)"
   ]
  },
  {
   "cell_type": "code",
   "execution_count": 19,
   "metadata": {},
   "outputs": [
    {
     "name": "stdout",
     "output_type": "stream",
     "text": [
      "[2 5 1]\n",
      "[ 4 10  2]\n",
      "vector1 + 2 = array([4, 7, 3])\n",
      "vector1[2] = 1\n",
      "vector1[-1] = 1\n",
      "vector1[1:] = array([5, 1])\n",
      "[   2 1337    1]\n",
      "vector1 = array([   1,    2, 1337])\n",
      "vector1.sum() = 1340\n",
      "vector1.mean() = 446.67\n"
     ]
    }
   ],
   "source": [
    "# in numpy we have statically typed\n",
    "import numpy as np\n",
    "\n",
    "# create an array from a list\n",
    "vector1 = np.array([2,5,1])\n",
    "print(vector1)\n",
    "\n",
    "# elementwise multiplication, not the whole list\n",
    "vector2 = vector1*2\n",
    "print(vector2)\n",
    "\n",
    "print(f\"{vector1 + 2 = }\")\n",
    "\n",
    "# indexing\n",
    "print(f\"{vector1[2] = }\")\n",
    "print(f\"{vector1[-1] = }\")\n",
    "\n",
    "# slicing\n",
    "print(f\"{vector1[1:] = }\")\n",
    "\n",
    "vector1[1] = 1337\n",
    "print(vector1)\n",
    "\n",
    "# can't append to an array - can't change it's size\n",
    "# can't hav e diff types in array\n",
    "\n",
    "# sort\n",
    "vector1.sort()\n",
    "print(f\"{vector1 = }\")\n",
    "\n",
    "#sum \n",
    "print(f\"{vector1.sum() = }\")\n",
    "print(f\"{vector1.mean() = :.2f}\")\n",
    "\n"
   ]
  },
  {
   "cell_type": "code",
   "execution_count": 26,
   "metadata": {},
   "outputs": [
    {
     "name": "stdout",
     "output_type": "stream",
     "text": [
      "ones_vector = array([1., 1., 1., 1., 1., 1., 1., 1., 1., 1.])\n",
      "matrix_3x3 = array([[1., 1., 1.],\n",
      "       [1., 1., 1.],\n",
      "       [1., 1., 1.]])\n"
     ]
    },
    {
     "data": {
      "text/plain": [
       "array([[ 1.,  1.,  1.],\n",
       "       [ 1.,  1.,  1.],\n",
       "       [ 1., 10.,  1.]])"
      ]
     },
     "execution_count": 26,
     "metadata": {},
     "output_type": "execute_result"
    }
   ],
   "source": [
    "ones_vector = np.ones((10))\n",
    "print(f\"{ones_vector = }\")\n",
    "\n",
    "# 2d array of shape (3,3)\n",
    "matrix_3x3 = np.ones((3,3))\n",
    "print(f\"{matrix_3x3 = }\")\n",
    "\n",
    "# [row,index] - count from 0\n",
    "matrix_3x3[2,1] = 10\n",
    "matrix_3x3\n"
   ]
  },
  {
   "cell_type": "code",
   "execution_count": 28,
   "metadata": {},
   "outputs": [
    {
     "data": {
      "text/plain": [
       "array([[0., 0., 0., 0., 0.],\n",
       "       [0., 0., 0., 0., 0.]])"
      ]
     },
     "execution_count": 28,
     "metadata": {},
     "output_type": "execute_result"
    }
   ],
   "source": [
    "np.zeros((2,5)) # shapelike - takes in tuple or a list"
   ]
  },
  {
   "cell_type": "code",
   "execution_count": 32,
   "metadata": {},
   "outputs": [
    {
     "name": "stdout",
     "output_type": "stream",
     "text": [
      "(3, 3)\n",
      "matrix_3x3[2,:]=array([ 1., 10.,  1.])\n",
      "matrix_3x3[:,1]=array([ 1.,  1., 10.])\n"
     ]
    },
    {
     "data": {
      "text/plain": [
       "array([ 2., 11., 11.])"
      ]
     },
     "execution_count": 32,
     "metadata": {},
     "output_type": "execute_result"
    }
   ],
   "source": [
    "print(matrix_3x3.shape)\n",
    "\n",
    "# slicing operator to get a row\n",
    "print(f\"{matrix_3x3[2,:]=}\")\n",
    "\n",
    "# slicing operator to get a column\n",
    "print(f\"{matrix_3x3[:,1]=}\")\n",
    "\n",
    "# add 2 vectors\n",
    "matrix_3x3[2,:] + matrix_3x3[:,1]"
   ]
  }
 ],
 "metadata": {
  "kernelspec": {
   "display_name": "Python 3.9.13 ('Python-Elias-El-Haddad-KdAe7nXC')",
   "language": "python",
   "name": "python3"
  },
  "language_info": {
   "codemirror_mode": {
    "name": "ipython",
    "version": 3
   },
   "file_extension": ".py",
   "mimetype": "text/x-python",
   "name": "python",
   "nbconvert_exporter": "python",
   "pygments_lexer": "ipython3",
   "version": "3.9.13"
  },
  "orig_nbformat": 4,
  "vscode": {
   "interpreter": {
    "hash": "e66b0b6841b8a65024e468e80548b1ced47ff1ba5bbf1edee51c862e3cd59c08"
   }
  }
 },
 "nbformat": 4,
 "nbformat_minor": 2
}
