{
 "cells": [
  {
   "cell_type": "markdown",
   "metadata": {},
   "source": [
    "# for-loop"
   ]
  },
  {
   "cell_type": "code",
   "execution_count": 3,
   "metadata": {},
   "outputs": [
    {
     "name": "stdout",
     "output_type": "stream",
     "text": [
      "0 hej\n",
      "1 hej\n",
      "2 hej\n",
      "3 hej\n",
      "4 hej\n"
     ]
    }
   ],
   "source": [
    "for i in range(5):\n",
    "    print(i, \"hej\")"
   ]
  },
  {
   "cell_type": "code",
   "execution_count": 4,
   "metadata": {},
   "outputs": [
    {
     "name": "stdout",
     "output_type": "stream",
     "text": [
      "0\t1\t2\t3\t4\t5\t6\t7\t8\t9\t"
     ]
    }
   ],
   "source": [
    "for i in range(10):\n",
    "    print(i, end = \"\\t\")"
   ]
  },
  {
   "cell_type": "code",
   "execution_count": 6,
   "metadata": {},
   "outputs": [
    {
     "name": "stdout",
     "output_type": "stream",
     "text": [
      "sum = 9\n"
     ]
    }
   ],
   "source": [
    "sum = 0\n",
    "\n",
    "for i in range(10):\n",
    "    sum += i\n",
    "\n",
    "print(f\"sum = {i}\")"
   ]
  },
  {
   "cell_type": "markdown",
   "metadata": {},
   "source": [
    "## loop through a list"
   ]
  },
  {
   "cell_type": "code",
   "execution_count": 7,
   "metadata": {},
   "outputs": [
    {
     "name": "stdout",
     "output_type": "stream",
     "text": [
      "rabbit is cute\n",
      "guinea pig is cute\n",
      "cat is cute\n",
      "puppy is cute\n"
     ]
    }
   ],
   "source": [
    "cute_animals = [\"rabbit\", \"guinea pig\", \"cat\", \"puppy\"]\n",
    "\n",
    "for animal in cute_animals:\n",
    "    print(f\"{animal} is cute\")"
   ]
  },
  {
   "cell_type": "markdown",
   "metadata": {},
   "source": [
    "## random module"
   ]
  },
  {
   "cell_type": "code",
   "execution_count": 10,
   "metadata": {},
   "outputs": [
    {
     "name": "stdout",
     "output_type": "stream",
     "text": [
      "number_sixes = 165823\n",
      "proportion of sixes 0.165823\n"
     ]
    }
   ],
   "source": [
    "import random as rnd \n",
    "\n",
    "number_sixes = 0\n",
    "number_rolls = 1000000\n",
    "\n",
    "for i in range(number_rolls):\n",
    "    dice = rnd.randint(1,6)\n",
    "    if dice == 6:\n",
    "        number_sixes += 1\n",
    "\n",
    "print(f\"{number_sixes = }\")\n",
    "print(f\"proportion of sixes {number_sixes / number_rolls}\")\n"
   ]
  },
  {
   "cell_type": "markdown",
   "metadata": {},
   "source": [
    "## Pasta\n",
    "\n",
    "Nationella prov ma3c ht14 - uppgift 18"
   ]
  },
  {
   "cell_type": "code",
   "execution_count": 12,
   "metadata": {},
   "outputs": [
    {
     "name": "stdout",
     "output_type": "stream",
     "text": [
      "År 1966 är pastakonsumtion 15kg/ person per år\n"
     ]
    }
   ],
   "source": [
    "import math\n",
    "\n",
    "for year in range(10000):\n",
    "    pasta_consumption = .791 * math.exp(.526*year)\n",
    "    if pasta_consumption >= 15:\n",
    "        print(f\"År {year+1960} är pastakonsumtion 15kg/ person per år\")\n",
    "        break"
   ]
  },
  {
   "cell_type": "code",
   "execution_count": 14,
   "metadata": {},
   "outputs": [
    {
     "name": "stdout",
     "output_type": "stream",
     "text": [
      "Supermycket pasta\n"
     ]
    },
    {
     "data": {
      "image/png": "[encoded data removed]",
      "text/plain": [
       "<Figure size 640x480 with 1 Axes>"
      ]
     },
     "metadata": {},
     "output_type": "display_data"
    }
   ],
   "source": [
    "## b)\n",
    "\n",
    "import matplotlib.pyplot as plt\n",
    "\n",
    "pasta_per_year = []\n",
    "\n",
    "for year in range(140):\n",
    "    pasta_consumption = 791*math.exp(.526*year)\n",
    "    pasta_per_year.append(pasta_consumption)\n",
    "\n",
    "plt.plot(range(1960, 2100), pasta_per_year)\n",
    "plt.xlabel(\"År\")\n",
    "plt.ylabel(\"Pastakonsumtion i kg\")\n",
    "plt.title(\"Pastakonsumtion/kg per person per år från 1960\")\n",
    "\n",
    "print(\"Supermycket pasta\")"
   ]
  },
  {
   "cell_type": "markdown",
   "metadata": {},
   "source": [
    "## Nested loop\n",
    "\n",
    "```\n",
    "(1,1)(1,2)(1,3)\n",
    "(2,1)(2,2)(2,3)\n",
    "(3,1)(3,2)(3,3)\n",
    "```\n"
   ]
  },
  {
   "cell_type": "code",
   "execution_count": 16,
   "metadata": {},
   "outputs": [
    {
     "name": "stdout",
     "output_type": "stream",
     "text": [
      "(1,1)(1,2)(1,3)\n",
      "(2,1)(2,2)(2,3)\n",
      "(3,1)(3,2)(3,3)\n"
     ]
    }
   ],
   "source": [
    "for row in range(1,4):\n",
    "    for col in range(1,4):\n",
    "        print(f\"({row},{col})\", end = \"\") # end lets you decide how to en ur print stat\n",
    "    print() # new line"
   ]
  },
  {
   "cell_type": "code",
   "execution_count": null,
   "metadata": {},
   "outputs": [],
   "source": []
  }
 ],
 "metadata": {
  "kernelspec": {
   "display_name": "Python 3.9.13 64-bit",
   "language": "python",
   "name": "python3"
  },
  "language_info": {
   "codemirror_mode": {
    "name": "ipython",
    "version": 3
   },
   "file_extension": ".py",
   "mimetype": "text/x-python",
   "name": "python",
   "nbconvert_exporter": "python",
   "pygments_lexer": "ipython3",
   "version": "3.9.13"
  },
  "orig_nbformat": 4,
  "vscode": {
   "interpreter": {
    "hash": "b69d018eeda785eaf4bc07a2891481be73b2136ce99b860067652d3b8a9a52f8"
   }
  }
 },
 "nbformat": 4,
 "nbformat_minor": 2
}
