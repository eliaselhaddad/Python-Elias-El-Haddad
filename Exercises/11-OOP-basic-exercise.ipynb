{
 "cells": [
  {
   "cell_type": "markdown",
   "metadata": {},
   "source": [
    "## 1. Unit conversion (*)\n",
    "Create a class for converting US units to the metric system. It should have the following bound methods:\n",
    "\n",
    "__init__ (self, value)\n",
    "\n",
    "inch_to_cm(self)\n",
    "\n",
    "foot_to_meters(self)\n",
    "\n",
    "pound_to_kg(self)\n",
    "\n",
    "__repr__(self)"
   ]
  },
  {
   "cell_type": "code",
   "execution_count": 38,
   "metadata": {},
   "outputs": [
    {
     "name": "stdout",
     "output_type": "stream",
     "text": [
      "7 feet = 2.1336 m\n",
      "7 inch = 17.78 cm\n",
      "7 pounds = 3.17514659 kg\n"
     ]
    }
   ],
   "source": [
    "class UnitUS:\n",
    "\n",
    "    def __init__(self, value):\n",
    "        self.value = value\n",
    "\n",
    "    def inch_to_cm(self):\n",
    "        if self.value < 0:\n",
    "            raise ValueError(\"You can only convert positive values\")\n",
    "        return f\"{2.54 * self.value}\"\n",
    "\n",
    "    def foot_to_meters(self):\n",
    "        if self.value < 0:\n",
    "            raise ValueError(\"You can only convert positive values\")\n",
    "        return f\"{0.3048 * self.value}\"\n",
    "\n",
    "    def pound_to_kg(self):\n",
    "        if self.value < 0:\n",
    "            raise ValueError(\"You can only convert positive values\")\n",
    "        return f\"{0.45359237 * self.value}\"\n",
    "\n",
    "    def __repr__(self):\n",
    "        return f\"UnitUS (value = '{self.value}')\"\n",
    "\n",
    "try:\n",
    "    units = UnitUS(7)\n",
    "except ValueError as err:\n",
    "    print(err)\n",
    "\n",
    "print(f\"{units.value} feet = {units.foot_to_meters()} m\")\n",
    "print(f\"{units.value} inch = {units.inch_to_cm()} cm\")\n",
    "print(f\"{units.value} pounds = {units.pound_to_kg()} kg\")"
   ]
  },
  {
   "cell_type": "code",
   "execution_count": null,
   "metadata": {},
   "outputs": [],
   "source": []
  }
 ],
 "metadata": {
  "kernelspec": {
   "display_name": "Python 3.9.13 64-bit",
   "language": "python",
   "name": "python3"
  },
  "language_info": {
   "codemirror_mode": {
    "name": "ipython",
    "version": 3
   },
   "file_extension": ".py",
   "mimetype": "text/x-python",
   "name": "python",
   "nbconvert_exporter": "python",
   "pygments_lexer": "ipython3",
   "version": "3.9.13"
  },
  "orig_nbformat": 4,
  "vscode": {
   "interpreter": {
    "hash": "b69d018eeda785eaf4bc07a2891481be73b2136ce99b860067652d3b8a9a52f8"
   }
  }
 },
 "nbformat": 4,
 "nbformat_minor": 2
}
