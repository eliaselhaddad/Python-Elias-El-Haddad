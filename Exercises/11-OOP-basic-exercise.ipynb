{
 "cells": [
  {
   "cell_type": "markdown",
   "metadata": {},
   "source": [
    "## 1. Unit conversion (*)\n",
    "Create a class for converting US units to the metric system. It should have the following bound methods:\n",
    "\n",
    "__init__ (self, value)\n",
    "\n",
    "inch_to_cm(self)\n",
    "\n",
    "foot_to_meters(self)\n",
    "\n",
    "pound_to_kg(self)\n",
    "\n",
    "__repr__(self)"
   ]
  },
  {
   "cell_type": "code",
   "execution_count": 2,
   "metadata": {},
   "outputs": [
    {
     "name": "stdout",
     "output_type": "stream",
     "text": [
      "5 feet = 1.524 m\n",
      "5 inch = 12.7 cm\n",
      "5 pounds = 2.2679618500000003 kg\n"
     ]
    }
   ],
   "source": [
    "class UnitUS:\n",
    "\n",
    "    def __init__(self, value):\n",
    "        self.value = value\n",
    "        \n",
    "        if not isinstance(value, (float, int)):\n",
    "            raise TypeError(f\"{value} is not valid. You can convert only numbers\")\n",
    "\n",
    "    def inch_to_cm(self):\n",
    "        if self.value < 0:\n",
    "            raise ValueError(\"You can only convert positive values\")\n",
    "        return (2.54 * self.value)\n",
    "\n",
    "    def foot_to_meters(self):\n",
    "        if self.value < 0:\n",
    "            raise ValueError(\"You can only convert positive values\")\n",
    "        return 0.3048 * self.value\n",
    "\n",
    "    def pound_to_kg(self):\n",
    "        if self.value < 0:\n",
    "            raise ValueError(\"You can only convert positive values\")\n",
    "        return 0.45359237 * self.value\n",
    "\n",
    "    def __repr__(self):\n",
    "        return f\"UnitUS (value = '{self.value}')\"\n",
    "\n",
    "try:\n",
    "    units = UnitUS(5)\n",
    "except ValueError as err:\n",
    "    print(err)\n",
    "\n",
    "print(f\"{units.value} feet = {units.foot_to_meters()} m\")\n",
    "print(f\"{units.value} inch = {units.inch_to_cm()} cm\")\n",
    "print(f\"{units.value} pounds = {units.pound_to_kg()} kg\")"
   ]
  },
  {
   "cell_type": "markdown",
   "metadata": {},
   "source": [
    "## 2. Person (*)\n",
    "Create a class named Person, with parameterized constructor with the following parameters:\n",
    "\n",
    "    - name\n",
    "    - age\n",
    "    - email\n",
    "- Turn name, age, email into properties with following validations in their setters:\n",
    "\n",
    "    - name - must be string\n",
    "    - age - must be number between 0 and 125\n",
    "    - email - must include an @ sign\n",
    "    - It should also have __repr__ method to represent the Person class in a neat way.\n",
    "\n",
    "- Also create a method say_hello() that prints\n",
    "    - Hi, my name is ..., I am ... years old, my email address is ... "
   ]
  },
  {
   "cell_type": "code",
   "execution_count": null,
   "metadata": {},
   "outputs": [],
   "source": [
    "class Person:\n",
    "    def __init__(self, name, age, email):\n",
    "        self.name = name\n",
    "        self.age = age\n",
    "        self.email = email"
   ]
  }
 ],
 "metadata": {
  "kernelspec": {
   "display_name": "Python 3.9.13 ('Python-Elias-El-Haddad-KdAe7nXC')",
   "language": "python",
   "name": "python3"
  },
  "language_info": {
   "codemirror_mode": {
    "name": "ipython",
    "version": 3
   },
   "file_extension": ".py",
   "mimetype": "text/x-python",
   "name": "python",
   "nbconvert_exporter": "python",
   "pygments_lexer": "ipython3",
   "version": "3.9.13"
  },
  "orig_nbformat": 4,
  "vscode": {
   "interpreter": {
    "hash": "e66b0b6841b8a65024e468e80548b1ced47ff1ba5bbf1edee51c862e3cd59c08"
   }
  }
 },
 "nbformat": 4,
 "nbformat_minor": 2
}
