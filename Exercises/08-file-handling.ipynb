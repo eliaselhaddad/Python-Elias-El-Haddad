{
 "cells": [
  {
   "cell_type": "markdown",
   "metadata": {},
   "source": [
    "## 1. Dice rolls (*)\n",
    "Create a textfile called dice_rolls.txt using Python. Also for each subtask, write adequate headers.\n",
    "\n",
    "  a)   Simulate 20 dice rolls and write them to your textfile. (*)\n",
    "\n",
    "  b)   Sort the dice rolls from a) and write them to a separate row in the same textfile. (*)\n",
    "\n",
    "  c)   Count the number of fours in the dice rolls and write them to a separate row in the same textfile. (*)"
   ]
  },
  {
   "cell_type": "code",
   "execution_count": 81,
   "metadata": {},
   "outputs": [
    {
     "name": "stdout",
     "output_type": "stream",
     "text": [
      "['5']['5']['6']['2']['3']['6']['2']['6']['6']['6']['4']['2']['6']['1']['4']['4']['6']['3']['5']['3']"
     ]
    }
   ],
   "source": [
    "from random import randint as rnd\n",
    "\n",
    "file = open(\"dice_rolls.txt\", \"w\")\n",
    "#print(file)\n",
    "\n",
    "\n",
    "for number in range(20):\n",
    "    random_number = str(rnd(1, 6))\n",
    "    numbers_as_list = random_number.split()\n",
    "\n",
    "    number_generator = file.write(str(numbers_as_list))\n",
    "    print(numbers_as_list, end = \"\")\n"
   ]
  }
 ],
 "metadata": {
  "kernelspec": {
   "display_name": "Python 3.9.13 ('Python-Elias-El-Haddad-KdAe7nXC')",
   "language": "python",
   "name": "python3"
  },
  "language_info": {
   "codemirror_mode": {
    "name": "ipython",
    "version": 3
   },
   "file_extension": ".py",
   "mimetype": "text/x-python",
   "name": "python",
   "nbconvert_exporter": "python",
   "pygments_lexer": "ipython3",
   "version": "3.9.13"
  },
  "orig_nbformat": 4,
  "vscode": {
   "interpreter": {
    "hash": "e66b0b6841b8a65024e468e80548b1ced47ff1ba5bbf1edee51c862e3cd59c08"
   }
  }
 },
 "nbformat": 4,
 "nbformat_minor": 2
}
