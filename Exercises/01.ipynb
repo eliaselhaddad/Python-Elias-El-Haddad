{
 "cells": [
  {
   "cell_type": "markdown",
   "metadata": {},
   "source": [
    "## 1. Check sign (*)\n",
    "\n",
    "Ask the user to input a number and check if this number is **positive**, **negative** or **zero** and print it out."
   ]
  },
  {
   "cell_type": "code",
   "execution_count": 3,
   "metadata": {},
   "outputs": [
    {
     "name": "stdout",
     "output_type": "stream",
     "text": [
      "0 this is a zero.\n"
     ]
    }
   ],
   "source": [
    "number = int(input(\"Enter a number: \"))\n",
    "\n",
    "if number > 0:\n",
    "    print(f\"{number} is a positive number.\")\n",
    "elif number < 0:\n",
    "    print(f\"{number} is a negative number.\")\n",
    "else:\n",
    "    print(f\"{number} this is a zero.\")\n"
   ]
  },
  {
   "cell_type": "markdown",
   "metadata": {},
   "source": [
    "# 2. Smallest (*)\n",
    "Ask the user to input two numbers and check which one is the smallest and print it out.\n",
    "\n"
   ]
  },
  {
   "cell_type": "code",
   "execution_count": 1,
   "metadata": {},
   "outputs": [
    {
     "name": "stdout",
     "output_type": "stream",
     "text": [
      "65 is smaller than 105\n"
     ]
    }
   ],
   "source": [
    "first_number = int(input(\"Enter the first number: \"))\n",
    "second_number = int(input(\"Enter the second number: \"))\n",
    "\n",
    "if first_number < second_number:\n",
    "    print(f\"{first_number} is smaller than {second_number}\")\n",
    "elif second_number < first_number:\n",
    "    print(f\"{second_number} is smaller than {first_number}\")\n"
   ]
  },
  {
   "cell_type": "markdown",
   "metadata": {},
   "source": [
    "# 3. Right angle (*)\n",
    "Ask the user to input three angles and check if the triangle has a right angle. Your code should make sure that all three angles are valid and make up a triangle."
   ]
  },
  {
   "cell_type": "code",
   "execution_count": 3,
   "metadata": {},
   "outputs": [
    {
     "name": "stdout",
     "output_type": "stream",
     "text": [
      "This is a right angled triangle\n"
     ]
    }
   ],
   "source": [
    "A = int(input(\"Enter the value of A angle: \"))\n",
    "B = int(input(\"Enter the value of B angle: \"))\n",
    "C = int(input(\"Enter the value of C angle: \"))\n",
    "\n",
    "if A == 90 or B == 90 or C == 90 and A + B + C == 180 and A > 0 and B > 0 and C > 0:\n",
    "    print(\"This is a right angled triangle\")\n",
    "elif A + B + C == 180:\n",
    "    print(\"This is a triangle\")\n",
    "else:\n",
    "    print(\"this is not a triangle\")\n"
   ]
  },
  {
   "cell_type": "code",
   "execution_count": null,
   "metadata": {},
   "outputs": [],
   "source": []
  },
  {
   "cell_type": "code",
   "execution_count": null,
   "metadata": {},
   "outputs": [],
   "source": []
  },
  {
   "cell_type": "code",
   "execution_count": null,
   "metadata": {},
   "outputs": [],
   "source": []
  }
 ],
 "metadata": {
  "kernelspec": {
   "display_name": "Python 3.9.13 ('Python-Elias-El-Haddad-KdAe7nXC')",
   "language": "python",
   "name": "python3"
  },
  "language_info": {
   "codemirror_mode": {
    "name": "ipython",
    "version": 3
   },
   "file_extension": ".py",
   "mimetype": "text/x-python",
   "name": "python",
   "nbconvert_exporter": "python",
   "pygments_lexer": "ipython3",
   "version": "3.9.13"
  },
  "orig_nbformat": 4,
  "vscode": {
   "interpreter": {
    "hash": "e66b0b6841b8a65024e468e80548b1ced47ff1ba5bbf1edee51c862e3cd59c08"
   }
  }
 },
 "nbformat": 4,
 "nbformat_minor": 2
}
