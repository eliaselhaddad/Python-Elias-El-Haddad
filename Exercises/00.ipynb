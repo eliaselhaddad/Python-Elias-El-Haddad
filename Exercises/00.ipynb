{
 "cells": [
  {
   "cell_type": "code",
   "execution_count": 3,
   "metadata": {},
   "outputs": [
    {
     "name": "stdout",
     "output_type": "stream",
     "text": [
      "The hypothenuse is 5 length units\n",
      "175.0\n"
     ]
    }
   ],
   "source": [
    "# 1\n",
    "import math\n",
    "# a\n",
    "a = 3**2\n",
    "b = 4**2\n",
    "c = a + b\n",
    "print(f\"The hypothenuse is {int(math.sqrt(c))} length units\")\n",
    "\n",
    "# b\n",
    "c = math.sqrt(7**2)\n",
    "a = 5**2\n",
    "b = \n",
    "print(f\"{b}\")"
   ]
  },
  {
   "cell_type": "code",
   "execution_count": null,
   "metadata": {},
   "outputs": [],
   "source": [
    "\n"
   ]
  }
 ],
 "metadata": {
  "kernelspec": {
   "display_name": "Python 3.9.13 64-bit",
   "language": "python",
   "name": "python3"
  },
  "language_info": {
   "codemirror_mode": {
    "name": "ipython",
    "version": 3
   },
   "file_extension": ".py",
   "mimetype": "text/x-python",
   "name": "python",
   "nbconvert_exporter": "python",
   "pygments_lexer": "ipython3",
   "version": "3.9.13"
  },
  "orig_nbformat": 4,
  "vscode": {
   "interpreter": {
    "hash": "b69d018eeda785eaf4bc07a2891481be73b2136ce99b860067652d3b8a9a52f8"
   }
  }
 },
 "nbformat": 4,
 "nbformat_minor": 2
}
