{
 "cells": [
  {
   "cell_type": "markdown",
   "metadata": {},
   "source": [
    "## 1. Dice rolls (*)\n",
    "Simulate 10 dice rolls and append the rolls to a list or use list comprehension.\n",
    "\n",
    "  a)   sort the list in ascending order (*)\n",
    "\n",
    "  b)   sort the list in descending order (*)\n",
    "\n",
    "  c)   find the maximum and minimum value in the list (*"
   ]
  },
  {
   "cell_type": "code",
   "execution_count": 34,
   "metadata": {},
   "outputs": [
    {
     "name": "stdout",
     "output_type": "stream",
     "text": [
      "[0, 1, 2, 3, 4, 5, 6, 7, 8, 9]\n",
      "[2, 4, 3, 1, 2, 2, 2, 6, 3, 4]\n",
      "[1, 2, 2, 2, 2, 3, 3, 4, 4, 6]\n",
      "[6, 4, 4, 3, 3, 2, 2, 2, 2, 1]\n",
      "6\n",
      "1\n"
     ]
    }
   ],
   "source": [
    "import random\n",
    "\n",
    "d_r = random.randint(1,6)\n",
    "d_r_list = []\n",
    "\n",
    "for i in range(10):\n",
    "    d_r_list.append(i)\n",
    "print(d_r_list)\n",
    "\n",
    "dice_rolls = [random.randint(1,6) for _ in range(10)]\n",
    "print(dice_rolls) \n",
    "\n",
    "dice_rolls.sort()\n",
    "print(dice_rolls)\n",
    "\n",
    "dice_rolls.sort(reverse=True)\n",
    "print(dice_rolls)\n",
    "\n",
    "print(max(dice_rolls))\n",
    "print(min(dice_rolls))"
   ]
  },
  {
   "cell_type": "markdown",
   "metadata": {},
   "source": [
    "## 2. Food menu (*)\n",
    "Create a:\n",
    "\n",
    "  a)   list with the following elements: \"vegetarisk lasagne\", \"spaghetti\", \"fisk\", \"grönsakssoppa\", \"pannkakor\". (*)\n",
    "\n",
    "  b)   list with the weekdays (*)\n",
    "\n",
    "  c)   create a food menu with each day corresponding to each food item and print it out. (*)"
   ]
  },
  {
   "cell_type": "code",
   "execution_count": 55,
   "metadata": {},
   "outputs": [
    {
     "name": "stdout",
     "output_type": "stream",
     "text": [
      "Food menu \n",
      "måndag: vegetarisk lasagne\n",
      "tisdag: spaghetti\n",
      "onsdag: fisk\n",
      "torsdag: grönsakssoppa\n",
      "fredag: pannkakor\n",
      "\n"
     ]
    }
   ],
   "source": [
    "foods = [\"vegetarisk lasagne\", \"spaghetti\", \"fisk\", \"grönsakssoppa\", \"pannkakor\"]\n",
    "week_days = [\"måndag\", \"tisdag\", \"onsdag\", \"torsdag\", \"fredag\"]\n",
    "menu = \"Food menu \\n\"\n",
    "\n",
    "for food, day in zip(foods, week_days):\n",
    "    menu += f\"{day}: {food}\\n\"\n",
    "\n",
    "print(menu)"
   ]
  }
 ],
 "metadata": {
  "kernelspec": {
   "display_name": "Python 3.9.13 64-bit",
   "language": "python",
   "name": "python3"
  },
  "language_info": {
   "codemirror_mode": {
    "name": "ipython",
    "version": 3
   },
   "file_extension": ".py",
   "mimetype": "text/x-python",
   "name": "python",
   "nbconvert_exporter": "python",
   "pygments_lexer": "ipython3",
   "version": "3.9.13"
  },
  "orig_nbformat": 4,
  "vscode": {
   "interpreter": {
    "hash": "b69d018eeda785eaf4bc07a2891481be73b2136ce99b860067652d3b8a9a52f8"
   }
  }
 },
 "nbformat": 4,
 "nbformat_minor": 2
}
