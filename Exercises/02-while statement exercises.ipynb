{
 "cells": [
  {
   "cell_type": "markdown",
   "metadata": {},
   "source": [
    "## 1. Count numbers (*)\n",
    "Use a while statement to count from -10 to 10 with one increment."
   ]
  },
  {
   "cell_type": "code",
   "execution_count": 6,
   "metadata": {},
   "outputs": [
    {
     "name": "stdout",
     "output_type": "stream",
     "text": [
      "-10 -9 -8 -7 -6 -5 -4 -3 -2 -1 0 1 2 3 4 5 6 7 8 9 10 "
     ]
    }
   ],
   "source": [
    "counter = -11\n",
    "\n",
    "while counter < 10:\n",
    "    counter += 1\n",
    "    print(counter, end = \" \")"
   ]
  },
  {
   "cell_type": "markdown",
   "metadata": {},
   "source": [
    "## 2. Arithmetic sum (*)\n",
    "Use a while statement to compute the following sums:\n",
    "\n",
    "  a)   sum=1+2+…+99+100\n",
    "\n",
    "  b)   sum=1+3+5+…+97+99"
   ]
  },
  {
   "cell_type": "code",
   "execution_count": 38,
   "metadata": {},
   "outputs": [
    {
     "name": "stdout",
     "output_type": "stream",
     "text": [
      "1 3 6 10 15 21 28 36 45 55 66 78 91 105 120 136 153 171 190 210 231 253 276 300 325 351 378 406 435 465 496 528 561 595 630 666 703 741 780 820 861 903 946 990 1035 1081 1128 1176 1225 1275 1326 1378 1431 1485 1540 1596 1653 1711 1770 1830 1891 1953 2016 2080 2145 2211 2278 2346 2415 2485 2556 2628 2701 2775 2850 2926 3003 3081 3160 3240 3321 3403 3486 3570 3655 3741 3828 3916 4005 4095 4186 4278 4371 4465 4560 4656 4753 4851 4950 5050 25\n"
     ]
    }
   ],
   "source": [
    "counter = 0\n",
    "sum = 0\n",
    "\n",
    "# while counter < 100:\n",
    "#     counter += 1\n",
    "#     sum = sum + counter\n",
    "#     print(sum , end = \" \")\n",
    "\n",
    "while counter < 100:\n",
    "    counter += 1\n",
    "    sum = sum + counter\n",
    "    print(sum , end = \" \")\n",
    "\n",
    "sum = 1+3+5+7+9\n",
    "print(sum)\n",
    "\n",
    "\n"
   ]
  },
  {
   "cell_type": "markdown",
   "metadata": {},
   "source": [
    "## 3. Guess number game (*)"
   ]
  },
  {
   "cell_type": "code",
   "execution_count": 3,
   "metadata": {},
   "outputs": [
    {
     "name": "stdout",
     "output_type": "stream",
     "text": [
      "50 Too high. You have 9 attempts left\n",
      "25 Too high. You have 8 attempts left\n",
      "10 Too low. You have 7 attempts left\n",
      "15 Too low. You have 6 attempts left\n",
      "20 Too low. You have 5 attempts left\n",
      "21 Too low. You have 4 attempts left\n",
      "Congratulation!!! You win 22 is the right numnber\n"
     ]
    }
   ],
   "source": [
    "import random\n",
    "\n",
    "answer = random.randint(1, 100)\n",
    "attempts = 10\n",
    "guess = 0\n",
    "\n",
    "while attempts != 0 and guess != answer:\n",
    "    guess = int(input(\"Enter a number between 1 and 100: \"))\n",
    "\n",
    "    if guess < answer:\n",
    "        attempts -= 1\n",
    "        print(f\"{guess} Too low. You have {attempts} attempts left\")\n",
    "    elif guess > answer:\n",
    "        attempts -= 1\n",
    "        print(f\"{guess} Too high. You have {attempts} attempts left\")\n",
    "    else:\n",
    "        print(f\"Congratulation!!! You win {answer} is the right numnber\")"
   ]
  },
  {
   "cell_type": "markdown",
   "metadata": {},
   "source": [
    "## 4. Multiplication game (*)\n"
   ]
  },
  {
   "cell_type": "code",
   "execution_count": 10,
   "metadata": {},
   "outputs": [
    {
     "name": "stdout",
     "output_type": "stream",
     "text": [
      "Good work. Your score is 1\n",
      "Good work. Your score is 2\n",
      "Better luck next time. The correct answer was 25\n"
     ]
    }
   ],
   "source": [
    "import random\n",
    "\n",
    "def game():\n",
    "    score = 0\n",
    "    play_game = True\n",
    "    \n",
    "    while play_game:\n",
    "        num_1 = random.randint(1, 10)\n",
    "        num_2 = random.randint(1, 10)\n",
    "\n",
    "        users_answer = int(input(f\"What is {num_1} times {num_2} ?\"))\n",
    "        correct_answer = num_1 * num_2\n",
    "\n",
    "        if users_answer == correct_answer:\n",
    "            score += 1\n",
    "            print(f\"Good work. Your score is {score}\")\n",
    "        else:\n",
    "            print(f\"Better luck next time. The correct answer was {correct_answer}\")\n",
    "            break\n",
    "\n",
    "def play_again():\n",
    "    restart = \"\"\n",
    "    while restart == 'yes':\n",
    "        restart = input(\"Would you like to play again? Type 'yes' or 'no': \")\n",
    "\n",
    "        if restart == 'yes':\n",
    "            game()\n",
    "        else:\n",
    "            print(\"Thanks for playing!\")\n",
    "\n",
    "game()\n",
    "play_again()"
   ]
  },
  {
   "cell_type": "code",
   "execution_count": null,
   "metadata": {},
   "outputs": [],
   "source": []
  }
 ],
 "metadata": {
  "kernelspec": {
   "display_name": "Python 3.9.13 ('Python-Elias-El-Haddad-KdAe7nXC')",
   "language": "python",
   "name": "python3"
  },
  "language_info": {
   "codemirror_mode": {
    "name": "ipython",
    "version": 3
   },
   "file_extension": ".py",
   "mimetype": "text/x-python",
   "name": "python",
   "nbconvert_exporter": "python",
   "pygments_lexer": "ipython3",
   "version": "3.9.13"
  },
  "orig_nbformat": 4,
  "vscode": {
   "interpreter": {
    "hash": "e66b0b6841b8a65024e468e80548b1ced47ff1ba5bbf1edee51c862e3cd59c08"
   }
  }
 },
 "nbformat": 4,
 "nbformat_minor": 2
}
