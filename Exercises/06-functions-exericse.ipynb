{
 "cells": [
  {
   "cell_type": "markdown",
   "metadata": {},
   "source": [
    "## 1. Area (*)\n",
    "Create a function that takes the base and height of a triangle as input parameters and returns the area of the triangle."
   ]
  },
  {
   "cell_type": "code",
   "execution_count": 8,
   "metadata": {},
   "outputs": [
    {
     "data": {
      "text/plain": [
       "18.0"
      ]
     },
     "execution_count": 8,
     "metadata": {},
     "output_type": "execute_result"
    }
   ],
   "source": [
    "base = int(input(\"Enter base: \"))\n",
    "height = int(input(\"Enter height: \"))\n",
    "def area(base, height):\n",
    "    a = (1/2) * (base * height)\n",
    "    return a\n",
    "\n",
    "area(base, height)"
   ]
  },
  {
   "cell_type": "markdown",
   "metadata": {},
   "source": [
    "## 2. Euclidean distance (*)\n",
    "The formula for Euclidean distance in 2D between  P:(p1,p2)  and  Q:(q1,q2)  is:\n",
    "\n",
    "d(P,Q)=sqrt(p1−q1)2+(p2−q2)2\n",
    "\n",
    "  a)   Create a function that takes two points as input parameters and return the Euclidean between them. (*)\n",
    "\n",
    "  b)   Let the user input two points. Call the function using the users input points. (*)\n",
    "\n",
    "  c)   Use your function to calculate distances between the origin (0, 0) and each of these points: (10, 3), (-1, -9), (10, -10), (4, -2), (9, -10). (*)"
   ]
  },
  {
   "cell_type": "code",
   "execution_count": 22,
   "metadata": {},
   "outputs": [
    {
     "name": "stdout",
     "output_type": "stream",
     "text": [
      "9 6 2 1\n",
      "3.1622776601683795\n"
     ]
    }
   ],
   "source": [
    "import math\n",
    "# a\n",
    "# def euclidean(x1, y1, x2, y2):\n",
    "#     d = math.sqrt((x1-y1)**2 + (x2-y2)**2)\n",
    "#     return d\n",
    "# euclidean(5, 6, 8, 7)\n",
    "\n",
    "#b\n",
    "point1 = input(\"Enter x1 and y1, separated by a comma\")\n",
    "point2 = input(\"Enter x2 and y2, separated by a comma\")\n",
    "point1_split = point1.split(\",\")\n",
    "point2_split = point2.split(\",\")\n",
    "x1, y1, x2, y2 = int(point1_split[0]), int(point1_split[1]), int(point2_split[0]), int(point2_split[1])\n",
    "print(x1, y1, x2, y2)\n",
    "\n",
    "distance = math.sqrt((x1-y1)**2 + (x2-y2)**2)\n",
    "print(distance)\n"
   ]
  },
  {
   "cell_type": "markdown",
   "metadata": {},
   "source": [
    "## 3. Mathematical functions (*)\n",
    "Make the following functions with def or lambda and plot their graphs in the same figure window, with  x∈[−10,10]  :\n",
    "\n",
    "  a)    f(x)=x2−3  (*)\n",
    "\n",
    "  b)    g(x)=4x−7  (*)\n",
    "\n",
    "What could the relation between  f(x)  and  g(x)  be?"
   ]
  },
  {
   "cell_type": "code",
   "execution_count": 42,
   "metadata": {},
   "outputs": [
    {
     "data": {
      "text/plain": [
       "[<matplotlib.lines.Line2D at 0x1cdf9ba9850>]"
      ]
     },
     "execution_count": 42,
     "metadata": {},
     "output_type": "execute_result"
    },
    {
     "data": {
      "image/png": "[encoded data removed]",
      "text/plain": [
       "<Figure size 640x480 with 1 Axes>"
      ]
     },
     "metadata": {},
     "output_type": "display_data"
    }
   ],
   "source": [
    "import matplotlib.pyplot as plt\n",
    "\n",
    "func1 = lambda x: x**2-3\n",
    "func2 = lambda x: 4*x-7\n",
    "\n",
    "plt.plot(func1(2))\n",
    "plt.plot(func2(5))"
   ]
  },
  {
   "cell_type": "markdown",
   "metadata": {},
   "source": [
    "## 4. Name cleaner (*)\n",
    "Create a function that takes a name as an input and:\n",
    "\n",
    "- removes all leading and trailing blank spaces\n",
    "- make capitalize the first character of each name, and make the rest lowercase\n",
    "- Use your function on this list of strings:\n",
    "\n",
    "    - [\"  MaRcUs \", \" iDA aNderSon\", \"OLOF Olofsson            \"  ]"
   ]
  },
  {
   "cell_type": "code",
   "execution_count": 65,
   "metadata": {},
   "outputs": [
    {
     "ename": "TypeError",
     "evalue": "list indices must be integers or slices, not str",
     "output_type": "error",
     "traceback": [
      "\u001b[1;31m---------------------------------------------------------------------------\u001b[0m",
      "\u001b[1;31mTypeError\u001b[0m                                 Traceback (most recent call last)",
      "Cell \u001b[1;32mIn [65], line 4\u001b[0m\n\u001b[0;32m      2\u001b[0m names[\u001b[38;5;241m0\u001b[39m]\n\u001b[0;32m      3\u001b[0m \u001b[38;5;28;01mfor\u001b[39;00m i \u001b[38;5;129;01min\u001b[39;00m names:\n\u001b[1;32m----> 4\u001b[0m     \u001b[43mnames\u001b[49m\u001b[43m[\u001b[49m\u001b[43mi\u001b[49m\u001b[43m]\u001b[49m\u001b[38;5;241m.\u001b[39msplit()\n",
      "\u001b[1;31mTypeError\u001b[0m: list indices must be integers or slices, not str"
     ]
    }
   ],
   "source": [
    "\n",
    "    \n",
    "    "
   ]
  }
 ],
 "metadata": {
  "kernelspec": {
   "display_name": "Python 3.9.13 ('Python-Elias-El-Haddad-KdAe7nXC')",
   "language": "python",
   "name": "python3"
  },
  "language_info": {
   "codemirror_mode": {
    "name": "ipython",
    "version": 3
   },
   "file_extension": ".py",
   "mimetype": "text/x-python",
   "name": "python",
   "nbconvert_exporter": "python",
   "pygments_lexer": "ipython3",
   "version": "3.9.13"
  },
  "orig_nbformat": 4,
  "vscode": {
   "interpreter": {
    "hash": "e66b0b6841b8a65024e468e80548b1ced47ff1ba5bbf1edee51c862e3cd59c08"
   }
  }
 },
 "nbformat": 4,
 "nbformat_minor": 2
}
