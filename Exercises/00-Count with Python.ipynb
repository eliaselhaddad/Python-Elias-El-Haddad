{
 "cells": [
  {
   "cell_type": "markdown",
   "metadata": {},
   "source": [
    "### 1/ Pythagorean theorem (*)\n",
    "  a)   A right angled triangle has the catheti: a = 3 and b = 4 length units. Compute the hypothenuse of the triangle. (*)\n",
    "\n",
    "  b)   A right angled triangle has hypothenuse c = 7.0 and a cathetus a = 5.0 length units. Compute the other cathetus and round to one decimal. (*)"
   ]
  },
  {
   "cell_type": "code",
   "execution_count": 11,
   "metadata": {},
   "outputs": [
    {
     "name": "stdout",
     "output_type": "stream",
     "text": [
      "The hypothenuse is 5 length units\n",
      "The other cathetus is 4.9 length units\n"
     ]
    }
   ],
   "source": [
    "import math\n",
    "# a\n",
    "a = 3\n",
    "b = 4\n",
    "c = math.sqrt(a**2 + b**2)\n",
    "\n",
    "print(f\"The hypothenuse is {int(c)} length units\")\n",
    "\n",
    "# b\n",
    "a = 5\n",
    "c = 7\n",
    "b = math.sqrt(-a**2 + c**2)\n",
    "\n",
    "print(f\"The other cathetus is {b:.1f} length units\")"
   ]
  },
  {
   "cell_type": "markdown",
   "metadata": {},
   "source": [
    "### 2/ A machine learning algorithm has been trained to predict whether or not it would rain the next day. Out of 365 predictions, it got 300 correct, compute the accuracy of this model. (*)"
   ]
  },
  {
   "cell_type": "code",
   "execution_count": 1,
   "metadata": {},
   "outputs": [
    {
     "name": "stdout",
     "output_type": "stream",
     "text": [
      "The accuracy percentage is 82.19 %\n"
     ]
    }
   ],
   "source": [
    "number_of_predictions = 365\n",
    "correct_predictions = 300\n",
    "accuracy_percentage = (correct_predictions / number_of_predictions) * 100\n",
    "\n",
    "print(f\"The accuracy percentage is {accuracy_percentage:.2f} %\")\n"
   ]
  },
  {
   "cell_type": "markdown",
   "metadata": {},
   "source": [
    "\n",
    "### 3/ Classification accuracy (*)\n",
    "\n",
    "A machine learning model has been trained to detect fire. Here is the result of its predictions:\n",
    "\n",
    "Formula:\n",
    "$$accuracy = \\frac{TP+TN}{TP+TN+FP+FN}$$ \n"
   ]
  },
  {
   "cell_type": "code",
   "execution_count": 3,
   "metadata": {},
   "outputs": [
    {
     "name": "stdout",
     "output_type": "stream",
     "text": [
      "The accuracy of this model is 0.987.\n"
     ]
    }
   ],
   "source": [
    "true_positive = 2\n",
    "true_negative = 985\n",
    "false_positive = 2\n",
    "false_negative = 11\n",
    "\n",
    "true_predictions = true_positive + true_negative\n",
    "total_predictions = true_positive + true_negative + false_positive + false_negative\n",
    "\n",
    "accuracy = true_predictions / total_predictions\n",
    "\n",
    "print(f\"The accuracy of this model is {accuracy}.\")\n",
    "\n",
    "# No, this is not a good model."
   ]
  },
  {
   "cell_type": "markdown",
   "metadata": {},
   "source": [
    "### 4/ Line (*)\n",
    "Compute the slope  k  and the constant term  m  of this line using the points  A:(4,4)  and  B:(0,1) ."
   ]
  },
  {
   "cell_type": "code",
   "execution_count": 4,
   "metadata": {},
   "outputs": [
    {
     "name": "stdout",
     "output_type": "stream",
     "text": [
      "k = 0.75, m = 1, so the equation for the slope is y = 0.75x + 1\n"
     ]
    }
   ],
   "source": [
    "# y = kx + m\n",
    "x1, x2 = 4, 0\n",
    "y1, y2 = 4, 1\n",
    "\n",
    "k = (y2 - y1) / (x2 - x1)\n",
    "m = int(y1 - k*x1)\n",
    "\n",
    "print(f\"k = {k}, m = {m}, so the equation for the slope is y = {k}x + {m}\")"
   ]
  },
  {
   "cell_type": "markdown",
   "metadata": {},
   "source": [
    "### 5/ Euclidean distance (*)\n",
    "The Euclideam distance between the points  P1  and  P2  is the length of a line between them. Let  P1:(3,5)  and  P2:(−2,4)  and compute the distance between them."
   ]
  },
  {
   "cell_type": "code",
   "execution_count": 8,
   "metadata": {},
   "outputs": [
    {
     "name": "stdout",
     "output_type": "stream",
     "text": [
      "The distance is around 5.1 length units.\n"
     ]
    }
   ],
   "source": [
    "import math\n",
    "\n",
    "# distance = sqrt((x2−x1)**2 + (y2−y1)**2)\n",
    "x1, x2 = 3, -2\n",
    "y1, y2 = 5, 4\n",
    "\n",
    "distance = math.sqrt((x2 - x1)**2 + (y2 - y1)**2)\n",
    "\n",
    "print(f\"The distance is around {distance:.01f} length units.\")"
   ]
  },
  {
   "cell_type": "markdown",
   "metadata": {},
   "source": [
    "# 6. Euclidean distance in 3D (**)\n",
    "Calculate the distance between the points  P1:(2,1,4)  and  P2:(3,1,0)\n",
    "$$d = \\sqrt{(x_1-x_2)^2 + (y_1-y_2)^2}$$\n"
   ]
  },
  {
   "cell_type": "code",
   "execution_count": 3,
   "metadata": {},
   "outputs": [
    {
     "name": "stdout",
     "output_type": "stream",
     "text": [
      "5.0990195135927845\n",
      "The distance is around 5.10 l.u.\n"
     ]
    }
   ],
   "source": [
    "import math\n",
    "\n",
    "point1 = [3, 5]\n",
    "point2 = [-2, 4]\n",
    "\n",
    "distance = math.sqrt((point1[0] - point2[0])**2 + (point1[1] - point2[1])**2)\n",
    "\n",
    "print(f\"The distance is around {distance:.02f} l.u.\")"
   ]
  },
  {
   "cell_type": "code",
   "execution_count": null,
   "metadata": {},
   "outputs": [],
   "source": []
  }
 ],
 "metadata": {
  "kernelspec": {
   "display_name": "Python 3.9.13 ('Python-Elias-El-Haddad-KdAe7nXC')",
   "language": "python",
   "name": "python3"
  },
  "language_info": {
   "codemirror_mode": {
    "name": "ipython",
    "version": 3
   },
   "file_extension": ".py",
   "mimetype": "text/x-python",
   "name": "python",
   "nbconvert_exporter": "python",
   "pygments_lexer": "ipython3",
   "version": "3.9.13"
  },
  "orig_nbformat": 4,
  "vscode": {
   "interpreter": {
    "hash": "e66b0b6841b8a65024e468e80548b1ced47ff1ba5bbf1edee51c862e3cd59c08"
   }
  }
 },
 "nbformat": 4,
 "nbformat_minor": 2
}
