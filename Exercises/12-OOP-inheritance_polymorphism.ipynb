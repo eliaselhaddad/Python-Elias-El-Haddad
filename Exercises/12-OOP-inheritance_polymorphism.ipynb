{
 "cells": [
  {
   "cell_type": "markdown",
   "metadata": {},
   "source": [
    "## Inheritance and polymorphism"
   ]
  },
  {
   "cell_type": "code",
   "execution_count": 26,
   "metadata": {},
   "outputs": [],
   "source": [
    "class Video:\n",
    "    def __init__(self, title: str, genre: str, rating: float) -> None:\n",
    "        self.title = title\n",
    "        self.genre = genre\n",
    "        self.rating = rating\n",
    "\n",
    "    @property\n",
    "    def title(self) -> str:\n",
    "        return self._title\n",
    "\n",
    "    @title.setter\n",
    "    def title(self, value: str) -> None:\n",
    "        if not isinstance(value, (str)):\n",
    "            raise TypeError(f\"title should be a string, not {type(value)}\")\n",
    "        self._title = value\n",
    "\n",
    "    @property\n",
    "    def genre(self) -> str:\n",
    "        return self._genre\n",
    "\n",
    "    @genre.setter\n",
    "    def genre(self, value: str) -> None:\n",
    "        if not isinstance(value, (str)):\n",
    "            raise TypeError(f\"genre should be a string, not {type(value)}\")\n",
    "        self._genre = value\n",
    "\n",
    "    @property\n",
    "    def rating(self) -> float:\n",
    "        return self._rating\n",
    "\n",
    "    @rating.setter\n",
    "    def rating(self, value: float) -> None:\n",
    "        if not isinstance(value, (int, float)):\n",
    "            raise TypeError(f\"rating must be float or int, not {type(value)}\")\n",
    "        if value < 0:\n",
    "            raise ValueError(\"rating must be positive\")\n",
    "        self._rating = value\n",
    "\n",
    "    def info(self) -> str:\n",
    "        return f\"Video with the title {self.title}, genre {self.genre} and rating {self.rating}\""
   ]
  },
  {
   "cell_type": "code",
   "execution_count": 27,
   "metadata": {},
   "outputs": [],
   "source": [
    "class TV_serie(Video):\n",
    "    def __init__(self, title: str, genre: str, rating: float, num_episodes: int) -> None:\n",
    "        super().__init__(title, genre, rating)\n",
    "        self.num_episodes = num_episodes\n",
    "\n",
    "    @property\n",
    "    def num_episodes(self) -> int:\n",
    "        return self._num_episodes\n",
    "\n",
    "    @num_episodes.setter\n",
    "    def num_episodes(self, value) -> None:\n",
    "        if not isinstance(value, int):\n",
    "            raise TypeError(f\"number of episodes must be int, not {type(value)}\")\n",
    "        self._num_episodes = value\n",
    "\n",
    "    def info(self) -> str:\n",
    "        return f\"TV series with title {self.title}, genre {self.genre}, rating {self.rating} and episodes {self.num_episodes}\"\n",
    "\n",
    "class Movie(Video):\n",
    "    def __init__(self, title: str, genre: str, rating: float, duration: float) -> None:\n",
    "        super().__init__(title, genre, rating)\n",
    "        self.duration = duration\n",
    "\n",
    "    @property\n",
    "    def duration(self) -> float:\n",
    "        return self._duration\n",
    "\n",
    "    \n",
    "    @duration.setter\n",
    "    def duration(self, value) -> None:\n",
    "        if not isinstance(value, (int, float)):\n",
    "            raise TypeError(\"duration should be int or float\")\n",
    "        self._duration = value\n",
    "\n",
    "    def info(self):\n",
    "        return f\"Movie with title {self.title}, genre {self.genre}, rating {self.rating}, duration {self.duration} minutes\"\n",
    "\n",
    "\n",
    "class Documentary(Video):\n",
    "    def __init__(self, title, genre, rating):\n",
    "        super().__init__(title, genre, rating)\n"
   ]
  },
  {
   "cell_type": "code",
   "execution_count": 32,
   "metadata": {},
   "outputs": [
    {
     "name": "stdout",
     "output_type": "stream",
     "text": [
      "gender should be a string, not <class 'int'>\n"
     ]
    },
    {
     "data": {
      "text/plain": [
       "'TV series with title Pokemon, genre Cartoon, rating 4.5 and episodes 550'"
      ]
     },
     "execution_count": 32,
     "metadata": {},
     "output_type": "execute_result"
    }
   ],
   "source": [
    "try:\n",
    "    pokemon = TV_serie(\"Pokemon\", 5, 4.5, 550)\n",
    "except TypeError as err:\n",
    "    print(err)\n",
    "titanic = Movie(\"Titanic\", \"Romance\", 4.7, 194)\n",
    "code = Documentary(\"The Code\", \"Math\", 4)\n",
    "pokemon.info()\n",
    "# for video in tuple((pokemon, titanic, code)):\n",
    "#     print(video.info())"
   ]
  }
 ],
 "metadata": {
  "kernelspec": {
   "display_name": "Python 3.9.13 ('Python-Elias-El-Haddad-KdAe7nXC')",
   "language": "python",
   "name": "python3"
  },
  "language_info": {
   "codemirror_mode": {
    "name": "ipython",
    "version": 3
   },
   "file_extension": ".py",
   "mimetype": "text/x-python",
   "name": "python",
   "nbconvert_exporter": "python",
   "pygments_lexer": "ipython3",
   "version": "3.9.13"
  },
  "orig_nbformat": 4,
  "vscode": {
   "interpreter": {
    "hash": "e66b0b6841b8a65024e468e80548b1ced47ff1ba5bbf1edee51c862e3cd59c08"
   }
  }
 },
 "nbformat": 4,
 "nbformat_minor": 2
}
