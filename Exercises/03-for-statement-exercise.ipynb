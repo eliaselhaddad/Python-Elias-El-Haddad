{
 "cells": [
  {
   "cell_type": "markdown",
   "metadata": {},
   "source": [
    "## 1. Count numbers (*)\n",
    "Use a for statement to count from:\n",
    "\n",
    "  a)   -10 to 10 with one increment (*)\n",
    "\n",
    "  b)   -10 to 10 with two increment (*)"
   ]
  },
  {
   "cell_type": "code",
   "execution_count": null,
   "metadata": {},
   "outputs": [],
   "source": []
  }
 ],
 "metadata": {
  "kernelspec": {
   "display_name": "Python 3.9.13 ('Python-Elias-El-Haddad-KdAe7nXC')",
   "language": "python",
   "name": "python3"
  },
  "language_info": {
   "name": "python",
   "version": "3.9.13"
  },
  "orig_nbformat": 4,
  "vscode": {
   "interpreter": {
    "hash": "e66b0b6841b8a65024e468e80548b1ced47ff1ba5bbf1edee51c862e3cd59c08"
   }
  }
 },
 "nbformat": 4,
 "nbformat_minor": 2
}
