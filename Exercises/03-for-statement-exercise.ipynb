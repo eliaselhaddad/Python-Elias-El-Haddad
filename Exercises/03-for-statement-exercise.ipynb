{
 "cells": [
  {
   "cell_type": "markdown",
   "metadata": {},
   "source": [
    "## 1. Count numbers (*)\n",
    "Use a for statement to count from:\n",
    "\n",
    "  a)   -10 to 10 with one increment (*)\n",
    "\n",
    "  b)   -10 to 10 with two increment (*)"
   ]
  },
  {
   "cell_type": "code",
   "execution_count": 7,
   "metadata": {},
   "outputs": [
    {
     "name": "stdout",
     "output_type": "stream",
     "text": [
      "-10 -8 -6 -4 -2 0 2 4 6 8 10 "
     ]
    }
   ],
   "source": [
    "# for i in range(-10, 11):\n",
    "#     print(i, end = \" \")\n",
    "\n",
    "for i in range(-10, 11, 2):\n",
    "    print(i, end = \" \")"
   ]
  },
  {
   "cell_type": "markdown",
   "metadata": {},
   "source": [
    "## 2. Arithmetic sum (*)\n",
    "Use a for statement to compute the following sums:\n",
    "\n",
    "  a)    sum=1+2+…+99+100  (*)\n",
    "\n",
    "  b)    sum=1+3+5+…+97+99  (*)"
   ]
  },
  {
   "cell_type": "code",
   "execution_count": 28,
   "metadata": {},
   "outputs": [
    {
     "name": "stdout",
     "output_type": "stream",
     "text": [
      "sum = 5050\n",
      "sum1 = 2500\n"
     ]
    }
   ],
   "source": [
    "sum = 0\n",
    "sum1 = 0\n",
    "\n",
    "for i in range(1, 101):\n",
    "    sum += i\n",
    "print(f\"{sum = }\")\n",
    "\n",
    "for i in range(1, 100, 2): \n",
    "    sum1 = sum1 + i\n",
    "\n",
    "print(f\"{sum1 = }\")"
   ]
  },
  {
   "cell_type": "markdown",
   "metadata": {},
   "source": [
    "## 3. Multiplication table (*)\n",
    "Use for statement(s) to:\n",
    "\n",
    "  a)   print out the 6th multiplication table from 0 to 10 (*)\n",
    "\n",
    "  b)   let the user input the table, start and end of the table. (*)\n",
    "\n",
    "  c)   print out a full multiplication table from 0 to 10. (**)"
   ]
  },
  {
   "cell_type": "code",
   "execution_count": 16,
   "metadata": {},
   "outputs": [
    {
     "name": "stdout",
     "output_type": "stream",
     "text": [
      "0 6 12 18 24 30 36 42 48 54 60 x * users_choice = 25\n",
      "x * users_choice = 30\n",
      "x * users_choice = 35\n",
      "x * users_choice = 40\n",
      "x * users_choice = 45\n",
      "x * users_choice = 50\n",
      "x * users_choice = 55\n",
      "x * users_choice = 60\n"
     ]
    }
   ],
   "source": [
    "for x in range(11):\n",
    "    print(x*6, end = \" \")\n",
    "\n",
    "users_choice = int(input(\"Which table are you interested in: \"))\n",
    "start = int(input(\"Specify start of table: \"))\n",
    "end = int(input(\"Specify end of table: \"))\n",
    "\n",
    "for x in range(start, end + 1):\n",
    "    print(f\"{x * users_choice = }\")"
   ]
  },
  {
   "cell_type": "markdown",
   "metadata": {},
   "source": [
    "## 4. Faculty (*)\n",
    "Use a for statement to compute  n! .\n",
    "\n",
    "n!=1⋅2⋅3⋅…⋅(n−1)⋅n \n",
    "\n",
    "Let the user input  n"
   ]
  },
  {
   "cell_type": "code",
   "execution_count": 1,
   "metadata": {},
   "outputs": [
    {
     "name": "stdout",
     "output_type": "stream",
     "text": [
      "The factorial of 20 is 2432902008176640000\n"
     ]
    }
   ],
   "source": [
    "users_input = int(input(\"Enter the value of n: \"))\n",
    "factorial = 1\n",
    "\n",
    "for i in range(users_input):\n",
    "    i += 1\n",
    "    factorial *= i\n",
    "print(f\"The factorial of {users_input} is {factorial}\")\n",
    "\n"
   ]
  },
  {
   "cell_type": "markdown",
   "metadata": {},
   "source": [
    "## 5. Guess the number (*)\n",
    "The computer thinks of a four-digit number. Start by creating a random four-digit number. Use for statement to figure out a correct guess"
   ]
  },
  {
   "cell_type": "code",
   "execution_count": 23,
   "metadata": {},
   "outputs": [
    {
     "name": "stdout",
     "output_type": "stream",
     "text": [
      "3680\n",
      "3680 is the right number\n"
     ]
    }
   ],
   "source": [
    "import random\n",
    "\n",
    "random_number = random.randint(1000, 9999)\n",
    "print(random_number)\n",
    "\n",
    "for i in range(10000):\n",
    "    if i == random_number:\n",
    "        print(f\"{i} is the right number\")\n"
   ]
  }
 ],
 "metadata": {
  "kernelspec": {
   "display_name": "Python 3.9.13 ('Python-Elias-El-Haddad-KdAe7nXC')",
   "language": "python",
   "name": "python3"
  },
  "language_info": {
   "codemirror_mode": {
    "name": "ipython",
    "version": 3
   },
   "file_extension": ".py",
   "mimetype": "text/x-python",
   "name": "python",
   "nbconvert_exporter": "python",
   "pygments_lexer": "ipython3",
   "version": "3.9.13"
  },
  "orig_nbformat": 4,
  "vscode": {
   "interpreter": {
    "hash": "e66b0b6841b8a65024e468e80548b1ced47ff1ba5bbf1edee51c862e3cd59c08"
   }
  }
 },
 "nbformat": 4,
 "nbformat_minor": 2
}
