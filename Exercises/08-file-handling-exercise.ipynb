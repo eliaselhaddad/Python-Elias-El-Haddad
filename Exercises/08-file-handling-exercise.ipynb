{
 "cells": [
  {
   "cell_type": "markdown",
   "metadata": {},
   "source": [
    "## 1. Dice rolls (*)\n",
    "Create a textfile called dice_rolls.txt using Python. Also for each subtask, write adequate headers.\n",
    "\n",
    "  a)   Simulate 20 dice rolls and write them to your textfile. (*)\n",
    "\n",
    "  b)   Sort the dice rolls from a) and write them to a separate row in the same textfile. (*)\n",
    "\n",
    "  c)   Count the number of fours in the dice rolls and write them to a separate row in the same textfile. (*)"
   ]
  },
  {
   "cell_type": "code",
   "execution_count": 209,
   "metadata": {},
   "outputs": [
    {
     "name": "stdout",
     "output_type": "stream",
     "text": [
      "62356126162265254645\n"
     ]
    }
   ],
   "source": [
    "import random as rnd\n",
    "\n",
    "with open(\"dice_rolls.txt\", \"w\") as f_write:\n",
    "    \n",
    "    for numbers in range(20):\n",
    "        random_numbers = str(rnd.randint(1, 6))\n",
    "        f_write.write(random_numbers)\n",
    "\n",
    "\n",
    "with open(\"dice_rolls.txt\", \"r\") as f_read:\n",
    "    \n",
    "    for digits in f_read:\n",
    "        print(digits)"
   ]
  },
  {
   "cell_type": "markdown",
   "metadata": {},
   "source": [
    "## \n",
    "2. Test results (*)\n",
    "Read in the file test_result.txt (located in the data folder of this repo) in Python.\n",
    "\n",
    "  a)   Print out the text in the terminal (*)\n",
    "\n",
    "  b)   Create new rows in the same file and write the people and their corresponding scores in alphabetical order. (*)\n",
    "\n",
    "  c)   Create additional rows in the same file and sort the people after their grades. The grade limits are: (**)\n",
    "\n",
    "F < 20\n",
    "E: 20-29\n",
    "D: 30-39\n",
    "C: 40-49\n",
    "B: 50-59\n",
    "A: 60-70"
   ]
  },
  {
   "cell_type": "code",
   "execution_count": 27,
   "metadata": {},
   "outputs": [
    {
     "name": "stdout",
     "output_type": "stream",
     "text": [
      "Adam Gustafsson 25\n",
      "Emil Johansson 23\n",
      "Sven Erik Karlsson 13\n",
      "Ove Karlsten 41\n",
      "Emma Boden 32\n",
      "Ida HÃ¥kansson 23\n",
      "Ella Ester 41\n",
      "Hanna Karlsson 23 \n",
      "Johan Johansson 42\n",
      "Sven Erik Lundin 39\n",
      "BjÃ¶rn BjÃ¶rnsson 39\n",
      "Karl Karlsson 32\n",
      "Bose Bosseson 32\n",
      "HÃ¥kan HÃ¥kanson 24\n",
      "Jonas Jonasson 31\n",
      "Erik Eriksson 31\n",
      "Gore Bord 55\n",
      "Jakob Kallander 65\n",
      "Fredrika Ulven 10\n",
      "\n",
      "Alfabetisk ordning\n",
      "Adam Gustafsson 25\n",
      "BjÃ¶rn BjÃ¶rnsson 39\n",
      "Bose Bosseson 32\n",
      "Ella Ester 41\n",
      "Emil Johansson 23\n",
      "Emma Boden 32\n",
      "Erik Eriksson 31\n",
      "Fredrika Ulven 10\n",
      "Gore Bord 55\n",
      "Hanna Karlsson 23 \n",
      "HÃ¥kan HÃ¥kanson 24\n",
      "Ida HÃ¥kansson 23\n",
      "Jakob Kallander 65\n",
      "Johan Johansson 42\n",
      "Jonas Jonasson 31\n",
      "Karl Karlsson 32\n",
      "Ove Karlsten 41\n",
      "Sven Erik Karlsson 13\n",
      "Sven Erik Lundin 39\n",
      "\n",
      "\n",
      "Sorterat efter betyg\n",
      "\n",
      "\n",
      "Betyg F\n",
      "Sven Erik Karlsson 13\n",
      "Fredrika Ulven 10\n",
      "\n",
      "Betyg E\n",
      "Adam Gustafsson 25\n",
      "Emil Johansson 23\n",
      "Ida HÃ¥kansson 23\n",
      "Hanna Karlsson 23 \n",
      "HÃ¥kan HÃ¥kanson 24\n",
      "\n",
      "Betyg D\n",
      "Emma Boden 32\n",
      "Sven Erik Lundin 39\n",
      "BjÃ¶rn BjÃ¶rnsson 39\n",
      "Karl Karlsson 32\n",
      "Bose Bosseson 32\n",
      "Jonas Jonasson 31\n",
      "Erik Eriksson 31\n",
      "\n",
      "Betyg C\n",
      "Ove Karlsten 41\n",
      "Ella Ester 41\n",
      "Johan Johansson 42\n",
      "\n",
      "Betyg B\n",
      "Gore Bord 55\n",
      "\n",
      "Betyg A\n",
      "Jakob Kallander 65\n"
     ]
    }
   ],
   "source": [
    "# a)\n",
    "with open(\"New Text Document.txt\") as f_read:\n",
    "    # each line is stored in a list\n",
    "    # each line is a string and it has \\n in the end\n",
    "    lines = f_read.readlines()\n",
    "    \n",
    "    # loops through the line and prints each line\n",
    "    for line in lines:\n",
    "        print(line, end = \"\")\n",
    "\n"
   ]
  },
  {
   "cell_type": "code",
   "execution_count": 29,
   "metadata": {},
   "outputs": [
    {
     "ename": "IndexError",
     "evalue": "list index out of range",
     "output_type": "error",
     "traceback": [
      "\u001b[1;31m---------------------------------------------------------------------------\u001b[0m",
      "\u001b[1;31mIndexError\u001b[0m                                Traceback (most recent call last)",
      "Cell \u001b[1;32mIn [29], line 5\u001b[0m\n\u001b[0;32m      2\u001b[0m \u001b[38;5;28;01mwith\u001b[39;00m \u001b[38;5;28mopen\u001b[39m(\u001b[38;5;124m\"\u001b[39m\u001b[38;5;124mNew Text Document.txt\u001b[39m\u001b[38;5;124m\"\u001b[39m, \u001b[38;5;124m\"\u001b[39m\u001b[38;5;124mr\u001b[39m\u001b[38;5;124m\"\u001b[39m) \u001b[38;5;28;01mas\u001b[39;00m f_read, \u001b[38;5;28mopen\u001b[39m(\u001b[38;5;124m\"\u001b[39m\u001b[38;5;124mNew Text Document.txt\u001b[39m\u001b[38;5;124m\"\u001b[39m, \u001b[38;5;124m\"\u001b[39m\u001b[38;5;124mw\u001b[39m\u001b[38;5;124m\"\u001b[39m) \u001b[38;5;28;01mas\u001b[39;00m f_write:\n\u001b[0;32m      3\u001b[0m     lines \u001b[38;5;241m=\u001b[39m f_read\u001b[38;5;241m.\u001b[39mreadlines()\n\u001b[1;32m----> 5\u001b[0m     lines[\u001b[38;5;241m-\u001b[39m\u001b[38;5;241m1\u001b[39m] \u001b[38;5;241m+\u001b[39m\u001b[38;5;241m=\u001b[39m \u001b[38;5;124m\"\u001b[39m\u001b[38;5;130;01m\\n\u001b[39;00m\u001b[38;5;124m\"\u001b[39m\n\u001b[0;32m      7\u001b[0m     f_write\u001b[38;5;241m.\u001b[39mwrite(\u001b[38;5;124m\"\u001b[39m\u001b[38;5;130;01m\\n\u001b[39;00m\u001b[38;5;130;01m\\n\u001b[39;00m\u001b[38;5;124mAlfabetisk ordning\u001b[39m\u001b[38;5;130;01m\\n\u001b[39;00m\u001b[38;5;124m\"\u001b[39m)\n\u001b[0;32m      9\u001b[0m     \u001b[38;5;66;03m# ----------------------------b)--------------------------\u001b[39;00m\n",
      "\u001b[1;31mIndexError\u001b[0m: list index out of range"
     ]
    }
   ],
   "source": [
    "# b) and c)\n",
    "with open(\"New Text Document.txt\", \"r\") as f_read, open(\"New Text Document.txt\", \"w\") as f_write:\n",
    "    lines = f_read.readlines()\n",
    "\n",
    "    lines[-1] += \"\\n\"\n",
    "\n",
    "    f_write.write(\"\\n\\nAlfabetisk ordning\\n\")\n",
    "\n",
    "    # ----------------------------b)--------------------------\n",
    "    lines_sorted_alphabetically = sorted(lines)\n",
    "\n",
    "    for line in lines_sorted_alphabetically:\n",
    "        f_write.write(line)\n",
    "\n",
    "\n",
    "    f_write.write(\"\\n\\nSorterat efter betyg\\n\\n\")\n",
    "\n",
    "    # ----------------------------c)--------------------------\n",
    "    # need to split and find the score for each line\n",
    "    # put them in grade order\n",
    "\n",
    "    grades = \"ABCDEF\"[::-1]\n",
    "    print(grades)\n",
    "\n",
    "    for grade, limit in zip(grades, range(20, 71, 10)):\n",
    "\n",
    "        f_write.write(f\"\\nBetyg {grade}\\n\")\n",
    "\n",
    "        for line in lines:\n",
    "            #print(line.split()) # this gives a list for each line \n",
    "            print(line.split()[-1])\n",
    "\n",
    "            point = int(line.split()[-1]) # type converts string to int\n",
    "            # if statement requires test between same types\n",
    "            \n",
    "            # handle F separately in order not to miss those lower than 10\n",
    "\n",
    "            if limit-10 <= point < limit:\n",
    "                f_write.write(f\"{line}\") # type converts int to string, in order to write it to a txt file"
   ]
  }
 ],
 "metadata": {
  "kernelspec": {
   "display_name": "Python 3.9.13 ('Python-Elias-El-Haddad-KdAe7nXC')",
   "language": "python",
   "name": "python3"
  },
  "language_info": {
   "codemirror_mode": {
    "name": "ipython",
    "version": 3
   },
   "file_extension": ".py",
   "mimetype": "text/x-python",
   "name": "python",
   "nbconvert_exporter": "python",
   "pygments_lexer": "ipython3",
   "version": "3.9.13"
  },
  "orig_nbformat": 4,
  "vscode": {
   "interpreter": {
    "hash": "e66b0b6841b8a65024e468e80548b1ced47ff1ba5bbf1edee51c862e3cd59c08"
   }
  }
 },
 "nbformat": 4,
 "nbformat_minor": 2
}
