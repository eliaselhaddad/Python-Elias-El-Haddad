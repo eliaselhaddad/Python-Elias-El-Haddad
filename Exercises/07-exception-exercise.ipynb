{
 "cells": [
  {
   "cell_type": "markdown",
   "metadata": {},
   "source": [
    "## 3. Tram (*)\n",
    "Kokchun is a clumpsy computer user that doesn't take trams too often. Write a program to prompt the user for:\n",
    "\n",
    "- number of times he/she wants to take tram in one month\n",
    "- cost for one ticket\n",
    "- cost for monthly card\n",
    "- The program should calculate if it's worth for him to buy monthly card or not. Make the program user friendly with clear error messages and ask again in case of input errors."
   ]
  },
  {
   "cell_type": "code",
   "execution_count": 5,
   "metadata": {},
   "outputs": [
    {
     "name": "stdout",
     "output_type": "stream",
     "text": [
      "Your total cost is 35\n",
      "Your monthly ticket cost is 600\n",
      "It's not worth to buy a monthly ticket\n"
     ]
    }
   ],
   "source": [
    "while True:\n",
    "\n",
    "    number_times = int(input(\"How many times are you planning to take the tram in a month?\\n ->\"))\n",
    "    one_ticket = int(input(\"What does one ticket costs?\\n ->\"))\n",
    "    monthly_ticket = int(input(\"What does a monthly ticket costs?\\n ->\"))\n",
    "    total_cost = number_times * one_ticket\n",
    "\n",
    "    try:\n",
    "        if not 0 < number_times <= 100:\n",
    "            raise ValueError(f\"Number of times you take tram must be between 0 and 100, not{number_times}\")\n",
    "        break\n",
    "                if total_cost > monthly_ticket:\n",
    "                    print(f\"Your total cost is {total_cost}\")\n",
    "                    print(f\"Your monthly ticket cost is {monthly_ticket}\")\n",
    "                    print(f\"It's worth to buy a monthly ticket\")\n",
    "                else:\n",
    "                    print(f\"Your total cost is {total_cost}\")\n",
    "                    print(f\"Your monthly ticket cost is {monthly_ticket}\")\n",
    "                    print(f\"It's not worth to buy a monthly ticket\")\n",
    "    except ValueError as err:\n",
    "        print(err)"
   ]
  }
 ],
 "metadata": {
  "kernelspec": {
   "display_name": "Python 3.9.13 ('Python-Elias-El-Haddad-KdAe7nXC')",
   "language": "python",
   "name": "python3"
  },
  "language_info": {
   "codemirror_mode": {
    "name": "ipython",
    "version": 3
   },
   "file_extension": ".py",
   "mimetype": "text/x-python",
   "name": "python",
   "nbconvert_exporter": "python",
   "pygments_lexer": "ipython3",
   "version": "3.9.13"
  },
  "orig_nbformat": 4,
  "vscode": {
   "interpreter": {
    "hash": "e66b0b6841b8a65024e468e80548b1ced47ff1ba5bbf1edee51c862e3cd59c08"
   }
  }
 },
 "nbformat": 4,
 "nbformat_minor": 2
}
