{
 "cells": [
  {
   "cell_type": "markdown",
   "metadata": {},
   "source": [
    "## 3. Tram (*)\n",
    "Kokchun is a clumpsy computer user that doesn't take trams too often. Write a program to prompt the user for:\n",
    "\n",
    "- number of times he/she wants to take tram in one month\n",
    "- cost for one ticket\n",
    "- cost for monthly card\n",
    "- The program should calculate if it's worth for him to buy monthly card or not. Make the program user friendly with clear error messages and ask again in case of input errors."
   ]
  },
  {
   "cell_type": "code",
   "execution_count": null,
   "metadata": {},
   "outputs": [],
   "source": []
  }
 ],
 "metadata": {
  "kernelspec": {
   "display_name": "Python 3.9.13 ('Python-Elias-El-Haddad-KdAe7nXC')",
   "language": "python",
   "name": "python3"
  },
  "language_info": {
   "name": "python",
   "version": "3.9.13"
  },
  "orig_nbformat": 4,
  "vscode": {
   "interpreter": {
    "hash": "e66b0b6841b8a65024e468e80548b1ced47ff1ba5bbf1edee51c862e3cd59c08"
   }
  }
 },
 "nbformat": 4,
 "nbformat_minor": 2
}
