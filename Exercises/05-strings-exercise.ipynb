{
 "cells": [
  {
   "cell_type": "markdown",
   "metadata": {},
   "source": [
    "# 1. Counting letters (*)\n",
    "Let the user input a word:\n",
    "\n",
    "  a)   print out the number of letters in the word. (*)\n",
    "\n",
    "  b)   print out the number of uppercase and lowercase letters of the word (*)"
   ]
  },
  {
   "cell_type": "code",
   "execution_count": 12,
   "metadata": {},
   "outputs": [
    {
     "name": "stdout",
     "output_type": "stream",
     "text": [
      "The number of letter in 'hello world' is 11\n",
      "The number of lowercase letters is 10\n",
      "The number of upper letters is 0\n"
     ]
    }
   ],
   "source": [
    "word = input(\"Please enter a letter: \")\n",
    "upper = 0\n",
    "lower = 0\n",
    "\n",
    "print(f\"The number of letter in '{word}' is {len(word)}\")\n",
    "\n",
    "for letters in word:\n",
    "    if letters.islower():\n",
    "        lower += 1\n",
    "    elif letters.isupper():\n",
    "        upper += 1\n",
    "\n",
    "print(f\"The number of lowercase letters is {lower}\")\n",
    "print(f\"The number of uppercase letters is {upper}\")"
   ]
  },
  {
   "cell_type": "code",
   "execution_count": null,
   "metadata": {},
   "outputs": [],
   "source": []
  }
 ],
 "metadata": {
  "kernelspec": {
   "display_name": "Python 3.9.13 64-bit",
   "language": "python",
   "name": "python3"
  },
  "language_info": {
   "codemirror_mode": {
    "name": "ipython",
    "version": 3
   },
   "file_extension": ".py",
   "mimetype": "text/x-python",
   "name": "python",
   "nbconvert_exporter": "python",
   "pygments_lexer": "ipython3",
   "version": "3.9.13"
  },
  "orig_nbformat": 4,
  "vscode": {
   "interpreter": {
    "hash": "b69d018eeda785eaf4bc07a2891481be73b2136ce99b860067652d3b8a9a52f8"
   }
  }
 },
 "nbformat": 4,
 "nbformat_minor": 2
}
