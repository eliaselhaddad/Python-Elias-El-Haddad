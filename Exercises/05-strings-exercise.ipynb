{
 "cells": [
  {
   "cell_type": "markdown",
   "metadata": {},
   "source": [
    "# 1. Counting letters (*)\n",
    "Let the user input a word:\n",
    "\n",
    "  a)   print out the number of letters in the word. (*)\n",
    "\n",
    "  b)   print out the number of uppercase and lowercase letters of the word (*)"
   ]
  },
  {
   "cell_type": "code",
   "execution_count": 1,
   "metadata": {},
   "outputs": [
    {
     "name": "stdout",
     "output_type": "stream",
     "text": [
      "The number of letter in 'hello ' is 6\n",
      "The number of lowercase letters is 5\n",
      "The number of uppercase letters is 0\n"
     ]
    }
   ],
   "source": [
    "word = input(\"Please enter a letter: \")\n",
    "upper = 0\n",
    "lower = 0\n",
    "\n",
    "print(f\"The number of letter in '{word}' is {len(word)}\")\n",
    "\n",
    "for letters in word:\n",
    "    if letters.islower():\n",
    "        lower += 1\n",
    "    elif letters.isupper():\n",
    "        upper += 1\n",
    "\n",
    "print(f\"The number of lowercase letters is {lower}\")\n",
    "print(f\"The number of uppercase letters is {upper}\")"
   ]
  },
  {
   "cell_type": "code",
   "execution_count": null,
   "metadata": {},
   "outputs": [],
   "source": []
  }
 ],
 "metadata": {
  "kernelspec": {
   "display_name": "Python 3.9.13 ('Python-Elias-El-Haddad-KdAe7nXC')",
   "language": "python",
   "name": "python3"
  },
  "language_info": {
   "codemirror_mode": {
    "name": "ipython",
    "version": 3
   },
   "file_extension": ".py",
   "mimetype": "text/x-python",
   "name": "python",
   "nbconvert_exporter": "python",
   "pygments_lexer": "ipython3",
   "version": "3.9.13"
  },
  "orig_nbformat": 4,
  "vscode": {
   "interpreter": {
    "hash": "e66b0b6841b8a65024e468e80548b1ced47ff1ba5bbf1edee51c862e3cd59c08"
   }
  }
 },
 "nbformat": 4,
 "nbformat_minor": 2
}
