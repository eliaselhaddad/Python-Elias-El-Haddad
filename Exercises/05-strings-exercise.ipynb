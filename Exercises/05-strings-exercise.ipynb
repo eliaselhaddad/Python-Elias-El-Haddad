{
 "cells": [
  {
   "cell_type": "markdown",
   "metadata": {},
   "source": [
    "# 1. Counting letters (*)\n",
    "Let the user input a word:\n",
    "\n",
    "  a)   print out the number of letters in the word. (*)\n",
    "\n",
    "  b)   print out the number of uppercase and lowercase letters of the word (*)"
   ]
  },
  {
   "cell_type": "code",
   "execution_count": 4,
   "metadata": {},
   "outputs": [
    {
     "name": "stdout",
     "output_type": "stream",
     "text": [
      "The number of letter in 'Elias' is 5\n",
      "1\n",
      "4\n"
     ]
    }
   ],
   "source": [
    "import re\n",
    "\n",
    "word = input(\"Please enter a letter: \")\n",
    "print(f\"The number of letter in '{word}' is {len(word)}\")\n",
    "\n",
    "upper = len(re.findall(\"[A-Z]\", word))\n",
    "lower = len(re.findall(\"[a-z]\", word))\n",
    "print(upper)\n",
    "print(lower)\n"
   ]
  },
  {
   "cell_type": "code",
   "execution_count": null,
   "metadata": {},
   "outputs": [
    {
     "name": "stdout",
     "output_type": "stream",
     "text": [
      "The number of words in text is 17\n"
     ]
    }
   ],
   "source": [
    "text =  \"A picture says more than a thousand words, a matematical formula says more than a thousand pictures.\"\n",
    "text_split = len(text.split())\n",
    "\n",
    "print(f\"The number of words in text is {text_split}\")\n",
    "\n"
   ]
  },
  {
   "cell_type": "markdown",
   "metadata": {},
   "source": [
    "## 3. Palindrome (*)\n",
    "A palindrome is a sequence of characters that is the same, when read forward as backwards (ignoring spaces). For example:\n",
    "\n",
    "\"Anna\" is a palindrome\n",
    "\"Ni talar bra latin\"\n",
    "bjkjb\n",
    "Let the user input a sequence of characters and check if it is a palindrome. (*)"
   ]
  },
  {
   "cell_type": "code",
   "execution_count": null,
   "metadata": {},
   "outputs": [
    {
     "name": "stdout",
     "output_type": "stream",
     "text": [
      "saile\n",
      "elias is not a palindrome\n"
     ]
    }
   ],
   "source": [
    "sequence = input(\"Enter a word to know if it's a palindrome.\")\n",
    "backward_sequence = sequence[::-1]\n",
    "print(backward_sequence)\n",
    "\n",
    "if sequence == backward_sequence:\n",
    "    print(f\"{sequence} is a palindrome\")\n",
    "else:\n",
    "    print(f\"{sequence} is not a palindrome\")\n",
    "\n"
   ]
  },
  {
   "cell_type": "markdown",
   "metadata": {},
   "source": [
    "## 4. Vowels (**)\n",
    "Count the number of vowels in this sentence: \"Pure mathematics is, in its way, the poetry of logical ideas\""
   ]
  },
  {
   "cell_type": "code",
   "execution_count": 32,
   "metadata": {},
   "outputs": [
    {
     "name": "stdout",
     "output_type": "stream",
     "text": [
      "22\n"
     ]
    }
   ],
   "source": [
    "import re\n",
    "\n",
    "text = \"Pure mathematics is, in its way, the poetry of logical ideas\"\n",
    "vowels = re.findall(\"[aeiouy]\", text)\n",
    "print(len(vowels))"
   ]
  },
  {
   "cell_type": "code",
   "execution_count": null,
   "metadata": {},
   "outputs": [],
   "source": []
  }
 ],
 "metadata": {
  "kernelspec": {
   "display_name": "Python 3.9.13 ('Python-Elias-El-Haddad-KdAe7nXC')",
   "language": "python",
   "name": "python3"
  },
  "language_info": {
   "codemirror_mode": {
    "name": "ipython",
    "version": 3
   },
   "file_extension": ".py",
   "mimetype": "text/x-python",
   "name": "python",
   "nbconvert_exporter": "python",
   "pygments_lexer": "ipython3",
   "version": "3.9.13"
  },
  "orig_nbformat": 4,
  "vscode": {
   "interpreter": {
    "hash": "e66b0b6841b8a65024e468e80548b1ced47ff1ba5bbf1edee51c862e3cd59c08"
   }
  }
 },
 "nbformat": 4,
 "nbformat_minor": 2
}
