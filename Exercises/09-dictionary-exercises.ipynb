{
 "cells": [
  {
   "cell_type": "markdown",
   "metadata": {},
   "source": [
    "## 1. Curriculum (*)\n",
    "Create a dictionary containing all the courses that you will study in this program, with the course names as keys and the amount of points as value. Then calculate the number of points that you will study in total. (*)"
   ]
  },
  {
   "cell_type": "code",
   "execution_count": 35,
   "metadata": {},
   "outputs": [
    {
     "name": "stdout",
     "output_type": "stream",
     "text": [
      "total_points = 300\n"
     ]
    }
   ],
   "source": [
    "courses = {\n",
    "    \"intro\": 50,\n",
    "    \"Python\": 100,\n",
    "    \"Matte\": 150\n",
    "}\n",
    "\n",
    "total_points = 0\n",
    "for course in courses.values():\n",
    "    total_points += course\n",
    "\n",
    "print(f\"{total_points = }\")"
   ]
  },
  {
   "cell_type": "markdown",
   "metadata": {},
   "source": [
    "## 2. Dice simulation (*)\n",
    "Simulate 1000000 dice rolls and save the number of ones, twos, ..., sixes in a dictionary. Then print them out in the terminal. (*)"
   ]
  },
  {
   "cell_type": "code",
   "execution_count": 88,
   "metadata": {},
   "outputs": [
    {
     "name": "stdout",
     "output_type": "stream",
     "text": [
      "1: 166093\n",
      "2: 166753\n",
      "3: 166787\n",
      "4: 167086\n",
      "5: 166672\n",
      "6: 166610\n",
      "{'1': 166093, '2': 166753, '3': 166787, '4': 167086, '5': 166672, '6': 166610}\n"
     ]
    }
   ],
   "source": [
    "import random as rnd\n",
    "\n",
    "random_numbers = [rnd.randint(1, 6) for _ in range(1_000_001)]\n",
    "dice_rolls = {\n",
    "    \"1\": random_numbers.count(1),\n",
    "    \"2\": random_numbers.count(2),\n",
    "    \"3\": random_numbers.count(3),\n",
    "    \"4\": random_numbers.count(4),\n",
    "    \"5\": random_numbers.count(5),\n",
    "    \"6\": random_numbers.count(6)\n",
    "}\n",
    "for key, value in dice_rolls.items():\n",
    "    print(f\"{key}: {value}\")"
   ]
  }
 ],
 "metadata": {
  "kernelspec": {
   "display_name": "Python 3.9.13 ('Python-Elias-El-Haddad-KdAe7nXC')",
   "language": "python",
   "name": "python3"
  },
  "language_info": {
   "codemirror_mode": {
    "name": "ipython",
    "version": 3
   },
   "file_extension": ".py",
   "mimetype": "text/x-python",
   "name": "python",
   "nbconvert_exporter": "python",
   "pygments_lexer": "ipython3",
   "version": "3.9.13"
  },
  "orig_nbformat": 4,
  "vscode": {
   "interpreter": {
    "hash": "e66b0b6841b8a65024e468e80548b1ced47ff1ba5bbf1edee51c862e3cd59c08"
   }
  }
 },
 "nbformat": 4,
 "nbformat_minor": 2
}
