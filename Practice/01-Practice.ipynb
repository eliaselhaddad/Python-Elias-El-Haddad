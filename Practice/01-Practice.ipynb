{
 "cells": [
  {
   "cell_type": "code",
   "execution_count": null,
   "metadata": {},
   "outputs": [],
   "source": [
    "def pattern(n):\n",
    "    for i in range(n, 0, -1):\n",
    "        print('x ' * i)\n",
    "pattern(5)"
   ]
  },
  {
   "cell_type": "code",
   "execution_count": null,
   "metadata": {},
   "outputs": [],
   "source": [
    "def pattern(n):\n",
    "    for i in range(1, n+1):\n",
    "        print('x ' * i)\n",
    "pattern(5)"
   ]
  },
  {
   "cell_type": "code",
   "execution_count": null,
   "metadata": {},
   "outputs": [],
   "source": [
    "def pattern(n):\n",
    "    for i in range(1, n+1):\n",
    "        print('x ' * i + 'o ' * (n-i))\n",
    "pattern(5)"
   ]
  },
  {
   "cell_type": "code",
   "execution_count": null,
   "metadata": {},
   "outputs": [],
   "source": [
    "from math import pi\n",
    "\n",
    "def circle(radius):\n",
    "    if not isinstance(radius, (int, float)):\n",
    "        raise TypeError('radius should be a number')\n",
    "    if radius < 0:\n",
    "        raise('radius should be a positive number')\n",
    "    \n",
    "    area = pi * radius**2\n",
    "    circumference = 2 * pi * radius\n",
    "    return area, circumference\n",
    "\n",
    "try:\n",
    "    user_input = float(input('Enter the radius of the circle: '))\n",
    "    area, circumference = circle(user_input)\n",
    "    print(f'A circle with a radius {user_input} has an area of {area :.2f} and a circumference of {circumference :.2f}')\n",
    "except TypeError as te:\n",
    "    print(te)\n",
    "except ValueError as ve:\n",
    "    print(ve)"
   ]
  },
  {
   "cell_type": "code",
   "execution_count": null,
   "metadata": {},
   "outputs": [],
   "source": [
    "class Person:\n",
    "    def hej(self):\n",
    "        print('Person säger hej')\n",
    "class Student(Person):\n",
    "    def hej(self):\n",
    "        print('Student säger hej')\n",
    "class Viking(Person):\n",
    "    def hoy(self):\n",
    "        print('Viking säger hoy')\n",
    "\n",
    "for person in (Person(), Student(), Viking()):\n",
    "    person.hej()"
   ]
  },
  {
   "cell_type": "code",
   "execution_count": null,
   "metadata": {},
   "outputs": [],
   "source": [
    "def change(amount):\n",
    "    bank_notes = {\n",
    "        'Tusenlapp': 1000,\n",
    "        'Femhundralapp': 500,\n",
    "        'Tvåhundralapp': 200,\n",
    "        'Hundralapp': 100,\n",
    "        'Femtiolapp': 50,\n",
    "        'Tjugolapp': 20,\n",
    "        'Tiokrona': 10,\n",
    "        'Femkrona': 5,\n",
    "        'Tvåkrona': 2,\n",
    "        'Enkrona': 1,\n",
    "    }\n",
    "\n",
    "    for bank_note, value in bank_notes.items():\n",
    "        count = amount // value\n",
    "        if count > 0:\n",
    "            print(f'{bank_note}: {count}')\n",
    "        amount %= value\n",
    "\n",
    "user_input = int(input('Enter the amount: '))\n",
    "change(user_input)"
   ]
  },
  {
   "cell_type": "code",
   "execution_count": null,
   "metadata": {},
   "outputs": [],
   "source": [
    "import random\n",
    "\n",
    "random.seed(42)\n",
    "\n",
    "dice_rolls = [random.randint(1, 6) for _ in range(10)]\n",
    "\n",
    "count = {1: 0, 2: 0, 3: 0, 4: 0, 5: 0, 6: 0}\n",
    "\n",
    "for roll in dice_rolls:\n",
    "    count[roll] += 1\n",
    "\n",
    "for key, value in count.items():\n",
    "    print(f'{key}: {value}')"
   ]
  },
  {
   "cell_type": "code",
   "execution_count": null,
   "metadata": {},
   "outputs": [],
   "source": [
    "def sphere_volume(radius):\n",
    "    if not isinstance(radius, (float, int)):\n",
    "        raise TypeError('radius should be a number')\n",
    "    if radius < 0:\n",
    "        raise ValueError('radius should be a positive number')\n",
    "    volume = (4 * pi * radius**3)/3\n",
    "    return volume\n",
    "\n",
    "try:\n",
    "    user_input = float(input('Enter the radius: '))\n",
    "    volume = sphere_volume(user_input)\n",
    "    print(f'A sphere with a radius of {user_input} has a volume of {volume :.2f}')\n",
    "except TypeError as te:\n",
    "    print(te)\n",
    "except ValueError as ve:\n",
    "    print(ve)"
   ]
  },
  {
   "cell_type": "code",
   "execution_count": null,
   "metadata": {},
   "outputs": [],
   "source": [
    "with open('bamba.txt', 'r') as file:\n",
    "    content = file.readlines()\n",
    "print(content)\n",
    "\n",
    "week = content[0]\n",
    "print(week.strip())\n",
    "\n",
    "platters = [print(platter.strip()) for platter in content[1:]]"
   ]
  },
  {
   "cell_type": "code",
   "execution_count": null,
   "metadata": {},
   "outputs": [],
   "source": [
    "def pattern(n):\n",
    "    for i in range(1, n+1):\n",
    "        print('x ' * i + 'o ' * (n-i))\n",
    "pattern(5)"
   ]
  },
  {
   "cell_type": "code",
   "execution_count": null,
   "metadata": {},
   "outputs": [],
   "source": [
    "def cylinder_volume(radius, height):\n",
    "    if not isinstance(radius, (int, float)) or not isinstance(height, (int, float)):\n",
    "        raise TypeError('both radius and height should be numbers')\n",
    "    if radius < 0 or height < 0:\n",
    "        raise ValueError('both radius and height should be positive numbers')\n",
    "    volume = pi * radius**2 * height\n",
    "    return volume\n",
    "\n",
    "try:\n",
    "    radius_input = float(input('Enter the radius: '))\n",
    "    height_input = float(input('Enter the height: '))\n",
    "    print(f'A cylinder with a radius of {radius_input} and a height of {height_input} has a volume of {cylinder_volume(radius_input, height_input):.2f}')\n",
    "except TypeError as te:\n",
    "    print(te)\n",
    "except ValueError as ve:\n",
    "    print(ve)"
   ]
  },
  {
   "cell_type": "code",
   "execution_count": null,
   "metadata": {},
   "outputs": [],
   "source": [
    "with open('bamba.txt', 'r') as file:\n",
    "    content = file.readlines()\n",
    "\n",
    "week_number = content[0].strip()\n",
    "meals = [line.strip() for line in content[1:]]\n",
    "\n",
    "week_days = {'Mån': '', 'Tis': '', 'Ons': '', 'Tor': '', 'Fre': ''}\n",
    "\n",
    "print(week_number)\n",
    "for day, meal in zip(week_days, meals):\n",
    "    print(f'{day}: {meal}')"
   ]
  },
  {
   "cell_type": "code",
   "execution_count": 1,
   "metadata": {},
   "outputs": [
    {
     "name": "stdout",
     "output_type": "stream",
     "text": [
      "thousand: 3\n",
      "hundred: 2\n",
      "ten: 1\n",
      "one: 4\n"
     ]
    }
   ],
   "source": [
    "def change(amount):\n",
    "    bills = {\n",
    "        \"thousand\": 1000,\n",
    "        \"hundred\": 100,\n",
    "        'fifty': 50,\n",
    "        'ten': 10,\n",
    "        'one': 1\n",
    "    }\n",
    "\n",
    "    for bill, value in bills.items():\n",
    "        counter = amount // value\n",
    "        if counter > 0:\n",
    "            print(f'{bill}: {counter}')\n",
    "        amount %= value\n",
    "\n",
    "change(3214)"
   ]
  }
 ],
 "metadata": {
  "kernelspec": {
   "display_name": "Python-Elias-El-Haddad-KdAe7nXC",
   "language": "python",
   "name": "python3"
  },
  "language_info": {
   "codemirror_mode": {
    "name": "ipython",
    "version": 3
   },
   "file_extension": ".py",
   "mimetype": "text/x-python",
   "name": "python",
   "nbconvert_exporter": "python",
   "pygments_lexer": "ipython3",
   "version": "3.9.13"
  },
  "orig_nbformat": 4
 },
 "nbformat": 4,
 "nbformat_minor": 2
}
