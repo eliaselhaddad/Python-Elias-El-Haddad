{
 "cells": [
  {
   "cell_type": "code",
   "execution_count": null,
   "metadata": {},
   "outputs": [],
   "source": [
    "import random \n",
    "\n",
    "my_sum = 0\n",
    "rice = 1\n",
    "\n",
    "for i in range(64):\n",
    "    my_sum += rice\n",
    "    rice *= 2\n",
    "\n",
    "print(f\"{my_sum}\")"
   ]
  },
  {
   "cell_type": "code",
   "execution_count": null,
   "metadata": {},
   "outputs": [],
   "source": [
    "random.seed(0)\n",
    "\n",
    "dice_rolls = [random.randint(1, 6) for _ in range(10)]\n",
    "print(f'original: {dice_rolls}')\n",
    "\n",
    "sorted_list = sorted(dice_rolls)\n",
    "print(f'sorted: {sorted_list}')\n",
    "\n",
    "reversed_list = sorted(dice_rolls, reverse=True)\n",
    "print(f'reversed: {reversed_list}')\n",
    "\n",
    "min, max = sorted_list[0], sorted_list[-1]\n",
    "min, max"
   ]
  },
  {
   "cell_type": "code",
   "execution_count": null,
   "metadata": {},
   "outputs": [],
   "source": [
    "meals =  [\"vegetarisk lasagne\", \"spaghetti\", \"fisk\", \"grönsakssoppa\", \"pannkakor\"]\n",
    "days = ['mån', 'tis', 'ons', 'tor', 'fre']\n",
    "\n",
    "print('Bambameny')\n",
    "\n",
    "for day, meal in zip(days, meals):\n",
    "    print(f'{day}: {meal}')"
   ]
  },
  {
   "cell_type": "code",
   "execution_count": null,
   "metadata": {},
   "outputs": [],
   "source": [
    "import matplotlib.pyplot as plt\n",
    "\n",
    "list_of_squares = [i**2 for i in range(-10, 11)]\n",
    "\n",
    "plt.plot(list_of_squares)\n",
    "plt.xlabel('x')\n",
    "plt.ylabel('y')\n",
    "plt.title('The function x^2')"
   ]
  },
  {
   "cell_type": "code",
   "execution_count": null,
   "metadata": {},
   "outputs": [],
   "source": [
    "dice_rolls = [random.randint(1, 6) for _ in range(100)]\n",
    "\n",
    "sixes = 0\n",
    "\n",
    "for roll in dice_rolls:\n",
    "    if roll == 6:\n",
    "        sixes += 1\n",
    "sixes"
   ]
  },
  {
   "cell_type": "code",
   "execution_count": null,
   "metadata": {},
   "outputs": [],
   "source": [
    "def pattern(n):\n",
    "    for i in range(n, 0, -1):\n",
    "        print('x ' * i)\n",
    "\n",
    "pattern(5)"
   ]
  },
  {
   "cell_type": "code",
   "execution_count": null,
   "metadata": {},
   "outputs": [],
   "source": [
    "def change(amount):\n",
    "    bills = {\n",
    "        'tusen': 1000,\n",
    "        'hundra': 100,\n",
    "        'femtio': 50,\n",
    "        'tjugio': 20,\n",
    "        'tio': 10,\n",
    "        'fem': 5,\n",
    "        'enkrona': 1,\n",
    "    }\n",
    "\n",
    "    for bill, value in bills.items():\n",
    "        count = amount // value\n",
    "        if count > 0:\n",
    "            print(f'{bill}: {count}')\n",
    "        amount = amount % value\n",
    "\n",
    "change(55896)"
   ]
  },
  {
   "cell_type": "code",
   "execution_count": null,
   "metadata": {},
   "outputs": [],
   "source": [
    "with open('bamba.txt', 'r') as file:\n",
    "    content = file.readlines()\n",
    "\n",
    "week = content[0]\n",
    "meals = content[1:]\n",
    "\n",
    "print(week.strip())\n",
    "for meal in meals:\n",
    "    print(meal.strip())"
   ]
  },
  {
   "cell_type": "code",
   "execution_count": null,
   "metadata": {},
   "outputs": [],
   "source": [
    "# dealer takes two cards\n",
    "# dealer shows his first card\n",
    "# player takes two cards\n",
    "# player choses to take a new card or stay\n",
    "# when the player stays we count the points:\n",
    "    # J, K, Q = 10\n",
    "    # A = 1 or 11\n",
    "    # rest of the card are worth there value\n",
    "# if players points are less or equal to 21, the player wins if he has more points then the dealer, otherwise the dealer wins"
   ]
  },
  {
   "cell_type": "code",
   "execution_count": null,
   "metadata": {},
   "outputs": [],
   "source": [
    "def pattern(n):\n",
    "    for i in range(1, n+1):\n",
    "        print('x ' * i + 'o ' * (n-i))\n",
    "\n",
    "pattern(5)"
   ]
  },
  {
   "cell_type": "code",
   "execution_count": null,
   "metadata": {},
   "outputs": [],
   "source": [
    "import random\n",
    "\n",
    "number_count = {1: 0, 2: 0, 3: 0, 4: 0, 5: 0, 6: 0}\n",
    "\n",
    "for _ in range(1000000):\n",
    "    roll = random.randint(1, 6)\n",
    "    number_count[roll] += 1\n",
    "\n",
    "for number, count in number_count.items():\n",
    "    print(f'{number}: {count}')"
   ]
  },
  {
   "cell_type": "code",
   "execution_count": null,
   "metadata": {},
   "outputs": [],
   "source": [
    "def change(amount):\n",
    "    bills = {'Hundred': 100,\n",
    "             'Fifty': 50,\n",
    "             'Twenty': 20,\n",
    "             'Ten': 10,\n",
    "             'Five': 5,\n",
    "             'One': 1\n",
    "             }\n",
    "    \n",
    "    for bill, value in bills.items():\n",
    "        count = amount // value\n",
    "        if count > 0:\n",
    "            print(f'{bill}: {count}')\n",
    "        amount %= value\n",
    "\n",
    "change(3214)"
   ]
  },
  {
   "cell_type": "code",
   "execution_count": 8,
   "metadata": {},
   "outputs": [
    {
     "data": {
      "text/plain": [
       "'Video with title Titanic, genre Romance, Drame and rating 4'"
      ]
     },
     "execution_count": 8,
     "metadata": {},
     "output_type": "execute_result"
    }
   ],
   "source": [
    "class Video:\n",
    "    def __init__(self, title: str, genre: str, rating: str):\n",
    "        \n",
    "        if not isinstance(title, (str)) or not isinstance(genre, (str)):\n",
    "            raise TypeError('Both title and genre must be strings')\n",
    "        \n",
    "        if not isinstance(rating, (int, float)) or rating < 0 or rating > 5:\n",
    "            raise ValueError('rating should be a number between 0 and 5')\n",
    "        \n",
    "        self.title = title\n",
    "        self.genre = genre\n",
    "        self.rating = rating\n",
    "\n",
    "    def info(self: str):\n",
    "        return f'Video with title {self.title}, genre {self.genre} and rating {self.rating}'\n",
    "    \n",
    "class TV_serie(Video):\n",
    "    def __init__(self, title, genre, rating, num_episodes):\n",
    "        super().__init__(title, genre, rating)\n",
    "\n",
    "        if not isinstance(num_episodes, (int)):\n",
    "            raise TypeError('The number of episodes should be a number')\n",
    "        \n",
    "        if num_episodes < 0:\n",
    "            raise ValueError('The number of episodes should be a positive number')\n",
    "        \n",
    "        self.num_episodes = num_episodes\n",
    "\n",
    "    def info(self):\n",
    "        return f'A TV series with title {self.title}, genre {self.genre}, number of episodes {self.num_episodes} and rating {self.rating}'\n",
    "    \n",
    "class Movie(Video):\n",
    "    def __init__(self, title: str, genre: str, rating, duration):\n",
    "        super().__init__()\n"
   ]
  },
  {
   "cell_type": "code",
   "execution_count": 22,
   "metadata": {},
   "outputs": [
    {
     "data": {
      "text/plain": [
       "350"
      ]
     },
     "execution_count": 22,
     "metadata": {},
     "output_type": "execute_result"
    }
   ],
   "source": [
    "courses = {\n",
    "    'math': 100,\n",
    "    'python': 100,\n",
    "    'ML': 150\n",
    "}\n",
    "\n",
    "total_points = 0\n",
    "\n",
    "for value in courses.values():\n",
    "    total_points += value\n",
    "\n",
    "total_points"
   ]
  },
  {
   "cell_type": "code",
   "execution_count": 29,
   "metadata": {},
   "outputs": [
    {
     "name": "stdout",
     "output_type": "stream",
     "text": [
      "1: 16725\n",
      "2: 16533\n",
      "3: 16787\n",
      "4: 16716\n",
      "5: 16660\n",
      "6: 16579\n"
     ]
    }
   ],
   "source": [
    "import random\n",
    "\n",
    "dices = {1:0, 2:0, 3:0, 4:0, 5:0, 6:0}\n",
    "\n",
    "for _ in range(100000):\n",
    "    roll = random.randint(1, 6)\n",
    "    dices[roll] += 1\n",
    "\n",
    "for number, count in dices.items():\n",
    "    print(f'{number}: {count}')"
   ]
  }
 ],
 "metadata": {
  "kernelspec": {
   "display_name": "Python-Elias-El-Haddad-KdAe7nXC",
   "language": "python",
   "name": "python3"
  },
  "language_info": {
   "codemirror_mode": {
    "name": "ipython",
    "version": 3
   },
   "file_extension": ".py",
   "mimetype": "text/x-python",
   "name": "python",
   "nbconvert_exporter": "python",
   "pygments_lexer": "ipython3",
   "version": "3.9.13"
  },
  "orig_nbformat": 4
 },
 "nbformat": 4,
 "nbformat_minor": 2
}
