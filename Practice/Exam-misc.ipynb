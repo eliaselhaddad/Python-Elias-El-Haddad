{
 "cells": [
  {
   "cell_type": "code",
   "execution_count": 20,
   "metadata": {},
   "outputs": [
    {
     "name": "stdout",
     "output_type": "stream",
     "text": [
      "5.0\n",
      "4.9\n"
     ]
    }
   ],
   "source": [
    "import math\n",
    "# c = math.sqrt(a**2 + b**2)\n",
    "def pythagorean_theorem(a, b, c):\n",
    "    if c == 0:\n",
    "        return math.sqrt(a**2 + b**2)\n",
    "    elif a == 0:\n",
    "        return math.sqrt(c**2 - b**2)\n",
    "    elif b == 0:\n",
    "        return math.sqrt(c**2 - a**2)\n",
    "\n",
    "print(pythagorean_theorem(3, 4, 0))\n",
    "print(round(pythagorean_theorem(a = 5, b = 0, c = 7), 2))"
   ]
  },
  {
   "cell_type": "code",
   "execution_count": 21,
   "metadata": {},
   "outputs": [
    {
     "name": "stdout",
     "output_type": "stream",
     "text": [
      "82.19\n"
     ]
    }
   ],
   "source": [
    "def weather_prediction(days: int, prediction: int):\n",
    "    return (prediction/days) * 100\n",
    "\n",
    "print(round(weather_prediction(365, 300), 2))\n"
   ]
  },
  {
   "cell_type": "code",
   "execution_count": 22,
   "metadata": {},
   "outputs": [
    {
     "name": "stdout",
     "output_type": "stream",
     "text": [
      "y = 0.75x + 1.0\n"
     ]
    }
   ],
   "source": [
    "x1, x2, y1, y2 = 4, 0, 4, 1\n",
    "\n",
    "k = (y2 - y1) / (x2 - x1)\n",
    "m = y1 - k * x1\n",
    "\n",
    "print(f\"y = {k}x + {m}\")"
   ]
  },
  {
   "cell_type": "code",
   "execution_count": 27,
   "metadata": {},
   "outputs": [
    {
     "name": "stdout",
     "output_type": "stream",
     "text": [
      "The distnace is around 5.1 l.u.\n"
     ]
    }
   ],
   "source": [
    "# distance = math.sqrt((x2-x1)**2 + (y2-y1)**2)\n",
    "# P1 = (3, 5)\n",
    "# P2 = (-2, 4)\n",
    "\n",
    "x1, x2, y1, y2 = 3, -2, 5, 4\n",
    "distance = math.sqrt((x2-x1)**2 + (y2-y1)**2)\n",
    "\n",
    "print(f\"The distnace is around {distance:.1f} l.u.\")"
   ]
  },
  {
   "cell_type": "code",
   "execution_count": 6,
   "metadata": {},
   "outputs": [
    {
     "name": "stdout",
     "output_type": "stream",
     "text": [
      "This is not a right angled triangle\n"
     ]
    }
   ],
   "source": [
    "a = int(input(\"enter angle a: \"))\n",
    "b = int(input(\"enter angle b: \"))\n",
    "c = int(input(\"enter angle c: \"))\n",
    "\n",
    "if a+b+c == 180:\n",
    "    if a == 90 or b == 90 or c == 90:\n",
    "        print(\"This is a right angled triangle\")\n",
    "    else:\n",
    "        print(\"This is not a right angled triangle\")\n",
    "else:\n",
    "    print(\"The sum of the angles should be 180\")"
   ]
  },
  {
   "cell_type": "code",
   "execution_count": 11,
   "metadata": {},
   "outputs": [
    {
     "name": "stdout",
     "output_type": "stream",
     "text": [
      "-10 -9 -8 -7 -6 -5 -4 -3 -2 -1 0 1 2 3 4 5 6 7 8 9 10 "
     ]
    }
   ],
   "source": [
    "counter = -10\n",
    "while counter <= 10:\n",
    "    print(counter, end=\" \")\n",
    "    counter += 1"
   ]
  },
  {
   "cell_type": "code",
   "execution_count": 2,
   "metadata": {},
   "outputs": [
    {
     "name": "stdout",
     "output_type": "stream",
     "text": [
      "2500\n"
     ]
    }
   ],
   "source": [
    "counter = 1\n",
    "sum = 0\n",
    "\n",
    "while counter <= 100:\n",
    "    sum += counter\n",
    "    counter += 1\n",
    "\n",
    "counter1 = 1\n",
    "sum1 = 0\n",
    "while counter1 <= 99:\n",
    "    sum1 += counter1\n",
    "    counter1 += 2\n",
    "print(sum1)"
   ]
  },
  {
   "cell_type": "code",
   "execution_count": 16,
   "metadata": {},
   "outputs": [
    {
     "name": "stdout",
     "output_type": "stream",
     "text": [
      "2500\n"
     ]
    }
   ],
   "source": [
    "sum = 0\n",
    "for i in range(1, 100, 2):\n",
    "    sum += i\n",
    "print(sum)"
   ]
  },
  {
   "cell_type": "code",
   "execution_count": 23,
   "metadata": {},
   "outputs": [
    {
     "name": "stdout",
     "output_type": "stream",
     "text": [
      "5 x 5 = 25\n",
      "6 x 5 = 30\n",
      "7 x 5 = 35\n",
      "8 x 5 = 40\n",
      "9 x 5 = 45\n",
      "10 x 5 = 50\n"
     ]
    }
   ],
   "source": [
    "# total = 0\n",
    "# for i in range(11):\n",
    "#     total = i * 6\n",
    "#     print(total, end=\" \")\n",
    "\n",
    "table = int(input(\"What table are you interested in: \"))\n",
    "start = int(input(\"Starts at: \"))\n",
    "end = int(input(\"Ends at: \"))\n",
    "\n",
    "for i in range(start, end + 1):\n",
    "    print(f\"{i} x {table} = {i*table}\")\n"
   ]
  }
 ],
 "metadata": {
  "kernelspec": {
   "display_name": "Python 3.9.13 ('Python-Elias-El-Haddad-KdAe7nXC')",
   "language": "python",
   "name": "python3"
  },
  "language_info": {
   "codemirror_mode": {
    "name": "ipython",
    "version": 3
   },
   "file_extension": ".py",
   "mimetype": "text/x-python",
   "name": "python",
   "nbconvert_exporter": "python",
   "pygments_lexer": "ipython3",
   "version": "3.9.13"
  },
  "orig_nbformat": 4,
  "vscode": {
   "interpreter": {
    "hash": "e66b0b6841b8a65024e468e80548b1ced47ff1ba5bbf1edee51c862e3cd59c08"
   }
  }
 },
 "nbformat": 4,
 "nbformat_minor": 2
}
