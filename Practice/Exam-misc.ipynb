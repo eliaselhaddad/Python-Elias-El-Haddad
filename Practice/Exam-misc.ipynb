{
 "cells": [
  {
   "cell_type": "code",
   "execution_count": 11,
   "metadata": {},
   "outputs": [
    {
     "name": "stdout",
     "output_type": "stream",
     "text": [
      "5.0\n",
      "4.9\n"
     ]
    }
   ],
   "source": [
    "import math\n",
    "# c = math.sqrt(a**2 + b**2)\n",
    "def pythagorean_theorem(a, b, c):\n",
    "    if c == 0:\n",
    "        return math.sqrt(a**2 + b**2)\n",
    "    elif a == 0:\n",
    "        return math.sqrt(c**2 - b**2)\n",
    "    elif b == 0:\n",
    "        return math.sqrt(c**2 - a**2)\n",
    "\n",
    "print(pythagorean_theorem(3, 4, 0))\n",
    "print(round(pythagorean_theorem(a = 5, b = 0, c = 7), 2))"
   ]
  },
  {
   "cell_type": "code",
   "execution_count": 13,
   "metadata": {},
   "outputs": [
    {
     "name": "stdout",
     "output_type": "stream",
     "text": [
      "82.19\n"
     ]
    }
   ],
   "source": [
    "def weather_prediction(days: int, prediction: int):\n",
    "    return (prediction/days) * 100\n",
    "\n",
    "print(round(weather_prediction(365, 300), 2))\n"
   ]
  },
  {
   "cell_type": "code",
   "execution_count": 18,
   "metadata": {},
   "outputs": [
    {
     "data": {
      "text/plain": [
       "1.0"
      ]
     },
     "execution_count": 18,
     "metadata": {},
     "output_type": "execute_result"
    }
   ],
   "source": []
  }
 ],
 "metadata": {
  "kernelspec": {
   "display_name": "Python 3.9.13 ('Python-Elias-El-Haddad-KdAe7nXC')",
   "language": "python",
   "name": "python3"
  },
  "language_info": {
   "codemirror_mode": {
    "name": "ipython",
    "version": 3
   },
   "file_extension": ".py",
   "mimetype": "text/x-python",
   "name": "python",
   "nbconvert_exporter": "python",
   "pygments_lexer": "ipython3",
   "version": "3.9.13"
  },
  "orig_nbformat": 4,
  "vscode": {
   "interpreter": {
    "hash": "e66b0b6841b8a65024e468e80548b1ced47ff1ba5bbf1edee51c862e3cd59c08"
   }
  }
 },
 "nbformat": 4,
 "nbformat_minor": 2
}
