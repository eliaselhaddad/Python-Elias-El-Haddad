{
 "cells": [
  {
   "cell_type": "code",
   "execution_count": 1,
   "metadata": {},
   "outputs": [
    {
     "name": "stdout",
     "output_type": "stream",
     "text": [
      "x x x x x \n",
      "x x x x \n",
      "x x x \n",
      "x x \n",
      "x \n"
     ]
    }
   ],
   "source": [
    "import math\n",
    "\n",
    "def print_pattern(n):\n",
    "    for i in range(n, 0, -1): # 5, 4, 3, 2, 1 # n is start, 0 is stop, -1 is step\n",
    "        print('x ' * i)\n",
    "\n",
    "print_pattern(5)"
   ]
  },
  {
   "cell_type": "code",
   "execution_count": 2,
   "metadata": {},
   "outputs": [
    {
     "name": "stdout",
     "output_type": "stream",
     "text": [
      "x \n",
      "x x \n",
      "x x x \n",
      "x x x x \n",
      "x x x x x \n"
     ]
    }
   ],
   "source": [
    "def print_pattern(n):\n",
    "    for i in range(1, n + 1):\n",
    "        print('x ' * i)\n",
    "\n",
    "print_pattern(5)"
   ]
  },
  {
   "cell_type": "code",
   "execution_count": 3,
   "metadata": {},
   "outputs": [
    {
     "name": "stdout",
     "output_type": "stream",
     "text": [
      "area = 12.57\n",
      "circumference = 12.57\n"
     ]
    }
   ],
   "source": [
    "import math\n",
    "\n",
    "def circle_properties(radius):\n",
    "    area = math.pi * radius ** 2\n",
    "    circumference = 2 * math.pi * radius\n",
    "    return area, circumference\n",
    "\n",
    "try:\n",
    "    radius = float(input('Enter a radius: '))\n",
    "    if radius < 0:\n",
    "        raise ValueError(\"Radius can't be negative\")\n",
    "    area, circumference = circle_properties(radius)\n",
    "    print(f'{area = :.2f}\\n{circumference = :.2f}')\n",
    "except ValueError as err:\n",
    "    print(err)"
   ]
  },
  {
   "cell_type": "code",
   "execution_count": 4,
   "metadata": {},
   "outputs": [
    {
     "name": "stdout",
     "output_type": "stream",
     "text": [
      "Person säger hej\n",
      "Student säger hej\n",
      "Person säger hej\n"
     ]
    }
   ],
   "source": [
    "class Person: \n",
    "    def hej(self):\n",
    "        print(\"Person säger hej\")\n",
    "\n",
    "class Student(Person):\n",
    "    def hej(self):\n",
    "        print(\"Student säger hej\")\n",
    "\n",
    "class Viking(Person):\n",
    "    def hoy(self):\n",
    "        print(\"Viking säger hoy\")\n",
    "\n",
    "for person in (Person(), Student(), Viking()):\n",
    "    person.hej()"
   ]
  },
  {
   "cell_type": "code",
   "execution_count": 5,
   "metadata": {},
   "outputs": [
    {
     "name": "stdout",
     "output_type": "stream",
     "text": [
      "My name is Alice, and I am 30 years old.\n"
     ]
    }
   ],
   "source": [
    "class Person:\n",
    "    def __init__(self, name, age):\n",
    "        self.name = name\n",
    "        self.age = age\n",
    "\n",
    "    def introduce(self):\n",
    "        print(f\"My name is {self.name}, and I am {self.age} years old.\")\n",
    "\n",
    "person1 = Person(\"Alice\", 30)\n",
    "person1.introduce()"
   ]
  },
  {
   "cell_type": "code",
   "execution_count": 6,
   "metadata": {},
   "outputs": [
    {
     "name": "stdout",
     "output_type": "stream",
     "text": [
      "thousands: 3\n",
      "hundreds: 2\n",
      "tens: 1\n",
      "ones: 1\n"
     ]
    }
   ],
   "source": [
    "def change_breakdown(sum_of_money):\n",
    "    thousands = sum_of_money // 1000\n",
    "    remainder = sum_of_money % 1000\n",
    "    \n",
    "    five_hundreds = remainder // 500\n",
    "    remainder = remainder % 500\n",
    "\n",
    "    hundreds = remainder // 100\n",
    "    remainder = remainder % 100\n",
    "\n",
    "    fifties = remainder // 50\n",
    "    remainder = remainder % 50\n",
    "\n",
    "    twenties = remainder // 20\n",
    "    remainder = remainder % 20\n",
    "\n",
    "    tens = remainder // 10\n",
    "    remainder = remainder % 10\n",
    "\n",
    "    fives = remainder // 5\n",
    "    remainder = remainder % 5\n",
    "\n",
    "    ones = remainder // 1\n",
    "    remainder = remainder % 1\n",
    "\n",
    "    return {\n",
    "        'thousands': thousands,\n",
    "        'five_hundreds': five_hundreds,\n",
    "        'hundreds': hundreds,\n",
    "        'fifties': fifties,\n",
    "        'twenties': twenties,\n",
    "        'tens': tens,\n",
    "        'fives': fives,\n",
    "        'ones': ones\n",
    "    }\n",
    "\n",
    "sum_of_money = 3211\n",
    "change = change_breakdown(sum_of_money)\n",
    "\n",
    "for key, value in change.items():\n",
    "    if value > 0:\n",
    "        print(f'{key}: {value}')\n"
   ]
  },
  {
   "cell_type": "code",
   "execution_count": 7,
   "metadata": {},
   "outputs": [],
   "source": [
    "import random \n",
    "\n",
    "# Simulera 1000000 tärningskast och beräkna antalet ettor, tvåor, treor, fyror, femmor och sexor. Spara\n",
    "# resultatet i en lämplig datastruktur.\n",
    "\n",
    "# Simulera 1000000 tärningskast och beräkna antalet ettor, tvåor, treor, fyror, femmor och sexor. Spara\n",
    "# resultatet i en lämplig datastruktur.\n",
    "\n",
    "# dice_rolls = [random.randint(1, 6) for _ in range(1000000)]\n",
    "\n",
    "# for i in range(1, 7):\n",
    "#     print(f'{i}: {dice_rolls.count(i)}')\n",
    "\n",
    "    "
   ]
  },
  {
   "cell_type": "code",
   "execution_count": 8,
   "metadata": {},
   "outputs": [
    {
     "name": "stdout",
     "output_type": "stream",
     "text": [
      "The volume of the sphere is 33.510321638291124\n"
     ]
    }
   ],
   "source": [
    "def sphere_volume(radius):\n",
    "    volume = (4*math.pi*radius**3)/3\n",
    "    return volume\n",
    "\n",
    "try:\n",
    "    user_input = float(input('Enter the radius: '))\n",
    "    if user_input < 0:\n",
    "        raise ValueError('Radius should be positive')\n",
    "    volume = sphere_volume(user_input)\n",
    "    print(f'The volume of the sphere is {volume}')\n",
    "except ValueError as err:\n",
    "    print(err)"
   ]
  },
  {
   "cell_type": "code",
   "execution_count": 9,
   "metadata": {},
   "outputs": [
    {
     "name": "stdout",
     "output_type": "stream",
     "text": [
      "v42\n",
      "Chili sin carne\n",
      "Pannkakor\n",
      "Ã„rtsoppa\n",
      "Kebab\n",
      "Vegetarisk lasagne\n"
     ]
    }
   ],
   "source": [
    "with open ('bamba.txt', 'r') as f:\n",
    "    text = f.read()\n",
    "    print(text)"
   ]
  },
  {
   "cell_type": "code",
   "execution_count": 10,
   "metadata": {},
   "outputs": [
    {
     "name": "stdout",
     "output_type": "stream",
     "text": [
      "x  o\n",
      "x x  oo\n",
      "x x x  ooo\n",
      "x x x x  oooo\n",
      "x x x x x  ooooo\n"
     ]
    }
   ],
   "source": [
    "def pattern(n):\n",
    "    for i in range(1, n + 1):\n",
    "        print('x ' * i, 'o' * i)\n",
    "\n",
    "pattern(5)"
   ]
  },
  {
   "cell_type": "code",
   "execution_count": 11,
   "metadata": {},
   "outputs": [
    {
     "name": "stdout",
     "output_type": "stream",
     "text": [
      "x o \n",
      "x x \n"
     ]
    }
   ],
   "source": [
    "def print_pattern(n):\n",
    "    for i in range(n):\n",
    "        row = 'x ' * (i + 1) + 'o ' * (n - (i + 1))\n",
    "        print(row)\n",
    "\n",
    "n = int(input(\"Enter a number: \"))\n",
    "print_pattern(n)"
   ]
  },
  {
   "cell_type": "code",
   "execution_count": 12,
   "metadata": {},
   "outputs": [
    {
     "name": "stdout",
     "output_type": "stream",
     "text": [
      "x o o o o o \n",
      "x x o o o o \n",
      "x x x o o o \n",
      "x x x x o o \n",
      "x x x x x o \n",
      "x x x x x x \n"
     ]
    }
   ],
   "source": [
    "def print_pattern(n):\n",
    "    for i in range(n):\n",
    "        row = 'x ' * (i + 1) +  'o ' * (n - (i + 1))\n",
    "        print(row)\n",
    "\n",
    "print_pattern(6)"
   ]
  },
  {
   "cell_type": "code",
   "execution_count": 13,
   "metadata": {},
   "outputs": [
    {
     "name": "stdout",
     "output_type": "stream",
     "text": [
      "the sum of the angles should be 180\n",
      "this is not a right angled triangle\n"
     ]
    }
   ],
   "source": [
    "import math\n",
    "\n",
    "# a**2 + b**2 = c**2\n",
    "first_angle, second_angle, third_angle = (\n",
    "    float(input(\"enter the first angle\")),\n",
    "    float(input(\"enter the second angle\")),\n",
    "    float(input(\"enter the third angle\")),\n",
    ")\n",
    "if first_angle + second_angle + third_angle != 180:\n",
    "    print('the sum of the angles should be 180')\n",
    "\n",
    "if first_angle <= 0 or second_angle <= 0 or third_angle <= 0:\n",
    "    print('angles must be positive')\n",
    "elif first_angle == 90 or second_angle == 90 or third_angle == 90:\n",
    "    print('this is a right angled triangle')\n",
    "else:\n",
    "    print('this is not a right angled triangle')"
   ]
  },
  {
   "cell_type": "code",
   "execution_count": 14,
   "metadata": {},
   "outputs": [
    {
     "name": "stdout",
     "output_type": "stream",
     "text": [
      "Error: The sum of angles must be 180 degrees.\n"
     ]
    }
   ],
   "source": [
    "try:\n",
    "    angle1 = float(input(\"Enter the first angle: \"))\n",
    "    angle2 = float(input(\"Enter the second angle: \"))\n",
    "    angle3 = float(input(\"Enter the third angle: \"))\n",
    "\n",
    "    if angle1 <= 0 or angle2 <= 0 or angle3 <= 0:\n",
    "        raise ValueError(\"Angles must be positive.\")\n",
    "\n",
    "    if angle1 + angle2 + angle3 != 180:\n",
    "        raise ValueError(\"The sum of angles must be 180 degrees.\")\n",
    "\n",
    "    if angle1 == 90 or angle2 == 90 or angle3 == 90:\n",
    "        print(\"The triangle has a right angle.\")\n",
    "    else:\n",
    "        print(\"The triangle does not have a right angle.\")\n",
    "except ValueError as ve:\n",
    "    print(f\"Error: {ve}\")\n"
   ]
  },
  {
   "cell_type": "code",
   "execution_count": 15,
   "metadata": {},
   "outputs": [
    {
     "name": "stdout",
     "output_type": "stream",
     "text": [
      "this is an even number\n"
     ]
    }
   ],
   "source": [
    "number = int(input(\"Enter a number: \"))\n",
    "\n",
    "if number % 2 == 0:\n",
    "    print('this is an even number')\n",
    "elif number % 5 == 0 and number % 2 != 0:\n",
    "    print('this is an odd number and divisible by five')\n",
    "elif number % 5 == 0:\n",
    "    print('this number is divisible by five')\n",
    "else:\n",
    "    print('this is an odd number')"
   ]
  },
  {
   "cell_type": "code",
   "execution_count": 16,
   "metadata": {},
   "outputs": [
    {
     "name": "stdout",
     "output_type": "stream",
     "text": [
      "-10\n",
      "-9\n",
      "-8\n",
      "-7\n",
      "-6\n",
      "-5\n",
      "-4\n",
      "-3\n",
      "-2\n",
      "-1\n",
      "0\n",
      "1\n",
      "2\n",
      "3\n",
      "4\n",
      "5\n",
      "6\n",
      "7\n",
      "8\n",
      "9\n",
      "10\n"
     ]
    }
   ],
   "source": [
    "count = -10\n",
    "while count <= 10:\n",
    "    print(count)\n",
    "    count += 1"
   ]
  },
  {
   "cell_type": "code",
   "execution_count": 17,
   "metadata": {},
   "outputs": [
    {
     "name": "stdout",
     "output_type": "stream",
     "text": [
      "5050\n"
     ]
    }
   ],
   "source": [
    "count = 1\n",
    "sum_a = 0\n",
    "\n",
    "while count <= 100:\n",
    "    sum_a += count\n",
    "    count += 1\n",
    "\n",
    "print(sum_a)"
   ]
  },
  {
   "cell_type": "code",
   "execution_count": 18,
   "metadata": {},
   "outputs": [
    {
     "name": "stdout",
     "output_type": "stream",
     "text": [
      "Sum of odd numbers from 1 to 99: 2500\n"
     ]
    }
   ],
   "source": [
    "count = 1\n",
    "sum_b = 0\n",
    "\n",
    "while count <= 99:\n",
    "    sum_b += count\n",
    "    count += 2\n",
    "\n",
    "print(\"Sum of odd numbers from 1 to 99:\", sum_b)"
   ]
  },
  {
   "cell_type": "code",
   "execution_count": 19,
   "metadata": {},
   "outputs": [
    {
     "name": "stdout",
     "output_type": "stream",
     "text": [
      "-10\n",
      "-8\n",
      "-6\n",
      "-4\n",
      "-2\n",
      "0\n",
      "2\n",
      "4\n",
      "6\n",
      "8\n",
      "10\n"
     ]
    }
   ],
   "source": [
    "for number in range(-10, 11, 2):\n",
    "    print(number)"
   ]
  },
  {
   "cell_type": "code",
   "execution_count": 20,
   "metadata": {},
   "outputs": [
    {
     "data": {
      "text/plain": [
       "5050"
      ]
     },
     "execution_count": 20,
     "metadata": {},
     "output_type": "execute_result"
    }
   ],
   "source": [
    "sum_1 = 0\n",
    "for number in range(1, 101):\n",
    "    sum_1 += number\n",
    "sum_1"
   ]
  },
  {
   "cell_type": "code",
   "execution_count": 21,
   "metadata": {},
   "outputs": [
    {
     "data": {
      "text/plain": [
       "2500"
      ]
     },
     "execution_count": 21,
     "metadata": {},
     "output_type": "execute_result"
    }
   ],
   "source": [
    "sum_1 = 0\n",
    "for number in range(1, 100, 2):\n",
    "    sum_1 += number\n",
    "sum_1"
   ]
  },
  {
   "cell_type": "code",
   "execution_count": 22,
   "metadata": {},
   "outputs": [
    {
     "name": "stdout",
     "output_type": "stream",
     "text": [
      "6 * 0 = 0\n",
      "6 * 1 = 6\n",
      "6 * 2 = 12\n",
      "6 * 3 = 18\n",
      "6 * 4 = 24\n",
      "6 * 5 = 30\n",
      "6 * 6 = 36\n",
      "6 * 7 = 42\n",
      "6 * 8 = 48\n",
      "6 * 9 = 54\n",
      "6 * 10 = 60\n"
     ]
    }
   ],
   "source": [
    "number = 6\n",
    "for i in range(0, 11):\n",
    "    print(f'{number} * {i} = {number * i}')"
   ]
  },
  {
   "cell_type": "code",
   "execution_count": 23,
   "metadata": {},
   "outputs": [
    {
     "name": "stdout",
     "output_type": "stream",
     "text": [
      "2 * 2 = 4\n"
     ]
    }
   ],
   "source": [
    "table = int(input('table: '))\n",
    "start = int(input('start: '))\n",
    "end = int(input('end: '))\n",
    "\n",
    "for i in range(start, end+1):\n",
    "    print(f'{table} * {i} = {table* i}')"
   ]
  },
  {
   "cell_type": "code",
   "execution_count": 24,
   "metadata": {},
   "outputs": [
    {
     "name": "stdout",
     "output_type": "stream",
     "text": [
      "    0    0    0    0    0    0    0    0    0    0    0\n",
      "    0    1    2    3    4    5    6    7    8    9   10\n",
      "    0    2    4    6    8   10   12   14   16   18   20\n",
      "    0    3    6    9   12   15   18   21   24   27   30\n",
      "    0    4    8   12   16   20   24   28   32   36   40\n",
      "    0    5   10   15   20   25   30   35   40   45   50\n",
      "    0    6   12   18   24   30   36   42   48   54   60\n",
      "    0    7   14   21   28   35   42   49   56   63   70\n",
      "    0    8   16   24   32   40   48   56   64   72   80\n",
      "    0    9   18   27   36   45   54   63   72   81   90\n",
      "    0   10   20   30   40   50   60   70   80   90  100\n"
     ]
    }
   ],
   "source": [
    "for i in range(11):\n",
    "    for j in range(11):\n",
    "        print(\"{:5}\".format(i * j), end=\"\")\n",
    "    print()\n"
   ]
  },
  {
   "cell_type": "code",
   "execution_count": 25,
   "metadata": {},
   "outputs": [
    {
     "data": {
      "text/plain": [
       "120"
      ]
     },
     "execution_count": 25,
     "metadata": {},
     "output_type": "execute_result"
    }
   ],
   "source": [
    "n = 1*2*3*4*5\n",
    "n"
   ]
  },
  {
   "cell_type": "code",
   "execution_count": 26,
   "metadata": {},
   "outputs": [
    {
     "name": "stdout",
     "output_type": "stream",
     "text": [
      "The factorial of 2 is 2\n"
     ]
    }
   ],
   "source": [
    "n = int(input(\"Enter a positive integer: \"))\n",
    "\n",
    "factorial = 1\n",
    "for i in range(1, n + 1):\n",
    "    factorial *= i\n",
    "\n",
    "print(f\"The factorial of {n} is {factorial}\")"
   ]
  },
  {
   "cell_type": "code",
   "execution_count": 27,
   "metadata": {},
   "outputs": [
    {
     "name": "stdout",
     "output_type": "stream",
     "text": [
      "the random number is 6946\n",
      "the computer guessed 6946\n"
     ]
    }
   ],
   "source": [
    "import random\n",
    "\n",
    "random_number = random.randint(1000, 9999)\n",
    "print(f'the random number is {random_number}')\n",
    "\n",
    "for number in range(1000, 10000):\n",
    "    if number == random_number:\n",
    "        print(f'the computer guessed {number}')"
   ]
  },
  {
   "cell_type": "code",
   "execution_count": 28,
   "metadata": {},
   "outputs": [
    {
     "data": {
      "text/plain": [
       "255"
      ]
     },
     "execution_count": 28,
     "metadata": {},
     "output_type": "execute_result"
    }
   ],
   "source": [
    "row1 = 1+2+4+8+16+32+64+128\n",
    "row1"
   ]
  },
  {
   "cell_type": "code",
   "execution_count": 29,
   "metadata": {},
   "outputs": [
    {
     "name": "stdout",
     "output_type": "stream",
     "text": [
      "Total grains on the chessboard: 18446744073709551615\n"
     ]
    }
   ],
   "source": [
    "total_squares = 64\n",
    "total_grains = 0\n",
    "\n",
    "for square in range(total_squares):\n",
    "    grains_in_square = 2 ** square\n",
    "    total_grains += grains_in_square\n",
    "\n",
    "print(\"Total grains on the chessboard:\", total_grains)"
   ]
  },
  {
   "cell_type": "code",
   "execution_count": 30,
   "metadata": {},
   "outputs": [
    {
     "data": {
      "text/plain": [
       "[5, 3, 3, 1, 5, 4, 5, 5, 2, 2]"
      ]
     },
     "execution_count": 30,
     "metadata": {},
     "output_type": "execute_result"
    }
   ],
   "source": [
    "import random \n",
    "\n",
    "list = []\n",
    "\n",
    "for roll in range(10):\n",
    "    dice_rolls = random.randint(1, 6)\n",
    "    list.append(dice_rolls)\n",
    "\n",
    "list"
   ]
  },
  {
   "cell_type": "code",
   "execution_count": 31,
   "metadata": {},
   "outputs": [
    {
     "name": "stdout",
     "output_type": "stream",
     "text": [
      "Dice rolls: [4, 5, 1, 1, 2, 1, 3, 1, 6, 2]\n",
      "Ascending order: [1, 1, 1, 1, 2, 2, 3, 4, 5, 6]\n",
      "Descending order: [6, 5, 4, 3, 2, 2, 1, 1, 1, 1]\n",
      "Maximum value: 6\n",
      "Minimum value: 1\n"
     ]
    }
   ],
   "source": [
    "import random\n",
    "\n",
    "# Simulate 10 dice rolls using list comprehension\n",
    "dice_rolls = [random.randint(1, 6) for _ in range(10)]\n",
    "\n",
    "# a) Sort the list in ascending order\n",
    "ascending_order = sorted(dice_rolls)\n",
    "\n",
    "# b) Sort the list in descending order\n",
    "descending_order = sorted(dice_rolls, reverse=True)\n",
    "\n",
    "# c) Find the maximum and minimum value in the list\n",
    "max_value = max(dice_rolls)\n",
    "min_value = min(dice_rolls)\n",
    "\n",
    "print(\"Dice rolls:\", dice_rolls)\n",
    "print(\"Ascending order:\", ascending_order)\n",
    "print(\"Descending order:\", descending_order)\n",
    "print(\"Maximum value:\", max_value)\n",
    "print(\"Minimum value:\", min_value)\n"
   ]
  },
  {
   "cell_type": "code",
   "execution_count": 32,
   "metadata": {},
   "outputs": [
    {
     "name": "stdout",
     "output_type": "stream",
     "text": [
      "Menu:\n",
      "monday: vegetarisk lasagne\n",
      "tuesday: spaghetti\n",
      "wednesday: fisk\n",
      "tuesday: grönsakssoppa\n",
      "friday: pannkakor\n"
     ]
    }
   ],
   "source": [
    "food_items = [\"vegetarisk lasagne\", \"spaghetti\", \"fisk\", \"grönsakssoppa\", \"pannkakor\"]\n",
    "days = [\"monday\", \"tuesday\", \"wednesday\", \"tuesday\", \"friday\"]\n",
    "\n",
    "print('Menu:')\n",
    "for day, food in zip(days, food_items):\n",
    "    print(f'{day}: {food}')"
   ]
  },
  {
   "cell_type": "code",
   "execution_count": 33,
   "metadata": {},
   "outputs": [
    {
     "data": {
      "text/plain": [
       "[100, 81, 64, 49, 36, 25, 16, 9, 4, 1, 0, 1, 4, 9, 16, 25, 36, 49, 64, 81, 100]"
      ]
     },
     "execution_count": 33,
     "metadata": {},
     "output_type": "execute_result"
    }
   ],
   "source": [
    "list_of_squares = [i**2 for i in range(-10, 11)]\n",
    "list_of_squares"
   ]
  },
  {
   "cell_type": "code",
   "execution_count": 34,
   "metadata": {},
   "outputs": [
    {
     "data": {
      "text/plain": [
       "Text(0.5, 1.0, 'The function x^2')"
      ]
     },
     "execution_count": 34,
     "metadata": {},
     "output_type": "execute_result"
    },
    {
     "data": {
      "image/png": "[encoded data removed]",
      "text/plain": [
       "<Figure size 640x480 with 1 Axes>"
      ]
     },
     "metadata": {},
     "output_type": "display_data"
    }
   ],
   "source": [
    "import matplotlib.pyplot as plt\n",
    "\n",
    "plt.plot(list_of_squares)\n",
    "plt.xlabel('x')\n",
    "plt.ylabel('y')\n",
    "plt.title('The function x^2')"
   ]
  },
  {
   "cell_type": "code",
   "execution_count": 35,
   "metadata": {},
   "outputs": [
    {
     "name": "stdout",
     "output_type": "stream",
     "text": [
      "the number of letters in 2 is 1\n",
      "the number of upper case letters is 0\n",
      "the number of lower case letters is 1\n"
     ]
    }
   ],
   "source": [
    "word = input('Enter a word')\n",
    "print(f'the number of letters in {word} is {len(word)}')\n",
    "\n",
    "upper_case = 0\n",
    "lower_case = 0\n",
    "\n",
    "for letter in word:\n",
    "    if letter.isupper() == True:\n",
    "        upper_case += 1\n",
    "    else:\n",
    "        lower_case += 1\n",
    "\n",
    "print(f'the number of upper case letters is {upper_case}\\nthe number of lower case letters is {lower_case}')"
   ]
  },
  {
   "cell_type": "code",
   "execution_count": 36,
   "metadata": {},
   "outputs": [
    {
     "data": {
      "text/plain": [
       "17"
      ]
     },
     "execution_count": 36,
     "metadata": {},
     "output_type": "execute_result"
    }
   ],
   "source": [
    "quote = \"A picture says more than a thousand words, a matematical formula says more than a thousand pictures.\"\n",
    "split_quote = quote.split(\" \")\n",
    "len(split_quote)"
   ]
  },
  {
   "cell_type": "code",
   "execution_count": 37,
   "metadata": {},
   "outputs": [
    {
     "name": "stdout",
     "output_type": "stream",
     "text": [
      "2 is a palindrome.\n"
     ]
    }
   ],
   "source": [
    "# Get user input\n",
    "user_input = input(\"Please enter a sequence of characters: \")\n",
    "\n",
    "# Remove spaces and convert to lowercase\n",
    "cleaned_input = user_input.replace(\" \", \"\").lower()\n",
    "\n",
    "reverse_input = cleaned_input[::-1]\n",
    "\n",
    "# Check if the cleaned input is a palindrome\n",
    "if cleaned_input == reverse_input:\n",
    "    print(f\"{user_input} is a palindrome.\")\n",
    "else:\n",
    "    print(f\"{user_input} is not a palindrome.\")\n"
   ]
  },
  {
   "cell_type": "code",
   "execution_count": 38,
   "metadata": {},
   "outputs": [
    {
     "data": {
      "text/plain": [
       "25.0"
      ]
     },
     "execution_count": 38,
     "metadata": {},
     "output_type": "execute_result"
    }
   ],
   "source": [
    "def triangle_area(base, height):\n",
    "    return (base*height)/2\n",
    "\n",
    "triangle_area(5, 10)"
   ]
  },
  {
   "cell_type": "code",
   "execution_count": 39,
   "metadata": {},
   "outputs": [
    {
     "name": "stdout",
     "output_type": "stream",
     "text": [
      "The Euclidean distance between (2.0, 2.0) and (2.0, 2.0) is 0.00\n",
      "[10.44030650891055, 9.055385138137417, 14.142135623730951, 4.47213595499958, 13.45362404707371]\n"
     ]
    }
   ],
   "source": [
    "def euclidean_distance(p, q):\n",
    "    return ((p[0] - q[0])**2 + (p[1] - q[1])**2)**0.5\n",
    "\n",
    "# Part b)\n",
    "px = float(input(\"Enter the x-coordinate for point P: \"))\n",
    "py = float(input(\"Enter the y-coordinate for point P: \"))\n",
    "qx = float(input(\"Enter the x-coordinate for point Q: \"))\n",
    "qy = float(input(\"Enter the y-coordinate for point Q: \"))\n",
    "\n",
    "p = (px, py)\n",
    "q = (qx, qy)\n",
    "\n",
    "distance = euclidean_distance(p, q)\n",
    "print(f\"The Euclidean distance between {p} and {q} is {distance:.2f}\")\n",
    "\n",
    "# Part c)\n",
    "points = [(10, 3), (-1, -9), (10, -10), (4, -2), (9, -10)]\n",
    "origin = (0, 0)\n",
    "\n",
    "distances = [euclidean_distance(origin, point) for point in points]\n",
    "print(f'{distances}')"
   ]
  },
  {
   "cell_type": "code",
   "execution_count": 40,
   "metadata": {},
   "outputs": [
    {
     "name": "stdout",
     "output_type": "stream",
     "text": [
      "1: 166749\n",
      "2: 166947\n",
      "3: 166287\n",
      "4: 166697\n",
      "5: 166812\n",
      "6: 166508\n"
     ]
    }
   ],
   "source": [
    "import random\n",
    "\n",
    "dice_rolls = [random.randint(1, 6) for _ in range(1_000_000)]\n",
    "\n",
    "for numbers in range(1, 7):\n",
    "    print(f'{numbers}: {dice_rolls.count(numbers)}')"
   ]
  },
  {
   "cell_type": "code",
   "execution_count": 41,
   "metadata": {},
   "outputs": [
    {
     "name": "stdout",
     "output_type": "stream",
     "text": [
      "1: 166680\n",
      "2: 167128\n",
      "3: 166353\n",
      "4: 166610\n",
      "5: 166852\n",
      "6: 166377\n"
     ]
    }
   ],
   "source": [
    "import random\n",
    "\n",
    "dice_rolls = [random.randint(1, 6) for _ in range(1_000_000)]\n",
    "number_counts = {}\n",
    "\n",
    "for numbers in range(1, 7):\n",
    "    count = dice_rolls.count(numbers)\n",
    "    print(f'{numbers}: {count}')\n",
    "    number_counts[numbers] = count"
   ]
  },
  {
   "cell_type": "code",
   "execution_count": 42,
   "metadata": {},
   "outputs": [],
   "source": [
    "import numpy as np\n",
    "import matplotlib.pyplot as plt\n",
    "\n",
    "f_x = lambda x: x**2 - 3\n",
    "g_x = lambda x: 4*x - 7"
   ]
  },
  {
   "cell_type": "code",
   "execution_count": 43,
   "metadata": {},
   "outputs": [
    {
     "data": {
      "text/plain": [
       "Text(0.5, 1.0, 'Graphs of f(x) and g(x)')"
      ]
     },
     "execution_count": 43,
     "metadata": {},
     "output_type": "execute_result"
    },
    {
     "data": {
      "image/png": "[encoded data removed]",
      "text/plain": [
       "<Figure size 640x480 with 1 Axes>"
      ]
     },
     "metadata": {},
     "output_type": "display_data"
    }
   ],
   "source": [
    "import numpy as np\n",
    "import matplotlib.pyplot as plt\n",
    "\n",
    "# Defining functions using def\n",
    "# def f(x):\n",
    "#     return x**2 - 3\n",
    "\n",
    "# def g(x):\n",
    "#     return 4*x - 7\n",
    "\n",
    "# Defining functions using lambda (alternative)\n",
    "f = lambda x: x**2 - 3\n",
    "g = lambda x: 4*x - 7\n",
    "\n",
    "x = np.linspace(-10, 10)\n",
    "\n",
    "plt.plot(x, f(x))\n",
    "plt.plot(x, g(x))\n",
    "\n",
    "plt.xlabel('x')\n",
    "plt.ylabel('y')\n",
    "plt.title('Graphs of f(x) and g(x)')"
   ]
  },
  {
   "cell_type": "code",
   "execution_count": 44,
   "metadata": {},
   "outputs": [],
   "source": [
    "def name_cleaner(name):\n",
    "    name = name.title()\n",
    "    name = name.strip()\n",
    "    name = name.join(' ')\n",
    "    name = name.split()\n",
    "    return name\n",
    "\n"
   ]
  },
  {
   "cell_type": "code",
   "execution_count": 45,
   "metadata": {},
   "outputs": [
    {
     "name": "stdout",
     "output_type": "stream",
     "text": [
      "Elias\n",
      "Matheo\n"
     ]
    }
   ],
   "source": [
    "def clean_name(name):\n",
    "    name = name.strip()  # Remove leading and trailing spaces\n",
    "    name = name.title()  # Capitalize the first character of each name and make the rest lowercase\n",
    "    return name\n",
    "\n",
    "names = ['elias       ', '   MatHeo']\n",
    "\n",
    "cleaned_names = [clean_name(name) for name in names]\n",
    "\n",
    "for name in cleaned_names:\n",
    "    print(name)\n"
   ]
  },
  {
   "cell_type": "code",
   "execution_count": 46,
   "metadata": {},
   "outputs": [
    {
     "name": "stdout",
     "output_type": "stream",
     "text": [
      "1000-lapp: 4\n",
      "500-lapp: 1\n"
     ]
    }
   ],
   "source": [
    "def change(money):\n",
    "    tusen = money // 1000\n",
    "    remainder = money % 1000\n",
    "\n",
    "    fem_hundra = remainder // 500\n",
    "    remainder = remainder % 500\n",
    "\n",
    "    två_hundra = remainder // 200\n",
    "    remainder = remainder % 200\n",
    "\n",
    "    ett_hundra = remainder // 100\n",
    "    remainder = remainder % 1000\n",
    "\n",
    "    return {'1000-lapp': tusen,\n",
    "            '500-lapp': fem_hundra,\n",
    "            '200-lapp': två_hundra,\n",
    "            '100-lapp': ett_hundra\n",
    "            }\n",
    "\n",
    "change = change(4500)\n",
    "\n",
    "for key, value in change.items():\n",
    "    if value > 0:\n",
    "        print(f'{key}: {value}')\n"
   ]
  },
  {
   "cell_type": "code",
   "execution_count": 47,
   "metadata": {},
   "outputs": [
    {
     "name": "stdout",
     "output_type": "stream",
     "text": [
      "It is worth buying a monthly ticket\n"
     ]
    }
   ],
   "source": [
    "try:\n",
    "    number_of_times = int(input('How many times do you take the tram in one month: '))\n",
    "    if number_of_times < 0 or number_of_times > 100:\n",
    "        raise ValueError(f'The number of times you take the tram should be between 0 and 100, not {number_of_times}')\n",
    "    cost_of_ticket = int(input('How much does one ticket cost? (kr): '))\n",
    "    if cost_of_ticket < 0 or cost_of_ticket >= 100:\n",
    "        raise ValueError(f'One ticket must cost between 0 and 100 kr')\n",
    "except ValueError as err:\n",
    "    print(err)\n",
    "\n",
    "try:\n",
    "    monthly_ticket = int(input('How much does a montly ticket costs? (kr): '))\n",
    "except ValueError as err:\n",
    "    print(err)\n",
    "\n",
    "cost_times_ride = number_of_times * cost_of_ticket\n",
    "\n",
    "if monthly_ticket < cost_times_ride:\n",
    "    print(f'It is worth buying a monthly ticket')\n",
    "else:\n",
    "    print('It is not worth buying a monthly ticket')\n"
   ]
  },
  {
   "cell_type": "code",
   "execution_count": 48,
   "metadata": {},
   "outputs": [],
   "source": [
    "import random \n",
    "\n",
    "dice_rolls = [random.randint(1, 6) for _ in range(20)]\n",
    "\n",
    "sorted_dice_rolls = sorted(dice_rolls)\n",
    "\n",
    "count_numbers = dice_rolls.count(4)\n",
    "\n",
    "with open('dice_rolls.txt', 'w') as f_write:\n",
    "\n",
    "    f_write.write('Simulate 20 dice rolls\\n')\n",
    "    f_write.write(', '.join(str(roll) for roll in dice_rolls))\n",
    "    f_write.write('\\n\\n')\n",
    "\n",
    "    f_write.write('Sorted 20 dice rolls\\n')\n",
    "    f_write.write(', '.join(str(roll) for roll in sorted_dice_rolls))\n",
    "    f_write.write('\\n\\n')\n",
    "\n",
    "    f_write.write('Number of fours: ')\n",
    "    f_write.write(str(count_numbers))"
   ]
  },
  {
   "cell_type": "code",
   "execution_count": 49,
   "metadata": {},
   "outputs": [
    {
     "data": {
      "text/plain": [
       "'Adam Gustafsson 25\\nEmil Johansson 23\\nSven Erik Karlsson 13\\nOve Karlsten 41\\nEmma Boden 32\\nIda HÃ¥kansson 23\\nElla Ester 41\\nHanna Karlsson 23 \\nJohan Johansson 42\\nSven Erik Lundin 39\\nBjÃ¶rn BjÃ¶rnsson 39\\nKarl Karlsson 32\\nBose Bosseson 32\\nHÃ¥kan HÃ¥kanson 24\\nJonas Jonasson 31\\nErik Eriksson 31\\nGore Bord 55\\nJakob Kallander 65\\nFredrika Ulven 10'"
      ]
     },
     "execution_count": 49,
     "metadata": {},
     "output_type": "execute_result"
    }
   ],
   "source": [
    "with open('test_result.txt', 'r') as f_read:\n",
    "    text = f_read.read()\n",
    "\n",
    "text"
   ]
  },
  {
   "cell_type": "code",
   "execution_count": 50,
   "metadata": {},
   "outputs": [
    {
     "data": {
      "text/plain": [
       "400"
      ]
     },
     "execution_count": 50,
     "metadata": {},
     "output_type": "execute_result"
    }
   ],
   "source": [
    "courses = {\n",
    "    'python': 100,\n",
    "    'statistics': 100,\n",
    "    'machine learning': 200,\n",
    "}\n",
    "\n",
    "# total_points = sum(courses.values())\n",
    "# total_points\n",
    "score = 0\n",
    "\n",
    "for points in courses.values():\n",
    "    score += points\n",
    "\n",
    "score"
   ]
  },
  {
   "cell_type": "code",
   "execution_count": 51,
   "metadata": {},
   "outputs": [
    {
     "name": "stdout",
     "output_type": "stream",
     "text": [
      "1: 16\n",
      "2: 11\n",
      "3: 16\n",
      "4: 18\n",
      "5: 23\n",
      "6: 16\n"
     ]
    }
   ],
   "source": [
    "import random \n",
    "\n",
    "dice_rolls = [random.randint(1, 6) for _ in range(100)]\n",
    "\n",
    "dice_rolls_count = {1: 0, 2: 0, 3: 0, 4: 0, 5: 0, 6: 0}\n",
    "\n",
    "# update the count for each outcome\n",
    "for roll in dice_rolls:\n",
    "    dice_rolls_count[roll] += 1\n",
    "\n",
    "for number, count in dice_rolls_count.items():\n",
    "    print(f'{number}: {count}')"
   ]
  },
  {
   "cell_type": "code",
   "execution_count": 52,
   "metadata": {},
   "outputs": [
    {
     "name": "stdout",
     "output_type": "stream",
     "text": [
      "1: 165859\n",
      "2: 166788\n",
      "3: 166887\n",
      "4: 166559\n",
      "5: 166901\n",
      "6: 167006\n"
     ]
    }
   ],
   "source": [
    "import random\n",
    "\n",
    "dice_rolls = [random.randint(1, 6) for _ in range(1000000)]\n",
    "\n",
    "dice_rolls_count = {1: 0, 2: 0, 3: 0, 4: 0, 5: 0, 6: 0}\n",
    "\n",
    "for roll in dice_rolls:\n",
    "    dice_rolls_count[roll] += 1\n",
    "\n",
    "for number, count in dice_rolls_count.items():\n",
    "    print(f'{number}: {count}')"
   ]
  },
  {
   "cell_type": "code",
   "execution_count": 53,
   "metadata": {},
   "outputs": [
    {
     "name": "stdout",
     "output_type": "stream",
     "text": [
      "The volume of a sphere with a radius of 2.0 is 33.510321638291124\n"
     ]
    }
   ],
   "source": [
    "import math \n",
    "\n",
    "def sphere_volume(radius):\n",
    "\n",
    "    if not isinstance(radius, (int, float)):\n",
    "        raise TypeError('Radius should be a number')\n",
    "    \n",
    "    if radius < 0:\n",
    "        raise ValueError('Radius should be positive')\n",
    "    \n",
    "    volume = 4 * math.pi * radius ** 3 / 3\n",
    "    return volume\n",
    "\n",
    "try:\n",
    "    user_input = float(input('Enter the radius: '))\n",
    "    print(f'The volume of a sphere with a radius of {user_input} is {sphere_volume(user_input)}')\n",
    "except TypeError as te:\n",
    "    print(te)\n",
    "except ValueError as ve:\n",
    "    print(ve)"
   ]
  },
  {
   "cell_type": "code",
   "execution_count": 54,
   "metadata": {},
   "outputs": [
    {
     "name": "stdout",
     "output_type": "stream",
     "text": [
      "v42\n",
      "Chili sin carne\n",
      "Pannkakor\n",
      "Ã„rtsoppa\n",
      "Kebab\n",
      "Vegetarisk lasagne\n"
     ]
    }
   ],
   "source": [
    "with open('bamba.txt', 'r') as f_read:\n",
    "    content = f_read.read()\n",
    "\n",
    "print(content)"
   ]
  },
  {
   "cell_type": "code",
   "execution_count": 55,
   "metadata": {},
   "outputs": [
    {
     "name": "stdout",
     "output_type": "stream",
     "text": [
      "x o o o o \n",
      "x x o o o \n",
      "x x x o o \n",
      "x x x x o \n",
      "x x x x x \n"
     ]
    }
   ],
   "source": [
    "def pattern(n):\n",
    "    for i in range(1, n+1):\n",
    "        print('x ' * i + 'o ' * (n-i))\n",
    "pattern(5)"
   ]
  },
  {
   "cell_type": "code",
   "execution_count": 56,
   "metadata": {},
   "outputs": [
    {
     "name": "stdout",
     "output_type": "stream",
     "text": [
      "x \n",
      "x x \n",
      "x x x \n",
      "x x x x \n",
      "x x x x x \n"
     ]
    }
   ],
   "source": [
    "# x\n",
    "# x x\n",
    "# x x x \n",
    "# x x x x\n",
    "# x x x x x \n",
    "\n",
    "def pattern(n):\n",
    "    for i in range(1, n+1):\n",
    "        print('x ' * i)\n",
    "pattern(5)"
   ]
  },
  {
   "cell_type": "code",
   "execution_count": 57,
   "metadata": {},
   "outputs": [
    {
     "name": "stdout",
     "output_type": "stream",
     "text": [
      "x x x x x \n",
      "x x x x o \n",
      "x x x o o \n",
      "x x o o o \n",
      "x o o o o \n"
     ]
    }
   ],
   "source": [
    "for i in range(5, 0, -1):\n",
    "    print('x ' * i + 'o ' * (5-i))"
   ]
  },
  {
   "cell_type": "code",
   "execution_count": 58,
   "metadata": {},
   "outputs": [
    {
     "name": "stdout",
     "output_type": "stream",
     "text": [
      "The volume of a cylinder with a radius of 2.0 and a height of 2.0 is 25.132741228718345\n"
     ]
    }
   ],
   "source": [
    "import math\n",
    "\n",
    "def cylinder_volume(radius, height):\n",
    "    \n",
    "    if not isinstance(radius, (int, float)) or not isinstance(height, (int, float)):\n",
    "        raise TypeError('Both radius and height should be numbers')\n",
    "    \n",
    "    if radius < 0 or height < 0:\n",
    "        raise ValueError('Both radius and height should be positive')\n",
    "    \n",
    "    return math.pi * radius**2 * height\n",
    "\n",
    "try:\n",
    "    user_radius = float(input('Enter the radius:'))\n",
    "    user_height = float(input('Enter the height'))\n",
    "    print(f'The volume of a cylinder with a radius of {user_radius} and a height of {user_height} is {cylinder_volume(user_radius, user_height)}')\n",
    "except TypeError as te:\n",
    "    print(te)\n",
    "except ValueError as ve:\n",
    "    print(ve)"
   ]
  },
  {
   "cell_type": "code",
   "execution_count": 59,
   "metadata": {},
   "outputs": [
    {
     "name": "stdout",
     "output_type": "stream",
     "text": [
      "['v42\\n', 'Chili sin carne\\n', 'Pannkakor\\n', 'Ã„rtsoppa\\n', 'Kebab\\n', 'Vegetarisk lasagne']\n",
      "v42\n",
      "\n",
      "['Chili sin carne\\n', 'Pannkakor\\n', 'Ã„rtsoppa\\n', 'Kebab\\n', 'Vegetarisk lasagne']\n",
      "v42\n",
      "\n",
      "M: Chili sin carne\n",
      "T: Pannkakor\n",
      "W: Ã„rtsoppa\n",
      "T: Kebab\n",
      "F: Vegetarisk lasagne\n"
     ]
    }
   ],
   "source": [
    "with open('bamba.txt', 'r') as file:\n",
    "    content = file.readlines()\n",
    "\n",
    "print(content)\n",
    "\n",
    "week_number = content[0]\n",
    "print(week_number)\n",
    "\n",
    "menu = content[1:]\n",
    "print(menu)\n",
    "\n",
    "days = ['M', 'T', 'W', 'T', 'F'] \n",
    "\n",
    "print(week_number)\n",
    "\n",
    "for day, platter in zip(days, menu):\n",
    "    print(f'{day}: {platter.strip()}')\n",
    "    "
   ]
  },
  {
   "cell_type": "code",
   "execution_count": 60,
   "metadata": {},
   "outputs": [
    {
     "name": "stdout",
     "output_type": "stream",
     "text": [
      "Tusenlapp: 3\n",
      "Tvåhundralapp: 1\n",
      "Tiokrona: 1\n",
      "Enkrona: 4\n"
     ]
    }
   ],
   "source": [
    "def money_representation(amount):\n",
    "    bills_and_coins = {\n",
    "        \"Tusenlapp\": 1000,\n",
    "        \"Tvåhundralapp\": 200,\n",
    "        \"Tiokrona\": 10,\n",
    "        \"Enkrona\": 1\n",
    "    }\n",
    "\n",
    "    for name, value in bills_and_coins.items():\n",
    "        count = amount // value\n",
    "        print(f\"{name}: {count}\")\n",
    "        amount = amount % value\n",
    "\n",
    "# Test the function with the example amount\n",
    "money_representation(3214)\n"
   ]
  },
  {
   "cell_type": "code",
   "execution_count": 61,
   "metadata": {},
   "outputs": [
    {
     "name": "stdout",
     "output_type": "stream",
     "text": [
      "x x x x x \n",
      "x x x x \n",
      "x x x \n",
      "x x \n",
      "x \n"
     ]
    }
   ],
   "source": [
    "def pattern(n):\n",
    "    for i in range(n, 0, -1):\n",
    "        print('x ' * i)\n",
    "\n",
    "pattern(5)"
   ]
  },
  {
   "cell_type": "code",
   "execution_count": 62,
   "metadata": {},
   "outputs": [
    {
     "name": "stdout",
     "output_type": "stream",
     "text": [
      "area = 12.57\n",
      "circumference = 12.57\n"
     ]
    }
   ],
   "source": [
    "import math\n",
    "\n",
    "def circle(radius):\n",
    "    if not isinstance(radius, (int, float)):\n",
    "        raise TypeError('radius should be a number')\n",
    "    if radius < 0:\n",
    "        raise ValueError('radius should be positive')\n",
    "    area = math.pi * radius**2\n",
    "    circumference = 2 * math.pi * radius\n",
    "    return area, circumference\n",
    "\n",
    "try:\n",
    "    user_input = float(input('Enter the radius of the circle: '))\n",
    "    area, circumference = circle(user_input)\n",
    "    print(f'{area = :.2f}\\n{circumference = :.2f}')\n",
    "except TypeError as te:\n",
    "    print(te)\n",
    "except ValueError as ve:\n",
    "    print(ve)\n"
   ]
  },
  {
   "cell_type": "code",
   "execution_count": 63,
   "metadata": {},
   "outputs": [
    {
     "name": "stdout",
     "output_type": "stream",
     "text": [
      "Buddy says woof!\n",
      "Max says woof!\n",
      "Buddy ate\n"
     ]
    }
   ],
   "source": [
    "class Dog:\n",
    "    def __init__(self, name, age):\n",
    "        self.name = name\n",
    "        self.age = age\n",
    "\n",
    "    def bark(self):\n",
    "        print(f\"{self.name} says woof!\")\n",
    "\n",
    "    def eat(self):\n",
    "        print(f'{self.name} ate')\n",
    "\n",
    "# Create an instance of the Dog class\n",
    "my_dog = Dog(\"Buddy\", 3)\n",
    "my_dog1 = Dog('Max', 6)\n",
    "\n",
    "# Use the bark method\n",
    "my_dog.bark()\n",
    "my_dog1.bark()\n",
    "\n",
    "my_dog.eat()\n"
   ]
  },
  {
   "cell_type": "code",
   "execution_count": 64,
   "metadata": {},
   "outputs": [
    {
     "name": "stdout",
     "output_type": "stream",
     "text": [
      "5\n",
      "10\n",
      "78.53975\n"
     ]
    }
   ],
   "source": [
    "class Circle:\n",
    "    def __init__(self, radius):\n",
    "        self._radius = radius\n",
    "\n",
    "    @property\n",
    "    def radius(self):\n",
    "        return self._radius\n",
    "\n",
    "    @property\n",
    "    def diameter(self):\n",
    "        return self._radius * 2\n",
    "\n",
    "    @property\n",
    "    def area(self):\n",
    "        return 3.14159 * self._radius**2\n",
    "\n",
    "c = Circle(5)\n",
    "print(c.radius)     # Output: 5 (not c.radius() because of @property)\n",
    "print(c.diameter)   # Output: 10 (not c.diameter() because of @property)\n",
    "print(c.area)       # Output: 78.53975 (not c.area() because of @property)\n"
   ]
  },
  {
   "cell_type": "code",
   "execution_count": 65,
   "metadata": {},
   "outputs": [
    {
     "name": "stdout",
     "output_type": "stream",
     "text": [
      "10\n",
      "20\n",
      "314.159\n"
     ]
    }
   ],
   "source": [
    "class Circle:\n",
    "    def __init__(self, radius):\n",
    "        self._radius = radius\n",
    "\n",
    "    @property\n",
    "    def radius(self):\n",
    "        return self._radius\n",
    "\n",
    "    @radius.setter\n",
    "    def radius(self, value):\n",
    "        if value < 0:\n",
    "            raise ValueError(\"Radius cannot be negative\")\n",
    "        self._radius = value\n",
    "\n",
    "    @property\n",
    "    def diameter(self):\n",
    "        return self._radius * 2\n",
    "\n",
    "    @property\n",
    "    def area(self):\n",
    "        return 3.14159 * self._radius**2\n",
    "\n",
    "c = Circle(5)\n",
    "c.radius = 10  # This is now allowed because we defined a setter for radius\n",
    "print(c.radius)     # Output: 10\n",
    "print(c.diameter)   # Output: 20\n",
    "print(c.area)       # Output: 314.159\n"
   ]
  },
  {
   "cell_type": "code",
   "execution_count": 66,
   "metadata": {},
   "outputs": [
    {
     "name": "stdout",
     "output_type": "stream",
     "text": [
      "5 feet = 1.524 m\n",
      "5 inch = 12.7 cm\n",
      "5 pounds = 2.27 kg\n"
     ]
    },
    {
     "data": {
      "text/plain": [
       "'UnitUS(value=5)'"
      ]
     },
     "execution_count": 66,
     "metadata": {},
     "output_type": "execute_result"
    }
   ],
   "source": [
    "class UnitUS:\n",
    "    def __init__(self, value):\n",
    "        self.value = value\n",
    "\n",
    "    @property\n",
    "    def value(self):\n",
    "        return self._value\n",
    "\n",
    "    @value.setter\n",
    "    def value(self, value):\n",
    "        if not isinstance(value, (int, float)):\n",
    "            raise TypeError(\"Value should be a number (int or float)\")\n",
    "        if value < 0:\n",
    "            raise ValueError(\"Value cannot be negative\")\n",
    "        self._value = value\n",
    "\n",
    "    def inch_to_cm(self):\n",
    "        return self.value * 2.54\n",
    "\n",
    "    def foot_to_meters(self):\n",
    "        return self.value * 0.3048\n",
    "\n",
    "    def pound_to_kg(self):\n",
    "        return self.value * 0.45359237\n",
    "\n",
    "    def __repr__(self):\n",
    "        return f\"UnitUS(value={self.value})\"\n",
    "\n",
    "    \n",
    "units = UnitUS(5)\n",
    "print(f\"5 feet = {units.foot_to_meters()} m\")\n",
    "print(f\"5 inch = {units.inch_to_cm()} cm\")\n",
    "print(f\"5 pounds = {units.pound_to_kg():.2f} kg\")\n",
    "units.__repr__()"
   ]
  },
  {
   "cell_type": "code",
   "execution_count": 9,
   "metadata": {},
   "outputs": [
    {
     "name": "stdout",
     "output_type": "stream",
     "text": [
      "Person(name=elias, age=38, email=elias@email.com)\n",
      "elias 38 elias@email.com\n"
     ]
    }
   ],
   "source": [
    "class Person:\n",
    "    def __init__(self, name, age, email):\n",
    "        self.name = name\n",
    "        self.age = age\n",
    "        self.email = email\n",
    "\n",
    "    @property\n",
    "    def name(self):\n",
    "        return self._name\n",
    "    \n",
    "    @name.setter\n",
    "    def name(self, name):\n",
    "        if not isinstance(name, (str)):\n",
    "            raise TypeError('name must be a string')\n",
    "        self._name = name\n",
    "\n",
    "    @property \n",
    "    def age(self):\n",
    "        return self._age\n",
    "    \n",
    "    @age.setter\n",
    "    def age(self, age):\n",
    "        if not isinstance(age, (int, float)):\n",
    "            raise TypeError('age must be a number')\n",
    "        if age <= 0 or age >= 125:\n",
    "            raise ValueError('age must be positive number between 0 and 125')\n",
    "        self._age = age\n",
    "        \n",
    "    @property\n",
    "    def email(self):\n",
    "        return self._email\n",
    "    \n",
    "    @email.setter\n",
    "    def email(self, email):\n",
    "        if '@' not in email:\n",
    "            raise ValueError('invalid email address: must contain @ symbol')\n",
    "        self._email = email\n",
    "\n",
    "    def __repr__(self) -> str:\n",
    "        return f'Person(name={self.name}, age={self.age}, email={self.email})'\n",
    "    \n",
    "    def say_hello(self):\n",
    "        return f'Hi, my name is {self.name}, I am {self.age} years old, my email address is {self.email}'\n",
    "    \n",
    "\n",
    "p = Person('elias', 38, 'elias@email.com')\n",
    "print(p)\n",
    "print(p.name, p.age, p.email)"
   ]
  },
  {
   "cell_type": "code",
   "execution_count": 12,
   "metadata": {},
   "outputs": [
    {
     "data": {
      "text/plain": [
       "'Yo, I am a student, my name is tony, I am 23 years old, my email address is tony@email.com'"
      ]
     },
     "execution_count": 12,
     "metadata": {},
     "output_type": "execute_result"
    }
   ],
   "source": [
    "class Student(Person):\n",
    "    def study(self):\n",
    "        return 'study...study...study...more study'\n",
    "    \n",
    "    def say_hello(self):\n",
    "        return f'Yo, I am a student, my name is {self.name}, I am {self.age} years old, my email address is {self.email}'\n",
    "    \n",
    "student1 = Student('tony', 23, 'tony@email.com')\n",
    "student1.say_hello()"
   ]
  },
  {
   "cell_type": "code",
   "execution_count": null,
   "metadata": {},
   "outputs": [],
   "source": []
  }
 ],
 "metadata": {
  "kernelspec": {
   "display_name": "Python 3.9.13 ('Python-Elias-El-Haddad-KdAe7nXC')",
   "language": "python",
   "name": "python3"
  },
  "language_info": {
   "codemirror_mode": {
    "name": "ipython",
    "version": 3
   },
   "file_extension": ".py",
   "mimetype": "text/x-python",
   "name": "python",
   "nbconvert_exporter": "python",
   "pygments_lexer": "ipython3",
   "version": "3.9.13"
  },
  "orig_nbformat": 4,
  "vscode": {
   "interpreter": {
    "hash": "e66b0b6841b8a65024e468e80548b1ced47ff1ba5bbf1edee51c862e3cd59c08"
   }
  }
 },
 "nbformat": 4,
 "nbformat_minor": 2
}
