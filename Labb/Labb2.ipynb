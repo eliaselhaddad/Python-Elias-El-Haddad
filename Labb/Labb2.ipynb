{
 "cells": [
  {
   "cell_type": "markdown",
   "metadata": {},
   "source": [
    "### Read the data"
   ]
  },
  {
   "cell_type": "code",
   "execution_count": 298,
   "metadata": {},
   "outputs": [],
   "source": [
    "path = \"../Data/datapoints.txt\"\n",
    "\n",
    "with open(path, \"r\") as f_read:\n",
    "    data = f_read.read()\n",
    "\n",
    "import re\n",
    "\n",
    "new_path = \"../Data/datapoints_clean.txt\"     \n",
    "with open(path, \"r\") as f_read, open(new_path, \"w\") as f_write:\n",
    "    \n",
    "    for lines in f_read:\n",
    "        f_write.write(lines)\n",
    "        \n",
    "        "
   ]
  },
  {
   "cell_type": "code",
   "execution_count": null,
   "metadata": {},
   "outputs": [],
   "source": [
    "# new_path = \"../Data/datapoints_clean.txt\"\n",
    "\n",
    "# with open(new_path, \"w\") as f_write:\n",
    "#     for x, index in enumerate(data_lst): # change data to data_lst in the first cell\n",
    "#         if x not in [0]:\n",
    "#             f_write.write(index)\n",
    "    \n",
    "#     print(data_lst)"
   ]
  }
 ],
 "metadata": {
  "kernelspec": {
   "display_name": "Python 3.9.13 ('Python-Elias-El-Haddad-KdAe7nXC')",
   "language": "python",
   "name": "python3"
  },
  "language_info": {
   "codemirror_mode": {
    "name": "ipython",
    "version": 3
   },
   "file_extension": ".py",
   "mimetype": "text/x-python",
   "name": "python",
   "nbconvert_exporter": "python",
   "pygments_lexer": "ipython3",
   "version": "3.9.13"
  },
  "orig_nbformat": 4,
  "vscode": {
   "interpreter": {
    "hash": "e66b0b6841b8a65024e468e80548b1ced47ff1ba5bbf1edee51c862e3cd59c08"
   }
  }
 },
 "nbformat": 4,
 "nbformat_minor": 2
}
