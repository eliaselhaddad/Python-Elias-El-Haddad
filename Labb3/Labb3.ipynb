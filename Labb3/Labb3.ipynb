{
 "cells": [
  {
   "cell_type": "code",
   "execution_count": 4,
   "metadata": {},
   "outputs": [
    {
     "ename": "TypeError",
     "evalue": "x must be a float or int not, <class 'str'>",
     "output_type": "error",
     "traceback": [
      "\u001b[1;31m---------------------------------------------------------------------------\u001b[0m",
      "\u001b[1;31mTypeError\u001b[0m                                 Traceback (most recent call last)",
      "Cell \u001b[1;32mIn [4], line 3\u001b[0m\n\u001b[0;32m      1\u001b[0m \u001b[38;5;28;01mfrom\u001b[39;00m \u001b[38;5;21;01mgeometric_shapes\u001b[39;00m \u001b[38;5;28;01mimport\u001b[39;00m Circle\n\u001b[1;32m----> 3\u001b[0m c1 \u001b[38;5;241m=\u001b[39m \u001b[43mCircle\u001b[49m\u001b[43m(\u001b[49m\u001b[38;5;124;43m'\u001b[39;49m\u001b[38;5;124;43m1\u001b[39;49m\u001b[38;5;124;43m'\u001b[39;49m\u001b[43m,\u001b[49m\u001b[38;5;241;43m1\u001b[39;49m\u001b[43m,\u001b[49m\u001b[38;5;241;43m1\u001b[39;49m\u001b[43m)\u001b[49m \n\u001b[0;32m      4\u001b[0m c2 \u001b[38;5;241m=\u001b[39m Circle(\u001b[38;5;241m0\u001b[39m,\u001b[38;5;241m0\u001b[39m,\u001b[38;5;241m2\u001b[39m)\n\u001b[0;32m      5\u001b[0m \u001b[38;5;28mprint\u001b[39m(c1\u001b[38;5;241m.\u001b[39marea)\n",
      "File \u001b[1;32mc:\\Users\\hadda\\OneDrive\\Documents\\GitHub\\Python-Elias-El-Haddad\\Labb3\\geometric_shapes.py:7\u001b[0m, in \u001b[0;36mCircle.__init__\u001b[1;34m(self, x, y, radius)\u001b[0m\n\u001b[0;32m      6\u001b[0m \u001b[39mdef\u001b[39;00m \u001b[39m__init__\u001b[39m(\u001b[39mself\u001b[39m, x: \u001b[39mfloat\u001b[39m, y: \u001b[39mfloat\u001b[39m, radius: \u001b[39mfloat\u001b[39m) \u001b[39m-\u001b[39m\u001b[39m>\u001b[39m \u001b[39mNone\u001b[39;00m:\n\u001b[1;32m----> 7\u001b[0m     \u001b[39mself\u001b[39;49m\u001b[39m.\u001b[39;49mx \u001b[39m=\u001b[39m x\n\u001b[0;32m      8\u001b[0m     \u001b[39mself\u001b[39m\u001b[39m.\u001b[39my \u001b[39m=\u001b[39m y\n\u001b[0;32m      9\u001b[0m     \u001b[39mself\u001b[39m\u001b[39m.\u001b[39mradius \u001b[39m=\u001b[39m radius\n",
      "File \u001b[1;32mc:\\Users\\hadda\\OneDrive\\Documents\\GitHub\\Python-Elias-El-Haddad\\Labb3\\geometric_shapes.py:18\u001b[0m, in \u001b[0;36mCircle.x\u001b[1;34m(self, value)\u001b[0m\n\u001b[0;32m     15\u001b[0m \u001b[39m@x\u001b[39m\u001b[39m.\u001b[39msetter\n\u001b[0;32m     16\u001b[0m \u001b[39mdef\u001b[39;00m \u001b[39mx\u001b[39m(\u001b[39mself\u001b[39m, value: \u001b[39mfloat\u001b[39m) \u001b[39m-\u001b[39m\u001b[39m>\u001b[39m \u001b[39mNone\u001b[39;00m:\n\u001b[0;32m     17\u001b[0m     \u001b[39mif\u001b[39;00m \u001b[39mnot\u001b[39;00m \u001b[39misinstance\u001b[39m(value, (\u001b[39mfloat\u001b[39m, \u001b[39mint\u001b[39m)):\n\u001b[1;32m---> 18\u001b[0m         \u001b[39mraise\u001b[39;00m \u001b[39mTypeError\u001b[39;00m(\u001b[39mf\u001b[39m\u001b[39m\"\u001b[39m\u001b[39mx must be a float or int not, \u001b[39m\u001b[39m{\u001b[39;00m\u001b[39mtype\u001b[39m(value)\u001b[39m}\u001b[39;00m\u001b[39m\"\u001b[39m)\n\u001b[0;32m     19\u001b[0m     \u001b[39mself\u001b[39m\u001b[39m.\u001b[39m_x \u001b[39m=\u001b[39m value\n",
      "\u001b[1;31mTypeError\u001b[0m: x must be a float or int not, <class 'str'>"
     ]
    }
   ],
   "source": [
    "from geometric_shapes import Circle\n",
    "\n",
    "try:\n",
    "c1 = Circle('1',1,1) \n",
    "except \n",
    "c2 = Circle(0,0,2)\n",
    "print(c1.area)\n",
    "print(c2.circumference)\n",
    "# rektangel = Rectangle(x=0,y=0,side1=1, side2=1)\n",
    "print(c1>=c2)\n",
    "# print(cirkel2==rektangel) # False\n",
    "# print(cirkel1.is_inside(0.5, 0.5)) # True\n",
    "# cirkel1.translate(5,5)\n",
    "# print(cirkel1.is_inside(0.5, 0.5)) # False\n",
    "# cirkel1.translate(\"TRE\",5) # ge ValueError med lämplig kommentar\n"
   ]
  }
 ],
 "metadata": {
  "kernelspec": {
   "display_name": "Python 3.9.13 ('Python-Elias-El-Haddad-KdAe7nXC')",
   "language": "python",
   "name": "python3"
  },
  "language_info": {
   "codemirror_mode": {
    "name": "ipython",
    "version": 3
   },
   "file_extension": ".py",
   "mimetype": "text/x-python",
   "name": "python",
   "nbconvert_exporter": "python",
   "pygments_lexer": "ipython3",
   "version": "3.9.13"
  },
  "orig_nbformat": 4,
  "vscode": {
   "interpreter": {
    "hash": "e66b0b6841b8a65024e468e80548b1ced47ff1ba5bbf1edee51c862e3cd59c08"
   }
  }
 },
 "nbformat": 4,
 "nbformat_minor": 2
}
