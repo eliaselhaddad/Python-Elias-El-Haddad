{
 "cells": [
  {
   "cell_type": "code",
   "execution_count": 1,
   "metadata": {},
   "outputs": [],
   "source": [
    "from geometric_shapes import Circle\n",
    "from geometric_shapes import Rectangle\n",
    "\n",
    "circle1 = Circle(x= 0, y= 0, radius= 1)\n",
    "circle2 = Circle(x= 1, y= 1, radius= 1)\n",
    "rectangle = Rectangle(x= 0, y= 0, width= 1, height= 1)"
   ]
  },
  {
   "cell_type": "code",
   "execution_count": 2,
   "metadata": {},
   "outputs": [
    {
     "name": "stdout",
     "output_type": "stream",
     "text": [
      "circle1.area = 3.141592653589793\n",
      "circle1.circumference = 6.283185307179586\n",
      "rectangle.area = 1\n",
      "rectangle.perimeter = 4\n",
      "circle1 == circle2 = True\n",
      "circle1 >= circle2 = True\n",
      "circle1 < circle2 = False\n",
      "circle2 == rectangle = False\n",
      "circle1.is_inside(0.5, 0.5) = True\n",
      "rectangle.is_inside(0.5, 0.5) = True\n",
      "circle1.is_circle_unit() = True\n",
      "rectangle.is_square() = True\n",
      "circle1.is_inside(0.5, 0.5) = False\n"
     ]
    }
   ],
   "source": [
    "print(f\"{circle1.area = }\")\n",
    "print(f\"{circle1.circumference = }\")\n",
    "print(f\"{rectangle.area = }\")\n",
    "print(f\"{rectangle.perimeter = }\")\n",
    "print(f\"{circle1 == circle2 = }\")\n",
    "print(f\"{circle1 >= circle2 = }\")\n",
    "print(f\"{circle1 < circle2 = }\")\n",
    "print(f\"{circle2 == rectangle = }\")\n",
    "print(f\"{circle1.is_inside(0.5, 0.5) = }\")\n",
    "print(f\"{rectangle.is_inside(0.5, 0.5) = }\")\n",
    "print(f\"{circle1.is_circle_unit() = }\")\n",
    "print(f\"{rectangle.is_square() = }\")\n",
    "\n",
    "circle1.translate(5, 5)\n",
    "print(f\"{circle1.is_inside(0.5, 0.5) = }\")"
   ]
  },
  {
   "cell_type": "code",
   "execution_count": 3,
   "metadata": {},
   "outputs": [
    {
     "name": "stdout",
     "output_type": "stream",
     "text": [
      "width must be positive\n",
      "x must be int or float\n",
      "x must be int or float\n",
      "x must be int or float\n",
      "y must be int or float\n"
     ]
    }
   ],
   "source": [
    "try:\n",
    "    rectangle = Rectangle(x= 0, y= 0, width= -1, height= 1)\n",
    "except ValueError as err:\n",
    "    print(err)\n",
    "\n",
    "try:\n",
    "    circle1 = Circle(\"one\", 1, 1)\n",
    "except TypeError as err:\n",
    "    print(err)\n",
    "\n",
    "try:\n",
    "    circle1.translate(\"five\", 5)\n",
    "except TypeError as err:\n",
    "    print(err)\n",
    "\n",
    "try:\n",
    "    circle1.is_inside(\"four\", 2)\n",
    "except TypeError as err:\n",
    "    print(err)\n",
    "\n",
    "try:\n",
    "    rectangle.is_inside(2, \"six\")\n",
    "except TypeError as err:\n",
    "    print(err)"
   ]
  }
 ],
 "metadata": {
  "kernelspec": {
   "display_name": "Python 3.9.13 ('Python-Elias-El-Haddad-KdAe7nXC')",
   "language": "python",
   "name": "python3"
  },
  "language_info": {
   "codemirror_mode": {
    "name": "ipython",
    "version": 3
   },
   "file_extension": ".py",
   "mimetype": "text/x-python",
   "name": "python",
   "nbconvert_exporter": "python",
   "pygments_lexer": "ipython3",
   "version": "3.9.13"
  },
  "orig_nbformat": 4,
  "vscode": {
   "interpreter": {
    "hash": "e66b0b6841b8a65024e468e80548b1ced47ff1ba5bbf1edee51c862e3cd59c08"
   }
  }
 },
 "nbformat": 4,
 "nbformat_minor": 2
}
