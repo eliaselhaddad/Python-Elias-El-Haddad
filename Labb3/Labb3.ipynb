{
 "cells": [
  {
   "cell_type": "code",
   "execution_count": 2,
   "metadata": {},
   "outputs": [
    {
     "name": "stdout",
     "output_type": "stream",
     "text": [
      "circle1.area = 3.141592653589793\n",
      "circle1.circumference = 6.283185307179586\n",
      "rectangle.area = 1\n",
      "rectangle.perimeter = 4\n",
      "circle1 == circle2 = True\n",
      "circle1 >= circle2 = True\n",
      "circle1 < circle2 = False\n",
      "circle2 == rectangle = False\n",
      "circle1.is_inside(0.5, 0.5) = True\n",
      "rectangle.is_inside(0.5, 0.5) = True\n",
      "circle1.is_circle_unit() = True\n",
      "rectangle.is_square() = True\n",
      "circle1.is_inside(0.5, 0.5) = False\n"
     ]
    },
    {
     "ename": "TypeError",
     "evalue": "x must be int or float",
     "output_type": "error",
     "traceback": [
      "\u001b[1;31m---------------------------------------------------------------------------\u001b[0m",
      "\u001b[1;31mTypeError\u001b[0m                                 Traceback (most recent call last)",
      "Cell \u001b[1;32mIn [2], line 23\u001b[0m\n\u001b[0;32m     21\u001b[0m circle1\u001b[39m.\u001b[39mtranslate(\u001b[39m5\u001b[39m, \u001b[39m5\u001b[39m)\n\u001b[0;32m     22\u001b[0m \u001b[39mprint\u001b[39m(\u001b[39mf\u001b[39m\u001b[39m\"\u001b[39m\u001b[39m{\u001b[39;00mcircle1\u001b[39m.\u001b[39mis_inside(\u001b[39m0.5\u001b[39m, \u001b[39m0.5\u001b[39m) \u001b[39m= }\u001b[39;00m\u001b[39m\"\u001b[39m)\n\u001b[1;32m---> 23\u001b[0m circle1\u001b[39m.\u001b[39;49mtranslate(\u001b[39m\"\u001b[39;49m\u001b[39mfive\u001b[39;49m\u001b[39m\"\u001b[39;49m, \u001b[39m5\u001b[39;49m)\n",
      "File \u001b[1;32mc:\\Users\\hadda\\OneDrive\\Documents\\GitHub\\Python-Elias-El-Haddad\\Labb3\\geometric_shapes.py:47\u001b[0m, in \u001b[0;36mShapes.translate\u001b[1;34m(self, x, y)\u001b[0m\n\u001b[0;32m     45\u001b[0m \u001b[39mdef\u001b[39;00m \u001b[39mtranslate\u001b[39m(\u001b[39mself\u001b[39m, x, y) \u001b[39m-\u001b[39m\u001b[39m>\u001b[39m \u001b[39mNone\u001b[39;00m:\n\u001b[0;32m     46\u001b[0m     \u001b[39mif\u001b[39;00m \u001b[39mnot\u001b[39;00m \u001b[39misinstance\u001b[39m(x, (\u001b[39mint\u001b[39m, \u001b[39mfloat\u001b[39m)):\n\u001b[1;32m---> 47\u001b[0m         \u001b[39mraise\u001b[39;00m \u001b[39mTypeError\u001b[39;00m(\u001b[39m\"\u001b[39m\u001b[39mx must be int or float\u001b[39m\u001b[39m\"\u001b[39m)\n\u001b[0;32m     48\u001b[0m     \u001b[39mif\u001b[39;00m \u001b[39mnot\u001b[39;00m \u001b[39misinstance\u001b[39m(y, (\u001b[39mint\u001b[39m, \u001b[39mfloat\u001b[39m)):\n\u001b[0;32m     49\u001b[0m         \u001b[39mraise\u001b[39;00m \u001b[39mTypeError\u001b[39;00m(\u001b[39m\"\u001b[39m\u001b[39my must be int or float\u001b[39m\u001b[39m\"\u001b[39m)\n",
      "\u001b[1;31mTypeError\u001b[0m: x must be int or float"
     ]
    }
   ],
   "source": [
    "from geometric_shapes import Circle\n",
    "from geometric_shapes import Rectangle\n",
    "\n",
    "circle1 = Circle(x= 0, y= 0, radius= 1)\n",
    "circle2 = Circle(x= 1, y= 1, radius= 1)\n",
    "rectangle = Rectangle(x= 0, y= 0, width= 1, height= 1)\n",
    "\n",
    "print(f\"{circle1.area = }\")\n",
    "print(f\"{circle1.circumference = }\")\n",
    "print(f\"{rectangle.area = }\")\n",
    "print(f\"{rectangle.perimeter = }\")\n",
    "print(f\"{circle1 == circle2 = }\")\n",
    "print(f\"{circle1 >= circle2 = }\")\n",
    "print(f\"{circle1 < circle2 = }\")\n",
    "print(f\"{circle2 == rectangle = }\")\n",
    "print(f\"{circle1.is_inside(0.5, 0.5) = }\")\n",
    "print(f\"{rectangle.is_inside(0.5, 0.5) = }\")\n",
    "print(f\"{circle1.is_circle_unit() = }\")\n",
    "print(f\"{rectangle.is_square() = }\")\n",
    "\n",
    "circle1.translate(5, 5)\n",
    "print(f\"{circle1.is_inside(0.5, 0.5) = }\")\n",
    "circle1.translate(\"five\", 5)"
   ]
  }
 ],
 "metadata": {
  "kernelspec": {
   "display_name": "Python 3.9.13 ('Python-Elias-El-Haddad-KdAe7nXC')",
   "language": "python",
   "name": "python3"
  },
  "language_info": {
   "codemirror_mode": {
    "name": "ipython",
    "version": 3
   },
   "file_extension": ".py",
   "mimetype": "text/x-python",
   "name": "python",
   "nbconvert_exporter": "python",
   "pygments_lexer": "ipython3",
   "version": "3.9.13"
  },
  "orig_nbformat": 4,
  "vscode": {
   "interpreter": {
    "hash": "e66b0b6841b8a65024e468e80548b1ced47ff1ba5bbf1edee51c862e3cd59c08"
   }
  }
 },
 "nbformat": 4,
 "nbformat_minor": 2
}
