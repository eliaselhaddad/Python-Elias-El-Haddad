{
 "cells": [
  {
   "cell_type": "code",
   "execution_count": 90,
   "metadata": {},
   "outputs": [
    {
     "name": "stdout",
     "output_type": "stream",
     "text": [
      "113.09733552923255\n",
      "12.566370614359172\n",
      "True\n",
      "True\n"
     ]
    }
   ],
   "source": [
    "# from geometric_shapes import Circle\n",
    "from math import pi\n",
    "\n",
    "class Circle:\n",
    "\n",
    "    def __init__(self, x: float, y: float, r: float) -> None:\n",
    "        self.x = x\n",
    "        self.y = y\n",
    "        self.r = r\n",
    "\n",
    "    @property\n",
    "    def area(self):\n",
    "        return pi*self.r**2\n",
    "\n",
    "    @property\n",
    "    def circumference(self):\n",
    "        return 2*pi*self.r\n",
    "\n",
    "    def __eq__(self, other) -> bool:\n",
    "        if self.r == other.r:\n",
    "            return True\n",
    "        else:\n",
    "            return False\n",
    "\n",
    "    def __lt__(self, other):\n",
    "        if self.r < other.r:\n",
    "            return True\n",
    "        else: \n",
    "            return False\n",
    "\n",
    "    def __gt__(self, other):\n",
    "        if self.r > other.r:\n",
    "            return True\n",
    "        else:\n",
    "            return False\n",
    "\n",
    "    def __le__(self, other):\n",
    "        if self.r <= other.r:\n",
    "            return True\n",
    "        else:\n",
    "            return False\n",
    "\n",
    "    def __ge__(self, other):\n",
    "        if self.r >= other.r:\n",
    "            return True\n",
    "        else:\n",
    "            return False\n",
    "\n",
    "c1 = Circle(1,1,6) \n",
    "c2 = Circle(0,5,2)\n",
    "print(c1.area)\n",
    "print(c2.circumference)\n",
    "# rektangel = Rectangle(x=0,y=0,side1=1, side2=1)\n",
    "print(c1 > c2)\n",
    "print(c1 >= c2)\n",
    "# print(cirkel2==rektangel) # False\n",
    "# print(cirkel1.is_inside(0.5, 0.5)) # True\n",
    "# cirkel1.translate(5,5)\n",
    "# print(cirkel1.is_inside(0.5, 0.5)) # False\n",
    "# cirkel1.translate(\"TRE\",5) # ge ValueError med lämplig kommentar"
   ]
  }
 ],
 "metadata": {
  "kernelspec": {
   "display_name": "Python 3.9.13 ('Python-Elias-El-Haddad-KdAe7nXC')",
   "language": "python",
   "name": "python3"
  },
  "language_info": {
   "codemirror_mode": {
    "name": "ipython",
    "version": 3
   },
   "file_extension": ".py",
   "mimetype": "text/x-python",
   "name": "python",
   "nbconvert_exporter": "python",
   "pygments_lexer": "ipython3",
   "version": "3.9.13"
  },
  "orig_nbformat": 4,
  "vscode": {
   "interpreter": {
    "hash": "e66b0b6841b8a65024e468e80548b1ced47ff1ba5bbf1edee51c862e3cd59c08"
   }
  }
 },
 "nbformat": 4,
 "nbformat_minor": 2
}
